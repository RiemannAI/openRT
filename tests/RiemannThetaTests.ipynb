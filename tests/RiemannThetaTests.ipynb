{
 "cells": [
  {
   "cell_type": "code",
   "execution_count": 1,
   "metadata": {},
   "outputs": [],
   "source": [
    "from rtbm.riemann_theta.riemann_theta import RiemannTheta\n",
    "\n",
    "import numpy as np\n",
    "import time"
   ]
  },
  {
   "cell_type": "markdown",
   "metadata": {},
   "source": [
    "# Phase I (mode 1)"
   ]
  },
  {
   "cell_type": "code",
   "execution_count": 2,
   "metadata": {},
   "outputs": [
    {
     "name": "stdout",
     "output_type": "stream",
     "text": [
      "0.069062\n",
      "0.056148\n"
     ]
    },
    {
     "data": {
      "text/plain": [
       "0.0"
      ]
     },
     "execution_count": 2,
     "metadata": {},
     "output_type": "execute_result"
    }
   ],
   "source": [
    "# RT\n",
    "Q=np.zeros((1,1), dtype=complex)\n",
    "Q[0,0]=0.1j\n",
    "\n",
    "X = 1j*np.random.uniform(-100,100,(15000,1))\n",
    "\n",
    "tic = time.clock()\n",
    "t1=RiemannTheta.log_eval(X,Q, mode=0)\n",
    "toc = time.clock()\n",
    "#print(t1)\n",
    "print(toc-tic)\n",
    "\n",
    "tic = time.clock()\n",
    "t2=RiemannTheta.log_eval(X,Q, mode=1)\n",
    "toc = time.clock()\n",
    "#print(t2)\n",
    "\n",
    "print(toc-tic)\n",
    "\n",
    "x=t1-t2\n",
    "max(abs(x))"
   ]
  },
  {
   "cell_type": "code",
   "execution_count": 3,
   "metadata": {},
   "outputs": [
    {
     "name": "stdout",
     "output_type": "stream",
     "text": [
      "0.077268\n",
      "0.066748\n"
     ]
    },
    {
     "data": {
      "text/plain": [
       "0.0"
      ]
     },
     "execution_count": 3,
     "metadata": {},
     "output_type": "execute_result"
    }
   ],
   "source": [
    "# Derivatives\n",
    "tic = time.clock()\n",
    "t1=RiemannTheta.log_eval(X,Q, mode=0, derivs=[[1]])\n",
    "toc = time.clock()\n",
    "#print(t1)\n",
    "print(toc-tic)\n",
    "\n",
    "tic = time.clock()\n",
    "t2=RiemannTheta.log_eval(X,Q, mode=1, derivs=[[1]])\n",
    "toc = time.clock()\n",
    "#print(t2)\n",
    "\n",
    "print(toc-tic)\n",
    "\n",
    "x=t1-t2\n",
    "max(abs(x))"
   ]
  },
  {
   "cell_type": "code",
   "execution_count": 20,
   "metadata": {},
   "outputs": [
    {
     "name": "stdout",
     "output_type": "stream",
     "text": [
      "[ -6743910.34834023+0.j -30204242.32085261+0.j -18465046.6032291 +0.j ...\n",
      " -34055009.63924482+0.j -13132294.08798072+0.j  -5744693.64561704+0.j]\n",
      "0.042393\n",
      "[ -6743910.34834023+0.j -30204242.32085261+0.j -18465046.6032291 +0.j ...\n",
      " -34055009.63924481+0.j -13132294.08798072+0.j  -5744693.64561704+0.j]\n",
      "0.017219\n"
     ]
    },
    {
     "data": {
      "text/plain": [
       "0.000000007450580596923828"
      ]
     },
     "execution_count": 20,
     "metadata": {},
     "output_type": "execute_result"
    }
   ],
   "source": [
    "# Ratio \n",
    "# Derivatives\n",
    "tic = time.clock()\n",
    "t1=RiemannTheta.normalized_eval(X,Q, mode=0, derivs=[[1,1]])\n",
    "toc = time.clock()\n",
    "print(t1)\n",
    "print(toc-tic)\n",
    "\n",
    "tic = time.clock()\n",
    "t2=RiemannTheta.normalized_eval(X,Q, mode=1, derivs=[[1,1]])\n",
    "toc = time.clock()\n",
    "print(t2)\n",
    "\n",
    "print(toc-tic)\n",
    "\n",
    "x=t1-t2\n",
    "max(abs(x))"
   ]
  },
  {
   "cell_type": "code",
   "execution_count": 19,
   "metadata": {},
   "outputs": [
    {
     "name": "stdout",
     "output_type": "stream",
     "text": [
      "[[        0.        +2.59689190e+03j         0.        +5.49583292e+03j\n",
      "          0.        -4.29709015e+03j ...         0.        +5.83566164e+03j\n",
      "          0.        +3.62384206e+03j         0.        +2.39679595e+03j]\n",
      " [ -6743910.34834024+0.00000000e+00j -30204242.32085257+0.00000000e+00j\n",
      "  -18465046.60322909+0.00000000e+00j ... -34055009.63924479+0.00000000e+00j\n",
      "  -13132294.08798071+0.00000000e+00j  -5744693.64561707+0.00000000e+00j]\n",
      " [        0.        -1.75135325e+10j         0.        -1.65998160e+11j\n",
      "          0.        +7.93465099e+10j ...         0.        -1.98734247e+11j\n",
      "          0.        -4.75898150e+10j         0.        -1.37691596e+10j]]\n",
      "0.14764\n",
      "[[        0.        +2.59689190e+03j         0.        +5.49583292e+03j\n",
      "          0.        -4.29709015e+03j ...         0.        +5.83566164e+03j\n",
      "          0.        +3.62384206e+03j         0.        +2.39679595e+03j]\n",
      " [ -6743910.34834024+0.00000000e+00j -30204242.32085257+0.00000000e+00j\n",
      "  -18465046.60322909+0.00000000e+00j ... -34055009.63924479+0.00000000e+00j\n",
      "  -13132294.08798071+0.00000000e+00j  -5744693.64561707+0.00000000e+00j]\n",
      " [        0.        -1.75135325e+10j         0.        -1.65998160e+11j\n",
      "          0.        +7.93465099e+10j ...         0.        -1.98734247e+11j\n",
      "          0.        -4.75898150e+10j         0.        -1.37691596e+10j]]\n",
      "0.05769\n"
     ]
    },
    {
     "data": {
      "text/plain": [
       "0.000030517578125"
      ]
     },
     "execution_count": 19,
     "metadata": {},
     "output_type": "execute_result"
    }
   ],
   "source": [
    "# Ratio\n",
    "# Multi-derivatives\n",
    "\n",
    "tic = time.clock()\n",
    "t1=RiemannTheta.normalized_eval(X,Q, mode=0, derivs=np.array( [ [1], [1,1], [1,1,1] ]  )   )\n",
    "toc = time.clock()\n",
    "print(t1)\n",
    "print(toc-tic)\n",
    "\n",
    "\n",
    "tic = time.clock()\n",
    "t2=RiemannTheta.normalized_eval(X,Q, mode=1, derivs=np.array( [ [1], [1,1], [1,1,1] ]  )   )\n",
    "toc = time.clock()\n",
    "print(t2)\n",
    "\n",
    "print(toc-tic)\n",
    "\n",
    "x=t1-t2\n",
    "max(abs(x).flatten())"
   ]
  },
  {
   "cell_type": "code",
   "execution_count": 18,
   "metadata": {},
   "outputs": [
    {
     "data": {
      "text/plain": [
       "(2, 15000)"
      ]
     },
     "execution_count": 18,
     "metadata": {},
     "output_type": "execute_result"
    }
   ],
   "source": [
    "t1.shape"
   ]
  },
  {
   "cell_type": "markdown",
   "metadata": {},
   "source": [
    "# Phase II (mode 2)"
   ]
  },
  {
   "cell_type": "code",
   "execution_count": null,
   "metadata": {},
   "outputs": [],
   "source": [
    "# RT\n",
    "Q=np.zeros((1,1), dtype=complex)\n",
    "Q[0,0]=0.01j\n",
    "\n",
    "X = np.random.uniform(-1000,1000,(100000,1))\n",
    "\n",
    "tic = time.clock()\n",
    "t1=RiemannTheta.log_eval(X,Q, mode=0)\n",
    "toc = time.clock()\n",
    "print(t1)\n",
    "print(toc-tic)\n",
    "\n",
    "tic = time.clock()\n",
    "t2=RiemannTheta.log_eval(X,Q, mode=2)\n",
    "toc = time.clock()\n",
    "print(t2)\n",
    "\n",
    "print(toc-tic)\n",
    "\n",
    "x=t1-t2\n",
    "max(abs(x))"
   ]
  },
  {
   "cell_type": "code",
   "execution_count": null,
   "metadata": {},
   "outputs": [],
   "source": [
    "tic = time.clock()\n",
    "t1=RiemannTheta.log_eval(X,Q, mode=0, derivs=[[1]])\n",
    "toc = time.clock()\n",
    "print(t1)\n",
    "print(toc-tic)\n",
    "\n",
    "tic = time.clock()\n",
    "t2=RiemannTheta.log_eval(X,Q, mode=2, derivs=[[1]])\n",
    "toc = time.clock()\n",
    "print(t2)\n",
    "\n",
    "print(toc-tic)\n",
    "\n",
    "x=t1-t2\n",
    "max(abs(x))"
   ]
  },
  {
   "cell_type": "code",
   "execution_count": null,
   "metadata": {},
   "outputs": [],
   "source": [
    "# Ratio \n",
    "# Derivatives\n",
    "tic = time.clock()\n",
    "t1=RiemannTheta.normalized_eval(X,Q, mode=0, derivs=[[1]])\n",
    "toc = time.clock()\n",
    "print(t1)\n",
    "print(toc-tic)\n",
    "\n",
    "tic = time.clock()\n",
    "t2=RiemannTheta.normalized_eval(X,Q, mode=2, derivs=[[1]])\n",
    "toc = time.clock()\n",
    "print(t2)\n",
    "\n",
    "print(toc-tic)\n",
    "\n",
    "x=t1-t2\n",
    "max(abs(x))"
   ]
  },
  {
   "cell_type": "code",
   "execution_count": null,
   "metadata": {},
   "outputs": [],
   "source": []
  },
  {
   "cell_type": "code",
   "execution_count": null,
   "metadata": {},
   "outputs": [],
   "source": []
  }
 ],
 "metadata": {
  "kernelspec": {
   "display_name": "Python 2",
   "language": "python",
   "name": "python2"
  },
  "language_info": {
   "codemirror_mode": {
    "name": "ipython",
    "version": 2
   },
   "file_extension": ".py",
   "mimetype": "text/x-python",
   "name": "python",
   "nbconvert_exporter": "python",
   "pygments_lexer": "ipython2",
   "version": "2.7.6"
  }
 },
 "nbformat": 4,
 "nbformat_minor": 2
}

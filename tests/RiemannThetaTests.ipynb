{
 "cells": [
  {
   "cell_type": "code",
   "execution_count": 1,
   "metadata": {},
   "outputs": [],
   "source": [
    "from rtbm.riemann_theta.riemann_theta import RiemannTheta\n",
    "\n",
    "import numpy as np\n",
    "import time"
   ]
  },
  {
   "cell_type": "markdown",
   "metadata": {},
   "source": [
    "# Phase I (mode 1)"
   ]
  },
  {
   "cell_type": "code",
   "execution_count": 18,
   "metadata": {},
   "outputs": [
    {
     "name": "stdout",
     "output_type": "stream",
     "text": [
      "0.060475\n",
      "0.051506\n"
     ]
    },
    {
     "data": {
      "text/plain": [
       "0.0"
      ]
     },
     "execution_count": 18,
     "metadata": {},
     "output_type": "execute_result"
    }
   ],
   "source": [
    "# RT\n",
    "Q=np.zeros((1,1), dtype=complex)\n",
    "Q[0,0]=0.1j\n",
    "\n",
    "X = 1j*np.random.uniform(-100,100,(15000,1))\n",
    "\n",
    "tic = time.clock()\n",
    "t1=RiemannTheta.log_eval(X,Q, mode=0)\n",
    "toc = time.clock()\n",
    "#print(t1)\n",
    "print(toc-tic)\n",
    "\n",
    "tic = time.clock()\n",
    "t2=RiemannTheta.log_eval(X,Q, mode=1)\n",
    "toc = time.clock()\n",
    "#print(t2)\n",
    "\n",
    "print(toc-tic)\n",
    "\n",
    "x=t1-t2\n",
    "max(abs(x))"
   ]
  },
  {
   "cell_type": "code",
   "execution_count": 19,
   "metadata": {},
   "outputs": [
    {
     "name": "stdout",
     "output_type": "stream",
     "text": [
      "0.069045\n",
      "0.060207\n"
     ]
    },
    {
     "data": {
      "text/plain": [
       "0.0"
      ]
     },
     "execution_count": 19,
     "metadata": {},
     "output_type": "execute_result"
    }
   ],
   "source": [
    "# Derivatives\n",
    "tic = time.clock()\n",
    "t1=RiemannTheta.log_eval(X,Q, mode=0, derivs=[[1]])\n",
    "toc = time.clock()\n",
    "#print(t1)\n",
    "print(toc-tic)\n",
    "\n",
    "tic = time.clock()\n",
    "t2=RiemannTheta.log_eval(X,Q, mode=1, derivs=[[1]])\n",
    "toc = time.clock()\n",
    "#print(t2)\n",
    "\n",
    "print(toc-tic)\n",
    "\n",
    "x=t1-t2\n",
    "max(abs(x))"
   ]
  },
  {
   "cell_type": "code",
   "execution_count": 33,
   "metadata": {},
   "outputs": [
    {
     "name": "stdout",
     "output_type": "stream",
     "text": [
      "[0.-3593.98996662j 0.+2555.31672438j 0.+2143.84090438j ...\n",
      " 0. -989.47761356j 0.-5507.41031736j 0.+6062.69897214j]\n",
      "0.041723\n",
      "[0.-3593.98996662j 0.+2555.31672438j 0.+2143.84090438j ...\n",
      " 0. -989.47761356j 0.-5507.41031736j 0.+6062.69897214j]\n",
      "0.01817\n"
     ]
    },
    {
     "data": {
      "text/plain": [
       "0.0000000000009094947017729282"
      ]
     },
     "execution_count": 33,
     "metadata": {},
     "output_type": "execute_result"
    }
   ],
   "source": [
    "# Ratio \n",
    "# Derivatives\n",
    "tic = time.clock()\n",
    "t1=RiemannTheta.normalized_eval(X,Q, mode=0, derivs=[[1]])\n",
    "toc = time.clock()\n",
    "print(t1)\n",
    "print(toc-tic)\n",
    "\n",
    "tic = time.clock()\n",
    "t2=RiemannTheta.normalized_eval(X,Q, mode=1, derivs=[[1]])\n",
    "toc = time.clock()\n",
    "print(t2)\n",
    "\n",
    "print(toc-tic)\n",
    "\n",
    "x=t1-t2\n",
    "max(abs(x))"
   ]
  },
  {
   "cell_type": "code",
   "execution_count": 63,
   "metadata": {},
   "outputs": [
    {
     "name": "stdout",
     "output_type": "stream",
     "text": [
      "0.142657\n",
      "0.058248\n"
     ]
    },
    {
     "data": {
      "text/plain": [
       "0.000030517578125"
      ]
     },
     "execution_count": 63,
     "metadata": {},
     "output_type": "execute_result"
    }
   ],
   "source": [
    "# Ratio\n",
    "# Multi-derivatives\n",
    "\n",
    "tic = time.clock()\n",
    "t1=RiemannTheta.normalized_eval(X,Q, mode=0, derivs=np.array( [ [1], [1,1], [1,1,1] ]  )   )\n",
    "toc = time.clock()\n",
    "#print(t1)\n",
    "print(toc-tic)\n",
    "\n",
    "\n",
    "tic = time.clock()\n",
    "t2=RiemannTheta.normalized_eval(X,Q, mode=1, derivs=np.array( [ [1], [1,1], [1,1,1] ]  )   )\n",
    "toc = time.clock()\n",
    "#print(t2)\n",
    "\n",
    "print(toc-tic)\n",
    "\n",
    "x=t1-t2\n",
    "max(abs(x).flatten())"
   ]
  },
  {
   "cell_type": "markdown",
   "metadata": {},
   "source": [
    "# Phase II (mode 2)"
   ]
  },
  {
   "cell_type": "code",
   "execution_count": 71,
   "metadata": {},
   "outputs": [
    {
     "name": "stdout",
     "output_type": "stream",
     "text": [
      "[ -0.13113353+8.30590949e-18j -19.58437169+1.18661719e-08j\n",
      " -18.97621675+7.95421298e-09j ... -23.73104105-3.14159257e+00j\n",
      " -19.14360294+3.14159265e+00j -20.03175081+3.14159265e+00j]\n",
      "0.872431\n",
      "[ -0.13113353+8.30590949e-18j -19.58437169+1.18661719e-08j\n",
      " -18.97621675+7.95421298e-09j ... -23.73104105-3.14159257e+00j\n",
      " -19.14360294+3.14159265e+00j -20.03175081+3.14159265e+00j]\n",
      "0.40036\n"
     ]
    },
    {
     "data": {
      "text/plain": [
       "0.0"
      ]
     },
     "execution_count": 71,
     "metadata": {},
     "output_type": "execute_result"
    }
   ],
   "source": [
    "# RT\n",
    "Q=np.zeros((1,1), dtype=complex)\n",
    "Q[0,0]=0.01j\n",
    "\n",
    "X = np.random.uniform(-1000,1000,(100000,1))\n",
    "\n",
    "tic = time.clock()\n",
    "t1=RiemannTheta.log_eval(X,Q, mode=0)\n",
    "toc = time.clock()\n",
    "print(t1)\n",
    "print(toc-tic)\n",
    "\n",
    "tic = time.clock()\n",
    "t2=RiemannTheta.log_eval(X,Q, mode=2)\n",
    "toc = time.clock()\n",
    "print(t2)\n",
    "\n",
    "print(toc-tic)\n",
    "\n",
    "x=t1-t2\n",
    "max(abs(x))"
   ]
  },
  {
   "cell_type": "code",
   "execution_count": 69,
   "metadata": {},
   "outputs": [
    {
     "name": "stdout",
     "output_type": "stream",
     "text": [
      "[-22.59018986-3.14159007e+00j -25.35407471-3.14155616e+00j\n",
      " -22.75216295-3.14159198e+00j ... -21.70924032-3.14159028e+00j\n",
      "  -1.63942641-3.14159265e+00j  -0.0846966 -1.04552914e-15j]\n",
      "1.110256\n",
      "[-22.59018986-3.14159007e+00j -25.35407471-3.14155616e+00j\n",
      " -22.75216295-3.14159198e+00j ... -21.70924032-3.14159028e+00j\n",
      "  -1.63942641-3.14159265e+00j  -0.0846966 -1.04552914e-15j]\n",
      "0.496298\n"
     ]
    },
    {
     "data": {
      "text/plain": [
       "0.0"
      ]
     },
     "execution_count": 69,
     "metadata": {},
     "output_type": "execute_result"
    }
   ],
   "source": [
    "tic = time.clock()\n",
    "t1=RiemannTheta.log_eval(X,Q, mode=0, derivs=[[1]])\n",
    "toc = time.clock()\n",
    "print(t1)\n",
    "print(toc-tic)\n",
    "\n",
    "tic = time.clock()\n",
    "t2=RiemannTheta.log_eval(X,Q, mode=2, derivs=[[1]])\n",
    "toc = time.clock()\n",
    "print(t2)\n",
    "\n",
    "print(toc-tic)\n",
    "\n",
    "x=t1-t2\n",
    "max(abs(x))"
   ]
  },
  {
   "cell_type": "code",
   "execution_count": 8,
   "metadata": {},
   "outputs": [
    {
     "name": "stdout",
     "output_type": "stream",
     "text": [
      "[105.21544958-3.55681232e-03j  99.82786849-1.05358923e-14j\n",
      " -54.73341852-1.30371959e-14j ... 230.54678338-3.19125760e-03j\n",
      "   9.53899692+5.93264439e-04j 713.0646845 -2.16571112e-01j]\n",
      "1.515752\n",
      "[105.21544958-3.55681232e-03j  99.82786849-1.05358923e-14j\n",
      " -54.73341852-1.30371959e-14j ... 230.54678338-3.19125760e-03j\n",
      "   9.53899692+5.93264439e-04j 713.0646845 -2.16571112e-01j]\n",
      "0.486064\n"
     ]
    },
    {
     "data": {
      "text/plain": [
       "0.000000001862872509030306"
      ]
     },
     "execution_count": 8,
     "metadata": {},
     "output_type": "execute_result"
    }
   ],
   "source": [
    "# Ratio \n",
    "# Derivatives\n",
    "tic = time.clock()\n",
    "t1=RiemannTheta.normalized_eval(X,Q, mode=0, derivs=[[1]])\n",
    "toc = time.clock()\n",
    "print(t1)\n",
    "print(toc-tic)\n",
    "\n",
    "tic = time.clock()\n",
    "t2=RiemannTheta.normalized_eval(X,Q, mode=2, derivs=[[1]])\n",
    "toc = time.clock()\n",
    "print(t2)\n",
    "\n",
    "print(toc-tic)\n",
    "\n",
    "x=t1-t2\n",
    "max(abs(x))"
   ]
  },
  {
   "cell_type": "code",
   "execution_count": null,
   "metadata": {},
   "outputs": [],
   "source": []
  },
  {
   "cell_type": "code",
   "execution_count": null,
   "metadata": {},
   "outputs": [],
   "source": []
  }
 ],
 "metadata": {
  "kernelspec": {
   "display_name": "Python 2",
   "language": "python",
   "name": "python2"
  },
  "language_info": {
   "codemirror_mode": {
    "name": "ipython",
    "version": 2
   },
   "file_extension": ".py",
   "mimetype": "text/x-python",
   "name": "python",
   "nbconvert_exporter": "python",
   "pygments_lexer": "ipython2",
   "version": "2.7.6"
  }
 },
 "nbformat": 4,
 "nbformat_minor": 2
}

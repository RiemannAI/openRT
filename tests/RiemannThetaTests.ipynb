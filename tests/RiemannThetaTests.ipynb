{
 "cells": [
  {
   "cell_type": "code",
   "execution_count": 1,
   "metadata": {},
   "outputs": [
    {
     "name": "stdout",
     "output_type": "stream",
     "text": [
      "The history saving thread hit an unexpected error (DatabaseError('database disk image is malformed',)).History will not be written to the database.\n"
     ]
    }
   ],
   "source": [
    "from rtbm.riemann_theta.riemann_theta import RiemannTheta\n",
    "\n",
    "import numpy as np\n",
    "import time"
   ]
  },
  {
   "cell_type": "markdown",
   "metadata": {},
   "source": [
    "# Phase I (mode 1)"
   ]
  },
  {
   "cell_type": "code",
   "execution_count": 2,
   "metadata": {},
   "outputs": [
    {
     "name": "stdout",
     "output_type": "stream",
     "text": [
      "[  68297.91733347+0.j 2072727.15035844+0.j 1717065.41477390+0.j ...\n",
      " 1288239.88976531+0.j  255458.89530690+0.j 1377483.62018260+0.j]\n",
      "0.143451\n",
      "[  68297.91733347+0.j 2072727.15035844+0.j 1717065.41477390+0.j ...\n",
      " 1288239.88976531+0.j  255458.89530690+0.j 1377483.62018260+0.j]\n",
      "0.026583\n"
     ]
    },
    {
     "data": {
      "text/plain": [
       "0.0"
      ]
     },
     "execution_count": 2,
     "metadata": {},
     "output_type": "execute_result"
    }
   ],
   "source": [
    "# RT\n",
    "Q=np.zeros((1,1), dtype=complex)\n",
    "Q[0,0]=0.01j\n",
    "\n",
    "X = 1j*np.random.uniform(-100,100,(2500,1))\n",
    "\n",
    "tic = time.clock()\n",
    "t1=RiemannTheta.log_eval(X,Q, mode=0)\n",
    "toc = time.clock()\n",
    "print(t1)\n",
    "print(toc-tic)\n",
    "\n",
    "tic = time.clock()\n",
    "t2=RiemannTheta.log_eval(X,Q, mode=1)\n",
    "toc = time.clock()\n",
    "print(t2)\n",
    "\n",
    "print(toc-tic)\n",
    "\n",
    "x=t1-t2\n",
    "max(abs(x))"
   ]
  },
  {
   "cell_type": "code",
   "execution_count": 3,
   "metadata": {},
   "outputs": [
    {
     "name": "stdout",
     "output_type": "stream",
     "text": [
      "[  68307.05123111-1.57079633j 2072737.99064298-1.57079633j\n",
      " 1717076.16093406+1.57079633j ... 1288250.49225534-1.57079633j\n",
      "  255468.68880800+1.57079633j 1377494.25616345-1.57079633j]\n",
      "0.092017\n",
      "[  68307.05123111-1.57079633j 2072737.99064298-1.57079633j\n",
      " 1717076.16093406+1.57079633j ... 1288250.49225534-1.57079633j\n",
      "  255468.68880800+1.57079633j 1377494.25616345-1.57079633j]\n",
      "0.036936\n"
     ]
    },
    {
     "data": {
      "text/plain": [
       "0.0"
      ]
     },
     "execution_count": 3,
     "metadata": {},
     "output_type": "execute_result"
    }
   ],
   "source": [
    "# Derivatives\n",
    "tic = time.clock()\n",
    "t1=RiemannTheta.log_eval(X,Q, mode=0, derivs=[[1]])\n",
    "toc = time.clock()\n",
    "print(t1)\n",
    "print(toc-tic)\n",
    "\n",
    "tic = time.clock()\n",
    "t2=RiemannTheta.log_eval(X,Q, mode=1, derivs=[[1]])\n",
    "toc = time.clock()\n",
    "print(t2)\n",
    "\n",
    "print(toc-tic)\n",
    "\n",
    "x=t1-t2\n",
    "max(abs(x))"
   ]
  },
  {
   "cell_type": "markdown",
   "metadata": {},
   "source": [
    "# Phase II (mode 2)"
   ]
  },
  {
   "cell_type": "code",
   "execution_count": 4,
   "metadata": {},
   "outputs": [
    {
     "name": "stdout",
     "output_type": "stream",
     "text": [
      "[  0.69920922+1.82950314e-16j -19.44954135+3.14159265e+00j\n",
      "   2.17544934+1.44738542e-17j ... -19.21440646+6.05052655e-10j\n",
      " -21.28383232-6.69335126e-09j   1.75585144-4.17888086e-17j]\n",
      "0.102016\n",
      "[  0.69920922+1.82950314e-16j -19.44954135+3.14159265e+00j\n",
      "   2.17544934+1.44738542e-17j ... -19.21440646+6.05052655e-10j\n",
      " -21.28383232-6.69335126e-09j   1.75585144-4.17888086e-17j]\n",
      "0.025159\n"
     ]
    },
    {
     "data": {
      "text/plain": [
       "0.0"
      ]
     },
     "execution_count": 4,
     "metadata": {},
     "output_type": "execute_result"
    }
   ],
   "source": [
    "# RT\n",
    "Q=np.zeros((1,1), dtype=complex)\n",
    "Q[0,0]=0.01j\n",
    "\n",
    "X = np.random.uniform(-1000,1000,(3000,1))\n",
    "\n",
    "tic = time.clock()\n",
    "t1=RiemannTheta.log_eval(X,Q, mode=0)\n",
    "toc = time.clock()\n",
    "print(t1)\n",
    "print(toc-tic)\n",
    "\n",
    "tic = time.clock()\n",
    "t2=RiemannTheta.log_eval(X,Q, mode=2)\n",
    "toc = time.clock()\n",
    "print(t2)\n",
    "\n",
    "print(toc-tic)\n",
    "\n",
    "x=t1-t2\n",
    "max(abs(x))"
   ]
  },
  {
   "cell_type": "code",
   "execution_count": 5,
   "metadata": {},
   "outputs": [
    {
     "name": "stdout",
     "output_type": "stream",
     "text": [
      "[  4.50336210+5.80797268e-17j -22.70004161-9.16703390e-07j\n",
      "   4.71229663-3.14159265e+00j ... -22.56725711+3.14159092e+00j\n",
      " -23.05318399+6.77215361e-07j   5.02205190-3.14159265e+00j]\n",
      "0.145183\n",
      "[  4.50336210+5.80797268e-17j -22.70004161-9.16703390e-07j\n",
      "   4.71229663-3.14159265e+00j ... -22.56725711+3.14159092e+00j\n",
      " -23.05318399+6.77215361e-07j   5.02205190-3.14159265e+00j]\n",
      "0.034414\n"
     ]
    },
    {
     "data": {
      "text/plain": [
       "0.0"
      ]
     },
     "execution_count": 5,
     "metadata": {},
     "output_type": "execute_result"
    }
   ],
   "source": [
    "tic = time.clock()\n",
    "t1=RiemannTheta.log_eval(X,Q, mode=0, derivs=[[1]])\n",
    "toc = time.clock()\n",
    "print(t1)\n",
    "print(toc-tic)\n",
    "\n",
    "tic = time.clock()\n",
    "t2=RiemannTheta.log_eval(X,Q, mode=2, derivs=[[1]])\n",
    "toc = time.clock()\n",
    "print(t2)\n",
    "\n",
    "print(toc-tic)\n",
    "\n",
    "x=t1-t2\n",
    "max(abs(x))"
   ]
  },
  {
   "cell_type": "code",
   "execution_count": null,
   "metadata": {},
   "outputs": [],
   "source": []
  },
  {
   "cell_type": "code",
   "execution_count": null,
   "metadata": {},
   "outputs": [],
   "source": []
  }
 ],
 "metadata": {
  "kernelspec": {
   "display_name": "Python 2",
   "language": "python",
   "name": "python2"
  },
  "language_info": {
   "codemirror_mode": {
    "name": "ipython",
    "version": 2
   },
   "file_extension": ".py",
   "mimetype": "text/x-python",
   "name": "python",
   "nbconvert_exporter": "python",
   "pygments_lexer": "ipython2",
   "version": "2.7.12"
  }
 },
 "nbformat": 4,
 "nbformat_minor": 2
}

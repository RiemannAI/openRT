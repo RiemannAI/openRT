{
 "cells": [
  {
   "cell_type": "code",
   "execution_count": 1,
   "metadata": {},
   "outputs": [
    {
     "name": "stdout",
     "output_type": "stream",
     "text": [
      "The history saving thread hit an unexpected error (DatabaseError('database disk image is malformed',)).History will not be written to the database.\n"
     ]
    }
   ],
   "source": [
    "from rtbm.riemann_theta.riemann_theta import RiemannTheta\n",
    "\n",
    "import numpy as np\n",
    "import time"
   ]
  },
  {
   "cell_type": "markdown",
   "metadata": {},
   "source": [
    "# Phase I (mode 1)"
   ]
  },
  {
   "cell_type": "code",
   "execution_count": 2,
   "metadata": {},
   "outputs": [
    {
     "name": "stdout",
     "output_type": "stream",
     "text": [
      "[7.20677093e+11+0.j 7.91034490e+11+0.j 2.53405256e+11+0.j ...\n",
      " 2.69042422e+12+0.j 2.65815653e+12+0.j 4.15398916e+11+0.j]\n",
      "28.116575\n",
      "[7.20677093e+11+0.j 7.91034490e+11+0.j 2.53405256e+11+0.j ...\n",
      " 2.69042422e+12+0.j 2.65815653e+12+0.j 4.15398916e+11+0.j]\n",
      "7.12999\n"
     ]
    },
    {
     "data": {
      "text/plain": [
       "0.0"
      ]
     },
     "execution_count": 2,
     "metadata": {},
     "output_type": "execute_result"
    }
   ],
   "source": [
    "# RT\n",
    "Q=np.zeros((1,1), dtype=complex)\n",
    "Q[0,0]=0.00000001j\n",
    "\n",
    "X = 1j*np.random.uniform(-100,100,(2500,1))\n",
    "\n",
    "tic = time.clock()\n",
    "t1=RiemannTheta.log_eval(X,Q, mode=0)\n",
    "toc = time.clock()\n",
    "print(t1)\n",
    "print(toc-tic)\n",
    "\n",
    "tic = time.clock()\n",
    "t2=RiemannTheta.log_eval(X,Q, mode=1)\n",
    "toc = time.clock()\n",
    "print(t2)\n",
    "\n",
    "print(toc-tic)\n",
    "\n",
    "x=t1-t2\n",
    "max(abs(x))"
   ]
  },
  {
   "cell_type": "code",
   "execution_count": 3,
   "metadata": {},
   "outputs": [
    {
     "name": "stdout",
     "output_type": "stream",
     "text": [
      "[7.20677093e+11+1.57079633j 7.91034490e+11-1.57079633j\n",
      " 2.53405256e+11+1.57079633j ... 2.69042422e+12-1.57079633j\n",
      " 2.65815653e+12-1.57079633j 4.15398916e+11+1.57079633j]\n",
      "73.702669\n",
      "[7.20677093e+11+1.57079633j 7.91034490e+11-1.57079633j\n",
      " 2.53405256e+11+1.57079633j ... 2.69042422e+12-1.57079633j\n",
      " 2.65815653e+12-1.57079633j 4.15398916e+11+1.57079633j]\n",
      "30.906801\n"
     ]
    },
    {
     "data": {
      "text/plain": [
       "0.0"
      ]
     },
     "execution_count": 3,
     "metadata": {},
     "output_type": "execute_result"
    }
   ],
   "source": [
    "# Derivatives\n",
    "tic = time.clock()\n",
    "t1=RiemannTheta.log_eval(X,Q, mode=0, derivs=[[1,1,1]])\n",
    "toc = time.clock()\n",
    "print(t1)\n",
    "print(toc-tic)\n",
    "\n",
    "tic = time.clock()\n",
    "t2=RiemannTheta.log_eval(X,Q, mode=1, derivs=[[1,1,1]])\n",
    "toc = time.clock()\n",
    "print(t2)\n",
    "\n",
    "print(toc-tic)\n",
    "\n",
    "x=t1-t2\n",
    "max(abs(x))"
   ]
  },
  {
   "cell_type": "markdown",
   "metadata": {},
   "source": [
    "# Phase II (mode 2)"
   ]
  },
  {
   "cell_type": "code",
   "execution_count": 4,
   "metadata": {},
   "outputs": [
    {
     "name": "stdout",
     "output_type": "stream",
     "text": [
      "[  1.85279209-5.97720079e-18j -16.95556429-1.51543529e-10j\n",
      "   2.07324982+6.98056612e-17j ... -19.11632496-6.22809832e-09j\n",
      "   1.79714809-4.47106988e-17j -21.79429764-8.63483391e-10j]\n",
      "2.229481\n",
      "[  1.85279209-5.97720079e-18j -16.95556429-1.51543529e-10j\n",
      "   2.07324982+6.98056612e-17j ... -19.11632496-6.22809832e-09j\n",
      "   1.79714809-4.47106988e-17j -21.79429764-8.63483391e-10j]\n",
      "0.611661\n"
     ]
    },
    {
     "data": {
      "text/plain": [
       "0.0"
      ]
     },
     "execution_count": 4,
     "metadata": {},
     "output_type": "execute_result"
    }
   ],
   "source": [
    "# RT\n",
    "Q=np.zeros((1,1), dtype=complex)\n",
    "Q[0,0]=0.01j\n",
    "\n",
    "X = np.random.uniform(-1000,1000,(100000,1))\n",
    "\n",
    "tic = time.clock()\n",
    "t1=RiemannTheta.log_eval(X,Q, mode=0)\n",
    "toc = time.clock()\n",
    "print(t1)\n",
    "print(toc-tic)\n",
    "\n",
    "tic = time.clock()\n",
    "t2=RiemannTheta.log_eval(X,Q, mode=2)\n",
    "toc = time.clock()\n",
    "print(t2)\n",
    "\n",
    "print(toc-tic)\n",
    "\n",
    "x=t1-t2\n",
    "max(abs(x))"
   ]
  },
  {
   "cell_type": "code",
   "execution_count": 5,
   "metadata": {},
   "outputs": [
    {
     "name": "stdout",
     "output_type": "stream",
     "text": [
      "[ 12.20658713-5.20066412e-18j  -1.87034956-7.47044033e-12j\n",
      "  12.28079651+3.14159265e+00j ... -12.30613948-1.26649414e-08j\n",
      "  12.15482196-3.14159265e+00j  -8.44550234+3.14159265e+00j]\n",
      "3.538273\n",
      "[ 12.20658713-5.20066412e-18j  -1.87034956-7.47044033e-12j\n",
      "  12.28079651+3.14159265e+00j ... -12.30613948-1.26649414e-08j\n",
      "  12.15482196-3.14159265e+00j  -8.44550234+3.14159265e+00j]\n",
      "1.318024\n"
     ]
    },
    {
     "data": {
      "text/plain": [
       "0.0"
      ]
     },
     "execution_count": 5,
     "metadata": {},
     "output_type": "execute_result"
    }
   ],
   "source": [
    "tic = time.clock()\n",
    "t1=RiemannTheta.log_eval(X,Q, mode=0, derivs=[[1,1,1]])\n",
    "toc = time.clock()\n",
    "print(t1)\n",
    "print(toc-tic)\n",
    "\n",
    "tic = time.clock()\n",
    "t2=RiemannTheta.log_eval(X,Q, mode=2, derivs=[[1,1,1]])\n",
    "toc = time.clock()\n",
    "print(t2)\n",
    "\n",
    "print(toc-tic)\n",
    "\n",
    "x=t1-t2\n",
    "max(abs(x))"
   ]
  },
  {
   "cell_type": "code",
   "execution_count": null,
   "metadata": {},
   "outputs": [],
   "source": []
  },
  {
   "cell_type": "code",
   "execution_count": null,
   "metadata": {},
   "outputs": [],
   "source": []
  }
 ],
 "metadata": {
  "kernelspec": {
   "display_name": "Python 2",
   "language": "python",
   "name": "python2"
  },
  "language_info": {
   "codemirror_mode": {
    "name": "ipython",
    "version": 2
   },
   "file_extension": ".py",
   "mimetype": "text/x-python",
   "name": "python",
   "nbconvert_exporter": "python",
   "pygments_lexer": "ipython2",
   "version": "2.7.12"
  }
 },
 "nbformat": 4,
 "nbformat_minor": 2
}

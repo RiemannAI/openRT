{
 "cells": [
  {
   "cell_type": "code",
   "execution_count": 1,
   "metadata": {},
   "outputs": [
    {
     "name": "stdout",
     "output_type": "stream",
     "text": [
      "The history saving thread hit an unexpected error (DatabaseError('database disk image is malformed',)).History will not be written to the database.\n"
     ]
    }
   ],
   "source": [
    "from rtbm.riemann_theta.riemann_theta import RiemannTheta\n",
    "\n",
    "import numpy as np\n",
    "import time"
   ]
  },
  {
   "cell_type": "markdown",
   "metadata": {},
   "source": [
    "# Phase I (mode 1)"
   ]
  },
  {
   "cell_type": "code",
   "execution_count": 2,
   "metadata": {},
   "outputs": [
    {
     "name": "stdout",
     "output_type": "stream",
     "text": [
      "[3005764.20558806+0.j   29637.31393681+0.j 1070506.05564035+0.j ...\n",
      "  742169.75861446+0.j 2927808.44219728+0.j 1409483.45623144+0.j]\n",
      "0.557314\n",
      "[3005764.20558806+0.j   29637.31393681+0.j 1070506.05564035+0.j ...\n",
      "  742169.75861446+0.j 2927808.44219728+0.j 1409483.45623144+0.j]\n",
      "0.228461\n"
     ]
    },
    {
     "data": {
      "text/plain": [
       "0.0"
      ]
     },
     "execution_count": 2,
     "metadata": {},
     "output_type": "execute_result"
    }
   ],
   "source": [
    "# RT\n",
    "Q=np.zeros((1,1), dtype=complex)\n",
    "Q[0,0]=0.01j\n",
    "\n",
    "X = 1j*np.random.uniform(-100,100,(25000,1))\n",
    "\n",
    "tic = time.clock()\n",
    "t1=RiemannTheta.log_eval(X,Q, mode=0)\n",
    "toc = time.clock()\n",
    "print(t1)\n",
    "print(toc-tic)\n",
    "\n",
    "tic = time.clock()\n",
    "t2=RiemannTheta.log_eval(X,Q, mode=1)\n",
    "toc = time.clock()\n",
    "print(t2)\n",
    "\n",
    "print(toc-tic)\n",
    "\n",
    "x=t1-t2\n",
    "max(abs(x))"
   ]
  },
  {
   "cell_type": "code",
   "execution_count": 3,
   "metadata": {},
   "outputs": [
    {
     "name": "stdout",
     "output_type": "stream",
     "text": [
      "[3005797.28394267-1.57079633j   29663.46334671-1.57079633j\n",
      " 1070537.58539324-1.57079633j ...  742200.73890339-1.57079633j\n",
      " 2927841.48113536-1.57079633j 1409515.39862248-1.57079633j]\n",
      "0.865124\n",
      "[3005797.28394267-1.57079633j   29663.46334671-1.57079633j\n",
      " 1070537.58539324-1.57079633j ...  742200.73890339-1.57079633j\n",
      " 2927841.48113536-1.57079633j 1409515.39862248-1.57079633j]\n",
      "0.573322\n"
     ]
    },
    {
     "data": {
      "text/plain": [
       "0.0"
      ]
     },
     "execution_count": 3,
     "metadata": {},
     "output_type": "execute_result"
    }
   ],
   "source": [
    "# Derivatives\n",
    "tic = time.clock()\n",
    "t1=RiemannTheta.log_eval(X,Q, mode=0, derivs=[[1,1,1]])\n",
    "toc = time.clock()\n",
    "print(t1)\n",
    "print(toc-tic)\n",
    "\n",
    "tic = time.clock()\n",
    "t2=RiemannTheta.log_eval(X,Q, mode=1, derivs=[[1,1,1]])\n",
    "toc = time.clock()\n",
    "print(t2)\n",
    "\n",
    "print(toc-tic)\n",
    "\n",
    "x=t1-t2\n",
    "max(abs(x))"
   ]
  },
  {
   "cell_type": "markdown",
   "metadata": {},
   "source": [
    "# Phase II (mode 2)"
   ]
  },
  {
   "cell_type": "code",
   "execution_count": 4,
   "metadata": {},
   "outputs": [
    {
     "name": "stdout",
     "output_type": "stream",
     "text": [
      "[-19.90161966+5.46189891e-10j -19.41661871-8.92223908e-09j\n",
      " -19.55040683-2.89735258e-10j ...   0.65714745+6.23294888e-17j\n",
      " -19.99330952+3.05230338e-08j -20.10610490-3.14159265e+00j]\n",
      "2.805805\n",
      "[-19.90161966+5.46189891e-10j -19.41661871-8.92223908e-09j\n",
      " -19.55040683-2.89735258e-10j ...   0.65714745+6.23294888e-17j\n",
      " -19.99330952+3.05230338e-08j -20.10610490-3.14159265e+00j]\n",
      "1.779461\n"
     ]
    },
    {
     "data": {
      "text/plain": [
       "0.0"
      ]
     },
     "execution_count": 4,
     "metadata": {},
     "output_type": "execute_result"
    }
   ],
   "source": [
    "# RT\n",
    "Q=np.zeros((1,1), dtype=complex)\n",
    "Q[0,0]=0.01j\n",
    "\n",
    "X = np.random.uniform(-1000,1000,(100000,1))\n",
    "\n",
    "tic = time.clock()\n",
    "t1=RiemannTheta.log_eval(X,Q, mode=0)\n",
    "toc = time.clock()\n",
    "print(t1)\n",
    "print(toc-tic)\n",
    "\n",
    "tic = time.clock()\n",
    "t2=RiemannTheta.log_eval(X,Q, mode=2)\n",
    "toc = time.clock()\n",
    "print(t2)\n",
    "\n",
    "print(toc-tic)\n",
    "\n",
    "x=t1-t2\n",
    "max(abs(x))"
   ]
  },
  {
   "cell_type": "code",
   "execution_count": 5,
   "metadata": {},
   "outputs": [
    {
     "name": "stdout",
     "output_type": "stream",
     "text": [
      "[-12.05045442+3.14159255e+00j -12.18965783-6.25122442e-08j\n",
      "  -9.09004047+3.14159265e+00j ...   9.68243442-3.26997828e-16j\n",
      "  -8.81586964+7.69360090e-09j -11.55421852-7.91123586e-08j]\n",
      "4.32841\n",
      "[-12.05045442+3.14159255e+00j -12.18965783-6.25122442e-08j\n",
      "  -9.09004047+3.14159265e+00j ...   9.68243442-3.26997828e-16j\n",
      "  -8.81586964+7.69360090e-09j -11.55421852-7.91123586e-08j]\n",
      "2.458525\n"
     ]
    },
    {
     "data": {
      "text/plain": [
       "0.0"
      ]
     },
     "execution_count": 5,
     "metadata": {},
     "output_type": "execute_result"
    }
   ],
   "source": [
    "tic = time.clock()\n",
    "t1=RiemannTheta.log_eval(X,Q, mode=0, derivs=[[1,1,1]])\n",
    "toc = time.clock()\n",
    "print(t1)\n",
    "print(toc-tic)\n",
    "\n",
    "tic = time.clock()\n",
    "t2=RiemannTheta.log_eval(X,Q, mode=2, derivs=[[1,1,1]])\n",
    "toc = time.clock()\n",
    "print(t2)\n",
    "\n",
    "print(toc-tic)\n",
    "\n",
    "x=t1-t2\n",
    "max(abs(x))"
   ]
  },
  {
   "cell_type": "code",
   "execution_count": null,
   "metadata": {},
   "outputs": [],
   "source": []
  },
  {
   "cell_type": "code",
   "execution_count": null,
   "metadata": {},
   "outputs": [],
   "source": []
  }
 ],
 "metadata": {
  "kernelspec": {
   "display_name": "Python 2",
   "language": "python",
   "name": "python2"
  },
  "language_info": {
   "codemirror_mode": {
    "name": "ipython",
    "version": 2
   },
   "file_extension": ".py",
   "mimetype": "text/x-python",
   "name": "python",
   "nbconvert_exporter": "python",
   "pygments_lexer": "ipython2",
   "version": "2.7.12"
  }
 },
 "nbformat": 4,
 "nbformat_minor": 2
}

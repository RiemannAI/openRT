{
 "cells": [
  {
   "cell_type": "code",
   "execution_count": 1,
   "metadata": {},
   "outputs": [],
   "source": [
    "import numpy as np\n",
    "import pandas as pd\n",
    "from matplotlib import pyplot as plt\n",
    "from sklearn import linear_model\n",
    "from sklearn.metrics import confusion_matrix, classification_report\n",
    "\n",
    "from rtbm import RTBM, minimizer\n",
    "\n",
    "import rtbm.layers as layers\n",
    "import rtbm.model as mdl\n",
    "\n",
    "import warnings\n",
    "warnings.filterwarnings('ignore')\n",
    "\n",
    "from rtbm.costfunctions import mse, crossentropy\n"
   ]
  },
  {
   "cell_type": "code",
   "execution_count": 2,
   "metadata": {},
   "outputs": [],
   "source": [
    "# Load MNIST dataset\n",
    "MNIST_train = pd.read_csv('~/data/mnist_train.csv', delimiter=\",\",header=None).values\n",
    "MNIST_test  = pd.read_csv('~/data/mnist_test.csv', delimiter=\",\",header=None).values\n",
    "\n",
    "# Prepare data (normalized onto [0,1])\n",
    "Y_train = MNIST_train[0:10000,0]\n",
    "X_train = MNIST_train[0:10000,1:]/255.0\n",
    "\n",
    "Y_test = MNIST_test[:,0]\n",
    "X_test = MNIST_test[:,1:]/255.0"
   ]
  },
  {
   "cell_type": "code",
   "execution_count": null,
   "metadata": {
    "scrolled": true
   },
   "outputs": [],
   "source": [
    "# Visualize individual pics\n",
    "i=10\n",
    "print(Y_train[i])\n",
    "I=np.reshape(X_train[i], (28,28))\n",
    "plt.imshow(I, interpolation='nearest',  cmap='gray_r')\n",
    "plt.show()"
   ]
  },
  {
   "cell_type": "markdown",
   "metadata": {},
   "source": [
    "# Logistic regression baseline"
   ]
  },
  {
   "cell_type": "code",
   "execution_count": null,
   "metadata": {},
   "outputs": [],
   "source": [
    "# Logistic regression baseline\n",
    "logreg = linear_model.LogisticRegression(multi_class='multinomial',solver='lbfgs')\n",
    "\n",
    "logreg.fit(X_train,Y_train)\n"
   ]
  },
  {
   "cell_type": "code",
   "execution_count": null,
   "metadata": {},
   "outputs": [],
   "source": [
    "# On train set\n",
    "\n",
    "P=logreg.predict(X_train)\n",
    "\n",
    "print(classification_report(Y_train,P))\n",
    "print(confusion_matrix(Y_train, P))\n"
   ]
  },
  {
   "cell_type": "code",
   "execution_count": null,
   "metadata": {},
   "outputs": [],
   "source": [
    "# On test set\n",
    "P=logreg.predict(X_test)\n",
    "\n",
    "print(classification_report(Y_test,P))\n",
    "print(confusion_matrix(Y_test, P))\n"
   ]
  },
  {
   "cell_type": "markdown",
   "metadata": {},
   "source": [
    "# Linear regression base line"
   ]
  },
  {
   "cell_type": "code",
   "execution_count": null,
   "metadata": {},
   "outputs": [],
   "source": [
    "linreg = linear_model.LinearRegression()\n",
    "\n",
    "linreg.fit(X_train,Y_train)\n"
   ]
  },
  {
   "cell_type": "code",
   "execution_count": null,
   "metadata": {},
   "outputs": [],
   "source": [
    "# On train set\n",
    "\n",
    "P=np.round(linreg.predict(X_train))\n",
    "\n",
    "print(classification_report(Y_train,P))\n",
    "print(confusion_matrix(Y_train, P))"
   ]
  },
  {
   "cell_type": "code",
   "execution_count": null,
   "metadata": {},
   "outputs": [],
   "source": [
    "# On test set\n",
    "P=linreg.predict(X_test)\n",
    "\n",
    "print(classification_report(Y_test,P))\n",
    "print(confusion_matrix(Y_test, P))\n"
   ]
  },
  {
   "cell_type": "markdown",
   "metadata": {},
   "source": [
    "# Linear regression via CMA"
   ]
  },
  {
   "cell_type": "code",
   "execution_count": 17,
   "metadata": {},
   "outputs": [
    {
     "name": "stdout",
     "output_type": "stream",
     "text": [
      "CMA on 1 cpu(s) enabled\n",
      "(11_w,23)-aCMA-ES (mu_w=6.7,w_1=25%) in dimension 785 (seed=115327, Tue Nov  7 06:26:28 2017)\n",
      "Iterat #Fevals   function value  axis ratio  sigma  min&max std  t[m:s]\n",
      "    1     23 2.684171781264688e+01 1.0e+00 9.91e-01  1e+00  1e+00 0:00.0\n",
      "    2     46 2.899058970342607e+01 1.0e+00 9.82e-01  1e+00  1e+00 0:00.1\n",
      "    3     69 3.108250571239321e+01 1.0e+00 9.74e-01  1e+00  1e+00 0:00.2\n",
      "   28    644 4.249590425783825e+01 1.0e+00 8.52e-01  9e-01  9e-01 0:03.4\n",
      "   60   1380 4.559654482485951e+01 1.0e+00 7.74e-01  8e-01  8e-01 0:07.4\n",
      "  100   2300 4.337709372524052e+01 1.0e+00 7.23e-01  7e-01  7e-01 0:12.4\n",
      "  148   3404 4.950557147307769e+01 1.1e+00 6.94e-01  7e-01  7e-01 0:18.5\n",
      "  200   4600 5.024874889295326e+01 1.1e+00 6.79e-01  7e-01  7e-01 0:25.0\n",
      "  264   6072 4.667633734614471e+01 1.1e+00 6.47e-01  6e-01  6e-01 0:33.0\n",
      "  300   6900 4.656582592535251e+01 1.1e+00 6.31e-01  6e-01  6e-01 0:37.6\n",
      "  379   8717 4.712995730118923e+01 1.2e+00 6.03e-01  6e-01  6e-01 0:47.6\n",
      "  400   9200 4.694086956401745e+01 1.2e+00 5.96e-01  6e-01  6e-01 0:50.2\n",
      "  496  11408 4.148735518264335e+01 1.2e+00 5.50e-01  5e-01  6e-01 1:02.3\n",
      "  500  11500 4.290346914872003e+01 1.2e+00 5.48e-01  5e-01  5e-01 1:02.9\n",
      "  600  13800 4.030482157820907e+01 1.2e+00 5.10e-01  5e-01  5e-01 1:15.5\n",
      "  700  16100 3.978247343511492e+01 1.2e+00 4.73e-01  5e-01  5e-01 1:28.1\n"
     ]
    },
    {
     "ename": "KeyboardInterrupt",
     "evalue": "",
     "output_type": "error",
     "traceback": [
      "\u001b[0;31m---------------------------------------------------------------------------\u001b[0m",
      "\u001b[0;31mKeyboardInterrupt\u001b[0m                         Traceback (most recent call last)",
      "\u001b[0;32m<ipython-input-17-1196f1997956>\u001b[0m in \u001b[0;36m<module>\u001b[0;34m()\u001b[0m\n\u001b[1;32m      3\u001b[0m \u001b[0;34m\u001b[0m\u001b[0m\n\u001b[1;32m      4\u001b[0m \u001b[0mminim\u001b[0m \u001b[0;34m=\u001b[0m \u001b[0mminimizer\u001b[0m\u001b[0;34m.\u001b[0m\u001b[0mCMA\u001b[0m\u001b[0;34m(\u001b[0m\u001b[0mFalse\u001b[0m\u001b[0;34m)\u001b[0m\u001b[0;34m\u001b[0m\u001b[0m\n\u001b[0;32m----> 5\u001b[0;31m \u001b[0msol\u001b[0m\u001b[0;34m=\u001b[0m\u001b[0mminim\u001b[0m\u001b[0;34m.\u001b[0m\u001b[0mtrain\u001b[0m\u001b[0;34m(\u001b[0m\u001b[0mmse\u001b[0m\u001b[0;34m(\u001b[0m\u001b[0;34m)\u001b[0m\u001b[0;34m,\u001b[0m \u001b[0mM\u001b[0m\u001b[0;34m,\u001b[0m \u001b[0mnp\u001b[0m\u001b[0;34m.\u001b[0m\u001b[0mtranspose\u001b[0m\u001b[0;34m(\u001b[0m\u001b[0mX_train\u001b[0m\u001b[0;34m)\u001b[0m\u001b[0;34m,\u001b[0m \u001b[0mnp\u001b[0m\u001b[0;34m.\u001b[0m\u001b[0mtranspose\u001b[0m\u001b[0;34m(\u001b[0m\u001b[0mY_train\u001b[0m\u001b[0;34m)\u001b[0m\u001b[0;34m,\u001b[0m \u001b[0mmaxiter\u001b[0m\u001b[0;34m=\u001b[0m\u001b[0;36m1000\u001b[0m\u001b[0;34m)\u001b[0m\u001b[0;34m\u001b[0m\u001b[0m\n\u001b[0m",
      "\u001b[0;32m/home/krefl/RTBM/rtbm/minimizer.py\u001b[0m in \u001b[0;36mtrain\u001b[0;34m(self, cost, model, x_data, y_data, tolfun, popsize, maxiter, use_grad)\u001b[0m\n\u001b[1;32m     90\u001b[0m                     \u001b[0;32mwhile\u001b[0m \u001b[0mnp\u001b[0m\u001b[0;34m.\u001b[0m\u001b[0misnan\u001b[0m\u001b[0;34m(\u001b[0m\u001b[0mcurr_fit\u001b[0m\u001b[0;34m)\u001b[0m\u001b[0;34m:\u001b[0m\u001b[0;34m\u001b[0m\u001b[0m\n\u001b[1;32m     91\u001b[0m                         \u001b[0mx\u001b[0m \u001b[0;34m=\u001b[0m \u001b[0mes\u001b[0m\u001b[0;34m.\u001b[0m\u001b[0mask\u001b[0m\u001b[0;34m(\u001b[0m\u001b[0;36m1\u001b[0m\u001b[0;34m,\u001b[0m \u001b[0mgradf\u001b[0m\u001b[0;34m=\u001b[0m\u001b[0mgrad\u001b[0m\u001b[0;34m)\u001b[0m\u001b[0;34m[\u001b[0m\u001b[0;36m0\u001b[0m\u001b[0;34m]\u001b[0m\u001b[0;34m\u001b[0m\u001b[0m\n\u001b[0;32m---> 92\u001b[0;31m                         \u001b[0mcurr_fit\u001b[0m \u001b[0;34m=\u001b[0m \u001b[0mworker_compute\u001b[0m\u001b[0;34m(\u001b[0m\u001b[0mx\u001b[0m\u001b[0;34m)\u001b[0m\u001b[0;34m\u001b[0m\u001b[0m\n\u001b[0m\u001b[1;32m     93\u001b[0m                     \u001b[0msolutions\u001b[0m\u001b[0;34m.\u001b[0m\u001b[0mappend\u001b[0m\u001b[0;34m(\u001b[0m\u001b[0mx\u001b[0m\u001b[0;34m)\u001b[0m\u001b[0;34m\u001b[0m\u001b[0m\n\u001b[1;32m     94\u001b[0m                     \u001b[0mf_values\u001b[0m\u001b[0;34m.\u001b[0m\u001b[0mappend\u001b[0m\u001b[0;34m(\u001b[0m\u001b[0mcurr_fit\u001b[0m\u001b[0;34m)\u001b[0m\u001b[0;34m\u001b[0m\u001b[0m\n",
      "\u001b[0;32m/home/krefl/RTBM/rtbm/minimizer.py\u001b[0m in \u001b[0;36mworker_compute\u001b[0;34m(params)\u001b[0m\n\u001b[1;32m     26\u001b[0m     \u001b[0;32mif\u001b[0m \u001b[0;32mnot\u001b[0m \u001b[0mresource\u001b[0m\u001b[0;34m.\u001b[0m\u001b[0mmodel\u001b[0m\u001b[0;34m.\u001b[0m\u001b[0mset_parameters\u001b[0m\u001b[0;34m(\u001b[0m\u001b[0mparams\u001b[0m\u001b[0;34m)\u001b[0m\u001b[0;34m:\u001b[0m\u001b[0;34m\u001b[0m\u001b[0m\n\u001b[1;32m     27\u001b[0m         \u001b[0;32mreturn\u001b[0m \u001b[0mnp\u001b[0m\u001b[0;34m.\u001b[0m\u001b[0mNaN\u001b[0m\u001b[0;34m\u001b[0m\u001b[0m\n\u001b[0;32m---> 28\u001b[0;31m     \u001b[0mres\u001b[0m \u001b[0;34m=\u001b[0m \u001b[0mresource\u001b[0m\u001b[0;34m.\u001b[0m\u001b[0mcost_function\u001b[0m\u001b[0;34m.\u001b[0m\u001b[0mcost\u001b[0m\u001b[0;34m(\u001b[0m\u001b[0mnp\u001b[0m\u001b[0;34m.\u001b[0m\u001b[0mreal\u001b[0m\u001b[0;34m(\u001b[0m\u001b[0mresource\u001b[0m\u001b[0;34m.\u001b[0m\u001b[0mmodel\u001b[0m\u001b[0;34m(\u001b[0m\u001b[0mresource\u001b[0m\u001b[0;34m.\u001b[0m\u001b[0mx_data\u001b[0m\u001b[0;34m)\u001b[0m\u001b[0;34m)\u001b[0m\u001b[0;34m,\u001b[0m \u001b[0mresource\u001b[0m\u001b[0;34m.\u001b[0m\u001b[0my_data\u001b[0m\u001b[0;34m)\u001b[0m\u001b[0;34m\u001b[0m\u001b[0m\n\u001b[0m\u001b[1;32m     29\u001b[0m     \u001b[0;32mreturn\u001b[0m \u001b[0mres\u001b[0m\u001b[0;34m\u001b[0m\u001b[0m\n\u001b[1;32m     30\u001b[0m \u001b[0;34m\u001b[0m\u001b[0m\n",
      "\u001b[0;32m/home/krefl/RTBM/rtbm/model.pyc\u001b[0m in \u001b[0;36m__call__\u001b[0;34m(self, data)\u001b[0m\n\u001b[1;32m     46\u001b[0m     \u001b[0;32mdef\u001b[0m \u001b[0m__call__\u001b[0m\u001b[0;34m(\u001b[0m\u001b[0mself\u001b[0m\u001b[0;34m,\u001b[0m \u001b[0mdata\u001b[0m\u001b[0;34m)\u001b[0m\u001b[0;34m:\u001b[0m\u001b[0;34m\u001b[0m\u001b[0m\n\u001b[1;32m     47\u001b[0m         \u001b[0;34m\"\"\" Evaluates the model for a given data array \"\"\"\u001b[0m\u001b[0;34m\u001b[0m\u001b[0m\n\u001b[0;32m---> 48\u001b[0;31m         \u001b[0;32mreturn\u001b[0m \u001b[0mself\u001b[0m\u001b[0;34m.\u001b[0m\u001b[0mfeed_through\u001b[0m\u001b[0;34m(\u001b[0m\u001b[0mdata\u001b[0m\u001b[0;34m)\u001b[0m\u001b[0;34m\u001b[0m\u001b[0m\n\u001b[0m\u001b[1;32m     49\u001b[0m \u001b[0;34m\u001b[0m\u001b[0m\n\u001b[1;32m     50\u001b[0m     \u001b[0;32mdef\u001b[0m \u001b[0msize\u001b[0m\u001b[0;34m(\u001b[0m\u001b[0mself\u001b[0m\u001b[0;34m)\u001b[0m\u001b[0;34m:\u001b[0m\u001b[0;34m\u001b[0m\u001b[0m\n",
      "\u001b[0;32m/home/krefl/RTBM/rtbm/model.pyc\u001b[0m in \u001b[0;36mfeed_through\u001b[0;34m(self, X, calc_grad)\u001b[0m\n\u001b[1;32m     32\u001b[0m         \u001b[0mx\u001b[0m \u001b[0;34m=\u001b[0m \u001b[0mX\u001b[0m\u001b[0;34m\u001b[0m\u001b[0m\n\u001b[1;32m     33\u001b[0m         \u001b[0;32mfor\u001b[0m \u001b[0mL\u001b[0m \u001b[0;32min\u001b[0m \u001b[0mself\u001b[0m\u001b[0;34m.\u001b[0m\u001b[0m_layers\u001b[0m\u001b[0;34m:\u001b[0m\u001b[0;34m\u001b[0m\u001b[0m\n\u001b[0;32m---> 34\u001b[0;31m             \u001b[0mx\u001b[0m \u001b[0;34m=\u001b[0m \u001b[0mL\u001b[0m\u001b[0;34m.\u001b[0m\u001b[0mfeedin\u001b[0m\u001b[0;34m(\u001b[0m\u001b[0mx\u001b[0m\u001b[0;34m,\u001b[0m \u001b[0mcalc_grad\u001b[0m\u001b[0;34m)\u001b[0m\u001b[0;34m\u001b[0m\u001b[0m\n\u001b[0m\u001b[1;32m     35\u001b[0m         \u001b[0;32mreturn\u001b[0m \u001b[0mx\u001b[0m\u001b[0;34m\u001b[0m\u001b[0m\n\u001b[1;32m     36\u001b[0m \u001b[0;34m\u001b[0m\u001b[0m\n",
      "\u001b[0;32m/home/krefl/RTBM/rtbm/layers.py\u001b[0m in \u001b[0;36mfeedin\u001b[0;34m(self, X, grad_calc)\u001b[0m\n\u001b[1;32m    143\u001b[0m             \u001b[0mself\u001b[0m\u001b[0;34m.\u001b[0m\u001b[0m_X\u001b[0m \u001b[0;34m=\u001b[0m \u001b[0mX\u001b[0m\u001b[0;34m\u001b[0m\u001b[0m\n\u001b[1;32m    144\u001b[0m \u001b[0;34m\u001b[0m\u001b[0m\n\u001b[0;32m--> 145\u001b[0;31m         \u001b[0;32mreturn\u001b[0m \u001b[0mself\u001b[0m\u001b[0;34m.\u001b[0m\u001b[0m_w\u001b[0m\u001b[0;34m.\u001b[0m\u001b[0mdot\u001b[0m\u001b[0;34m(\u001b[0m\u001b[0mX\u001b[0m\u001b[0;34m)\u001b[0m\u001b[0;34m+\u001b[0m\u001b[0mself\u001b[0m\u001b[0;34m.\u001b[0m\u001b[0m_b\u001b[0m\u001b[0;34m\u001b[0m\u001b[0m\n\u001b[0m\u001b[1;32m    146\u001b[0m \u001b[0;34m\u001b[0m\u001b[0m\n\u001b[1;32m    147\u001b[0m     \u001b[0;32mdef\u001b[0m \u001b[0mbackprop\u001b[0m\u001b[0;34m(\u001b[0m\u001b[0mself\u001b[0m\u001b[0;34m,\u001b[0m \u001b[0mE\u001b[0m\u001b[0;34m)\u001b[0m\u001b[0;34m:\u001b[0m\u001b[0;34m\u001b[0m\u001b[0m\n",
      "\u001b[0;31mKeyboardInterrupt\u001b[0m: "
     ]
    }
   ],
   "source": [
    "M = mdl.Model()\n",
    "M.add(layers.Linear(784,1))\n",
    "\n",
    "minim = minimizer.CMA(False)\n",
    "sol=minim.train(mse(), M, np.transpose(X_train), np.transpose(Y_train), maxiter=1000)"
   ]
  },
  {
   "cell_type": "code",
   "execution_count": null,
   "metadata": {},
   "outputs": [],
   "source": [
    "# On train set\n",
    "P=np.abs(np.round(np.real(M.predict(np.transpose(X_train)))))\n",
    "\n",
    "\n",
    "print(classification_report(Y_train,P.T))\n",
    "print(confusion_matrix(Y_train, P.T))"
   ]
  },
  {
   "cell_type": "code",
   "execution_count": null,
   "metadata": {},
   "outputs": [],
   "source": [
    "# On test set\n",
    "P=np.abs(np.round(np.real(M.predict(np.transpose(X_test)))))\n",
    "\n",
    "print(classification_report(Y_test,P.T))\n",
    "print(confusion_matrix(Y_test, P.T))"
   ]
  },
  {
   "cell_type": "markdown",
   "metadata": {},
   "source": [
    "# Linear regression via SGD"
   ]
  },
  {
   "cell_type": "code",
   "execution_count": 47,
   "metadata": {},
   "outputs": [
    {
     "name": "stdout",
     "output_type": "stream",
     "text": [
      "Iteration 0 in 0.16(s), cost = 198.358939\n",
      "Iteration 100 in 16.49(s), cost = 17.150658\n",
      "Iteration 200 in 33.00(s), cost = 9.652766\n",
      "Iteration 300 in 51.16(s), cost = 6.891805\n",
      "Iteration 400 in 69.33(s), cost = 5.419768\n",
      "Iteration 500 in 87.49(s), cost = 4.506081\n",
      "Iteration 600 in 105.66(s), cost = 3.889812\n",
      "Iteration 700 in 123.82(s), cost = 3.451282\n",
      "Iteration 800 in 141.73(s), cost = 3.127251\n",
      "Iteration 900 in 159.59(s), cost = 2.881055\n",
      "('Cost: ', 2.691659388290869)\n",
      "('Sol: ', array([-0.33338102,  0.33528365,  0.2477624 , ...,  0.17442351,\n",
      "        0.19408339,  0.04494785]))\n",
      "Time: 177 s\n"
     ]
    }
   ],
   "source": [
    "M = mdl.Model()\n",
    "M.add(layers.Linear(784,100))\n",
    "M.add(layers.Linear(100,1))\n",
    "\n",
    "#M.add(layers.NonLinear(784,3))\n",
    "#M.add(layers.NonLinear(3,3))\n",
    "#M.add(layers.Linear(10,1))\n",
    "\n",
    "minim = minimizer.SGD()\n",
    "sol=minim.train(mse(), M, np.transpose(X_train), Y_train.reshape(1,len(Y_train)), lr=0.1, maxiter=1000, batch_size=1000)\n",
    "\n",
    "#minim = minimizer.BFGS()\n",
    "#sol=minim.train(mse(), M, np.transpose(X_train), Y_train.reshape(1,len(Y_train)), maxiter=1000)"
   ]
  },
  {
   "cell_type": "code",
   "execution_count": 48,
   "metadata": {},
   "outputs": [
    {
     "name": "stdout",
     "output_type": "stream",
     "text": [
      "             precision    recall  f1-score   support\n",
      "\n",
      "        0.0       0.41      0.16      0.23      1001\n",
      "        1.0       0.26      0.20      0.23      1127\n",
      "        2.0       0.18      0.22      0.20       991\n",
      "        3.0       0.16      0.20      0.18      1032\n",
      "        4.0       0.11      0.15      0.13       980\n",
      "        5.0       0.13      0.20      0.16       863\n",
      "        6.0       0.16      0.20      0.18      1014\n",
      "        7.0       0.21      0.20      0.20      1070\n",
      "        8.0       0.15      0.11      0.13       944\n",
      "        9.0       0.39      0.14      0.21       978\n",
      "       10.0       0.00      0.00      0.00         0\n",
      "       11.0       0.00      0.00      0.00         0\n",
      "       12.0       0.00      0.00      0.00         0\n",
      "       13.0       0.00      0.00      0.00         0\n",
      "       14.0       0.00      0.00      0.00         0\n",
      "\n",
      "avg / total       0.22      0.18      0.19     10000\n",
      "\n",
      "[[164 309 219 155  74  50  16   9   5   0   0   0   0   0   0]\n",
      " [ 85 230 365 263 116  47  17   4   0   0   0   0   0   0   0]\n",
      " [ 77 144 215 177 171 110  52  36   8   1   0   0   0   0   0]\n",
      " [ 43 120 145 211 218 143  81  40  18   9   2   1   0   1   0]\n",
      " [  3  18  45 100 150 163 207 161  85  39   9   0   0   0   0]\n",
      " [  6  22  75 150 214 176 116  54  41   5   4   0   0   0   0]\n",
      " [  4  23  44 126 169 218 204 138  58  18  10   2   0   0   0]\n",
      " [  8   9  20  61  84 157 216 217 163  80  39  11   3   2   0]\n",
      " [  8   9  30  78 122 169 183 149 103  60  23   8   0   1   1]\n",
      " [  0   3   5  28  59  90 175 241 186 136  37  16   1   1   0]\n",
      " [  0   0   0   0   0   0   0   0   0   0   0   0   0   0   0]\n",
      " [  0   0   0   0   0   0   0   0   0   0   0   0   0   0   0]\n",
      " [  0   0   0   0   0   0   0   0   0   0   0   0   0   0   0]\n",
      " [  0   0   0   0   0   0   0   0   0   0   0   0   0   0   0]\n",
      " [  0   0   0   0   0   0   0   0   0   0   0   0   0   0   0]]\n"
     ]
    }
   ],
   "source": [
    "# On train set\n",
    "P=np.abs(np.round(np.real(M.predict(np.transpose(X_train)))))\n",
    "\n",
    "print(classification_report(Y_train,P.T))\n",
    "print(confusion_matrix(Y_train, P.T))"
   ]
  },
  {
   "cell_type": "code",
   "execution_count": 28,
   "metadata": {},
   "outputs": [
    {
     "name": "stdout",
     "output_type": "stream",
     "text": [
      "             precision    recall  f1-score   support\n",
      "\n",
      "        0.0       0.70      0.20      0.31       980\n",
      "        1.0       0.34      0.26      0.30      1135\n",
      "        2.0       0.18      0.21      0.19      1032\n",
      "        3.0       0.22      0.28      0.25      1010\n",
      "        4.0       0.11      0.15      0.13       982\n",
      "        5.0       0.16      0.27      0.20       892\n",
      "        6.0       0.14      0.22      0.18       958\n",
      "        7.0       0.21      0.23      0.22      1028\n",
      "        8.0       0.19      0.12      0.15       974\n",
      "        9.0       0.45      0.10      0.16      1009\n",
      "       10.0       0.00      0.00      0.00         0\n",
      "       11.0       0.00      0.00      0.00         0\n",
      "\n",
      "avg / total       0.27      0.21      0.21     10000\n",
      "\n",
      "[[196 355 218 117  51  35   6   2   0   0   0   0]\n",
      " [  3 300 467 234  88  26  12   4   1   0   0   0]\n",
      " [ 56 147 220 248 206 111  36   6   0   2   0   0]\n",
      " [ 22  67 198 280 218 124  62  27  11   0   1   0]\n",
      " [  0   1   9  64 147 282 282 141  49   7   0   0]\n",
      " [  1   8  58 127 204 241 163  66  15   7   2   0]\n",
      " [  3  10  54  82 196 241 215 115  37   5   0   0]\n",
      " [  0   1  16  34  75 164 280 235 149  56  14   4]\n",
      " [  0   2   9  60  95 166 242 224 119  43  14   0]\n",
      " [  0   0   2  12  45  81 187 301 260 100  17   4]\n",
      " [  0   0   0   0   0   0   0   0   0   0   0   0]\n",
      " [  0   0   0   0   0   0   0   0   0   0   0   0]]\n"
     ]
    }
   ],
   "source": [
    "# On test set\n",
    "P=np.abs(np.round(np.real(M.predict(np.transpose(X_test)))))\n",
    "\n",
    "print(classification_report(Y_test,P.T))\n",
    "print(confusion_matrix(Y_test, P.T))\n"
   ]
  },
  {
   "cell_type": "markdown",
   "metadata": {},
   "source": [
    "# E(h|v) via SGD"
   ]
  },
  {
   "cell_type": "code",
   "execution_count": 14,
   "metadata": {},
   "outputs": [
    {
     "name": "stdout",
     "output_type": "stream",
     "text": [
      "Iteration 0 in 0.50(s), cost = 4.009833\n"
     ]
    },
    {
     "ename": "KeyboardInterrupt",
     "evalue": "",
     "output_type": "error",
     "traceback": [
      "\u001b[0;31m---------------------------------------------------------------------------\u001b[0m",
      "\u001b[0;31mKeyboardInterrupt\u001b[0m                         Traceback (most recent call last)",
      "\u001b[0;32m<ipython-input-14-f143167c9cdf>\u001b[0m in \u001b[0;36m<module>\u001b[0;34m()\u001b[0m\n\u001b[1;32m      4\u001b[0m \u001b[0;34m\u001b[0m\u001b[0m\n\u001b[1;32m      5\u001b[0m \u001b[0mminim\u001b[0m \u001b[0;34m=\u001b[0m \u001b[0mminimizer\u001b[0m\u001b[0;34m.\u001b[0m\u001b[0mSGD\u001b[0m\u001b[0;34m(\u001b[0m\u001b[0;34m)\u001b[0m\u001b[0;34m\u001b[0m\u001b[0m\n\u001b[0;32m----> 6\u001b[0;31m \u001b[0msol\u001b[0m\u001b[0;34m=\u001b[0m\u001b[0mminim\u001b[0m\u001b[0;34m.\u001b[0m\u001b[0mtrain\u001b[0m\u001b[0;34m(\u001b[0m\u001b[0mmse\u001b[0m\u001b[0;34m(\u001b[0m\u001b[0;34m)\u001b[0m\u001b[0;34m,\u001b[0m \u001b[0mM\u001b[0m\u001b[0;34m,\u001b[0m \u001b[0mnp\u001b[0m\u001b[0;34m.\u001b[0m\u001b[0mtranspose\u001b[0m\u001b[0;34m(\u001b[0m\u001b[0mX_train\u001b[0m\u001b[0;34m)\u001b[0m\u001b[0;34m,\u001b[0m \u001b[0mY_train\u001b[0m\u001b[0;34m.\u001b[0m\u001b[0mreshape\u001b[0m\u001b[0;34m(\u001b[0m\u001b[0;36m1\u001b[0m\u001b[0;34m,\u001b[0m\u001b[0mY_train\u001b[0m\u001b[0;34m.\u001b[0m\u001b[0mshape\u001b[0m\u001b[0;34m[\u001b[0m\u001b[0;36m0\u001b[0m\u001b[0;34m]\u001b[0m\u001b[0;34m)\u001b[0m\u001b[0;34m,\u001b[0m\u001b[0mlr\u001b[0m\u001b[0;34m=\u001b[0m\u001b[0;36m100\u001b[0m\u001b[0;34m,\u001b[0m\u001b[0mmomentum\u001b[0m\u001b[0;34m=\u001b[0m\u001b[0;36m0.1\u001b[0m\u001b[0;34m,\u001b[0m \u001b[0mnesterov\u001b[0m\u001b[0;34m=\u001b[0m\u001b[0mTrue\u001b[0m\u001b[0;34m,\u001b[0m \u001b[0mmaxiter\u001b[0m\u001b[0;34m=\u001b[0m\u001b[0;36m1000\u001b[0m\u001b[0;34m,\u001b[0m \u001b[0mbatch_size\u001b[0m\u001b[0;34m=\u001b[0m\u001b[0;36m1000\u001b[0m\u001b[0;34m)\u001b[0m\u001b[0;34m\u001b[0m\u001b[0m\n\u001b[0m",
      "\u001b[0;32m/home/krefl/RTBM/rtbm/minimizer.pyc\u001b[0m in \u001b[0;36mtrain\u001b[0;34m(self, cost, model, x_data, y_data, maxiter, batch_size, lr, momentum, nesterov, noise, log_step)\u001b[0m\n\u001b[1;32m    148\u001b[0m                 \u001b[0mXout\u001b[0m \u001b[0;34m=\u001b[0m \u001b[0mmodel\u001b[0m\u001b[0;34m.\u001b[0m\u001b[0mfeed_through\u001b[0m\u001b[0;34m(\u001b[0m\u001b[0mdata_x\u001b[0m\u001b[0;34m,\u001b[0m \u001b[0mTrue\u001b[0m\u001b[0;34m)\u001b[0m\u001b[0;34m\u001b[0m\u001b[0m\n\u001b[1;32m    149\u001b[0m                 \u001b[0mC\u001b[0m \u001b[0;34m=\u001b[0m \u001b[0mcost\u001b[0m\u001b[0;34m.\u001b[0m\u001b[0mcost\u001b[0m\u001b[0;34m(\u001b[0m\u001b[0mXout\u001b[0m\u001b[0;34m,\u001b[0m\u001b[0mdata_y\u001b[0m\u001b[0;34m)\u001b[0m\u001b[0;34m\u001b[0m\u001b[0m\n\u001b[0;32m--> 150\u001b[0;31m                 \u001b[0mmodel\u001b[0m\u001b[0;34m.\u001b[0m\u001b[0mbackprop\u001b[0m\u001b[0;34m(\u001b[0m\u001b[0mcost\u001b[0m\u001b[0;34m.\u001b[0m\u001b[0mgradient\u001b[0m\u001b[0;34m(\u001b[0m\u001b[0mXout\u001b[0m\u001b[0;34m,\u001b[0m\u001b[0mdata_y\u001b[0m\u001b[0;34m)\u001b[0m\u001b[0;34m)\u001b[0m\u001b[0;34m\u001b[0m\u001b[0m\n\u001b[0m\u001b[1;32m    151\u001b[0m \u001b[0;34m\u001b[0m\u001b[0m\n\u001b[1;32m    152\u001b[0m                 \u001b[0mW\u001b[0m \u001b[0;34m=\u001b[0m \u001b[0mmodel\u001b[0m\u001b[0;34m.\u001b[0m\u001b[0mget_parameters\u001b[0m\u001b[0;34m(\u001b[0m\u001b[0;34m)\u001b[0m\u001b[0;34m\u001b[0m\u001b[0m\n",
      "\u001b[0;32m/home/krefl/RTBM/rtbm/model.pyc\u001b[0m in \u001b[0;36mbackprop\u001b[0;34m(self, E)\u001b[0m\n\u001b[1;32m     40\u001b[0m \u001b[0;34m\u001b[0m\u001b[0m\n\u001b[1;32m     41\u001b[0m         \u001b[0;32mfor\u001b[0m \u001b[0mi\u001b[0m \u001b[0;32min\u001b[0m \u001b[0mreversed\u001b[0m\u001b[0;34m(\u001b[0m\u001b[0mrange\u001b[0m\u001b[0;34m(\u001b[0m\u001b[0mlen\u001b[0m\u001b[0;34m(\u001b[0m\u001b[0mself\u001b[0m\u001b[0;34m.\u001b[0m\u001b[0m_layers\u001b[0m\u001b[0;34m)\u001b[0m\u001b[0;34m)\u001b[0m\u001b[0;34m)\u001b[0m\u001b[0;34m:\u001b[0m\u001b[0;34m\u001b[0m\u001b[0m\n\u001b[0;32m---> 42\u001b[0;31m             \u001b[0me\u001b[0m \u001b[0;34m=\u001b[0m \u001b[0mself\u001b[0m\u001b[0;34m.\u001b[0m\u001b[0m_layers\u001b[0m\u001b[0;34m[\u001b[0m\u001b[0mi\u001b[0m\u001b[0;34m]\u001b[0m\u001b[0;34m.\u001b[0m\u001b[0mbackprop\u001b[0m\u001b[0;34m(\u001b[0m\u001b[0me\u001b[0m\u001b[0;34m)\u001b[0m\u001b[0;34m\u001b[0m\u001b[0m\n\u001b[0m\u001b[1;32m     43\u001b[0m         \u001b[0;32mreturn\u001b[0m \u001b[0me\u001b[0m\u001b[0;34m\u001b[0m\u001b[0m\n\u001b[1;32m     44\u001b[0m \u001b[0;34m\u001b[0m\u001b[0m\n",
      "\u001b[0;32m/home/krefl/RTBM/rtbm/layers.py\u001b[0m in \u001b[0;36mbackprop\u001b[0;34m(self, E)\u001b[0m\n\u001b[1;32m    518\u001b[0m \u001b[0;34m\u001b[0m\u001b[0m\n\u001b[1;32m    519\u001b[0m         \u001b[0mself\u001b[0m\u001b[0;34m.\u001b[0m\u001b[0m_gradQ\u001b[0m \u001b[0;34m=\u001b[0m \u001b[0mnp\u001b[0m\u001b[0;34m.\u001b[0m\u001b[0mdiag\u001b[0m\u001b[0;34m(\u001b[0m\u001b[0mnp\u001b[0m\u001b[0;34m.\u001b[0m\u001b[0mmean\u001b[0m\u001b[0;34m(\u001b[0m\u001b[0mrho\u001b[0m\u001b[0;34m,\u001b[0m \u001b[0maxis\u001b[0m\u001b[0;34m=\u001b[0m\u001b[0;36m1\u001b[0m\u001b[0;34m)\u001b[0m\u001b[0;34m.\u001b[0m\u001b[0mflatten\u001b[0m\u001b[0;34m(\u001b[0m\u001b[0;34m)\u001b[0m\u001b[0;34m)\u001b[0m\u001b[0;34m\u001b[0m\u001b[0m\n\u001b[0;32m--> 520\u001b[0;31m \u001b[0;34m\u001b[0m\u001b[0m\n\u001b[0m\u001b[1;32m    521\u001b[0m         \u001b[0;31m# W grad\u001b[0m\u001b[0;34m\u001b[0m\u001b[0;34m\u001b[0m\u001b[0m\n\u001b[1;32m    522\u001b[0m         \u001b[0mdelta\u001b[0m \u001b[0;34m=\u001b[0m \u001b[0mkappa\u001b[0m\u001b[0;34m*\u001b[0m\u001b[0mE\u001b[0m\u001b[0;34m\u001b[0m\u001b[0m\n",
      "\u001b[0;32m/usr/local/lib/python2.7/dist-packages/numpy-1.14.0.dev0+d607099-py2.7-linux-x86_64.egg/numpy/core/fromnumeric.pyc\u001b[0m in \u001b[0;36mmean\u001b[0;34m(a, axis, dtype, out, keepdims)\u001b[0m\n\u001b[1;32m   2925\u001b[0m \u001b[0;34m\u001b[0m\u001b[0m\n\u001b[1;32m   2926\u001b[0m     return _methods._mean(a, axis=axis, dtype=dtype,\n\u001b[0;32m-> 2927\u001b[0;31m                           out=out, **kwargs)\n\u001b[0m\u001b[1;32m   2928\u001b[0m \u001b[0;34m\u001b[0m\u001b[0m\n\u001b[1;32m   2929\u001b[0m \u001b[0;34m\u001b[0m\u001b[0m\n",
      "\u001b[0;32m/usr/local/lib/python2.7/dist-packages/numpy-1.14.0.dev0+d607099-py2.7-linux-x86_64.egg/numpy/core/_methods.pyc\u001b[0m in \u001b[0;36m_mean\u001b[0;34m(a, axis, dtype, out, keepdims)\u001b[0m\n\u001b[1;32m     71\u001b[0m     \u001b[0;32mif\u001b[0m \u001b[0misinstance\u001b[0m\u001b[0;34m(\u001b[0m\u001b[0mret\u001b[0m\u001b[0;34m,\u001b[0m \u001b[0mmu\u001b[0m\u001b[0;34m.\u001b[0m\u001b[0mndarray\u001b[0m\u001b[0;34m)\u001b[0m\u001b[0;34m:\u001b[0m\u001b[0;34m\u001b[0m\u001b[0m\n\u001b[1;32m     72\u001b[0m         ret = um.true_divide(\n\u001b[0;32m---> 73\u001b[0;31m                 ret, rcount, out=ret, casting='unsafe', subok=False)\n\u001b[0m\u001b[1;32m     74\u001b[0m         \u001b[0;32mif\u001b[0m \u001b[0mis_float16_result\u001b[0m \u001b[0;32mand\u001b[0m \u001b[0mout\u001b[0m \u001b[0;32mis\u001b[0m \u001b[0mNone\u001b[0m\u001b[0;34m:\u001b[0m\u001b[0;34m\u001b[0m\u001b[0m\n\u001b[1;32m     75\u001b[0m             \u001b[0mret\u001b[0m \u001b[0;34m=\u001b[0m \u001b[0marr\u001b[0m\u001b[0;34m.\u001b[0m\u001b[0mdtype\u001b[0m\u001b[0;34m.\u001b[0m\u001b[0mtype\u001b[0m\u001b[0;34m(\u001b[0m\u001b[0mret\u001b[0m\u001b[0;34m)\u001b[0m\u001b[0;34m\u001b[0m\u001b[0m\n",
      "\u001b[0;31mKeyboardInterrupt\u001b[0m: "
     ]
    },
    {
     "name": "stderr",
     "output_type": "stream",
     "text": [
      "Process PoolWorker-15:\n",
      "Process PoolWorker-10:\n",
      "Process PoolWorker-13:\n",
      "Traceback (most recent call last):\n",
      "Traceback (most recent call last):\n",
      "Process PoolWorker-11:\n",
      "  File \"/usr/lib/python2.7/multiprocessing/process.py\", line 258, in _bootstrap\n",
      "Process PoolWorker-12:\n",
      "Process PoolWorker-16:\n",
      "Traceback (most recent call last):\n",
      "Traceback (most recent call last):\n",
      "  File \"/usr/lib/python2.7/multiprocessing/process.py\", line 258, in _bootstrap\n",
      "    self.run()\n",
      "  File \"/usr/lib/python2.7/multiprocessing/process.py\", line 114, in run\n",
      "Traceback (most recent call last):\n",
      "Process PoolWorker-14:\n",
      "Process PoolWorker-9:\n",
      "    self.run()\n",
      "    self._target(*self._args, **self._kwargs)\n",
      "Traceback (most recent call last):\n",
      "  File \"/usr/lib/python2.7/multiprocessing/process.py\", line 258, in _bootstrap\n",
      "  File \"/usr/lib/python2.7/multiprocessing/process.py\", line 258, in _bootstrap\n",
      "Traceback (most recent call last):\n",
      "    self.run()\n",
      "  File \"/usr/lib/python2.7/multiprocessing/pool.py\", line 102, in worker\n",
      "  File \"/usr/lib/python2.7/multiprocessing/process.py\", line 258, in _bootstrap\n",
      "Traceback (most recent call last):\n",
      "  File \"/usr/lib/python2.7/multiprocessing/process.py\", line 258, in _bootstrap\n",
      "    task = get()\n",
      "    self.run()\n",
      "    self.run()\n",
      "  File \"/usr/lib/python2.7/multiprocessing/process.py\", line 114, in run\n",
      "  File \"/usr/lib/python2.7/multiprocessing/process.py\", line 114, in run\n",
      "  File \"/usr/lib/python2.7/multiprocessing/process.py\", line 258, in _bootstrap\n",
      "    self._target(*self._args, **self._kwargs)\n",
      "    self._target(*self._args, **self._kwargs)\n",
      "    task = get()\n",
      "  File \"/usr/lib/python2.7/multiprocessing/process.py\", line 114, in run\n",
      "  File \"/usr/lib/python2.7/multiprocessing/process.py\", line 114, in run\n",
      "  File \"/usr/lib/python2.7/multiprocessing/pool.py\", line 102, in worker\n",
      "  File \"/usr/lib/python2.7/multiprocessing/queues.py\", line 374, in get\n",
      "    self._target(*self._args, **self._kwargs)\n",
      "    self._target(*self._args, **self._kwargs)\n",
      "  File \"/usr/lib/python2.7/multiprocessing/process.py\", line 258, in _bootstrap\n",
      "    racquire()\n",
      "  File \"/usr/lib/python2.7/multiprocessing/pool.py\", line 102, in worker\n",
      "  File \"/usr/lib/python2.7/multiprocessing/queues.py\", line 374, in get\n",
      "KeyboardInterrupt\n",
      "    self.run()\n",
      "    self.run()\n",
      "  File \"/usr/lib/python2.7/multiprocessing/queues.py\", line 374, in get\n",
      "    self.run()\n",
      "  File \"/usr/lib/python2.7/multiprocessing/pool.py\", line 102, in worker\n",
      "  File \"/usr/lib/python2.7/multiprocessing/pool.py\", line 102, in worker\n",
      "    task = get()\n",
      "    racquire()\n",
      "  File \"/usr/lib/python2.7/multiprocessing/process.py\", line 114, in run\n",
      "  File \"/usr/lib/python2.7/multiprocessing/process.py\", line 114, in run\n",
      "  File \"/usr/lib/python2.7/multiprocessing/process.py\", line 114, in run\n",
      "    self._target(*self._args, **self._kwargs)\n",
      "KeyboardInterrupt\n",
      "    racquire()\n",
      "    task = get()\n",
      "  File \"/usr/lib/python2.7/multiprocessing/queues.py\", line 374, in get\n",
      "KeyboardInterrupt\n",
      "    task = get()\n",
      "    self._target(*self._args, **self._kwargs)\n",
      "  File \"/usr/lib/python2.7/multiprocessing/queues.py\", line 374, in get\n",
      "    self._target(*self._args, **self._kwargs)\n",
      "  File \"/usr/lib/python2.7/multiprocessing/pool.py\", line 102, in worker\n",
      "    racquire()\n",
      "KeyboardInterrupt\n",
      "    task = get()\n",
      "  File \"/usr/lib/python2.7/multiprocessing/queues.py\", line 374, in get\n",
      "    racquire()\n",
      "  File \"/usr/lib/python2.7/multiprocessing/pool.py\", line 102, in worker\n",
      "KeyboardInterrupt\n",
      "  File \"/usr/lib/python2.7/multiprocessing/pool.py\", line 102, in worker\n",
      "    racquire()\n",
      "KeyboardInterrupt\n",
      "    task = get()\n",
      "  File \"/usr/lib/python2.7/multiprocessing/queues.py\", line 374, in get\n",
      "    racquire()\n",
      "KeyboardInterrupt\n",
      "    task = get()\n",
      "  File \"/usr/lib/python2.7/multiprocessing/queues.py\", line 374, in get\n",
      "    racquire()\n",
      "KeyboardInterrupt\n"
     ]
    }
   ],
   "source": [
    "M = mdl.Model()\n",
    "M.add(layers.DiagExpectationUnitLayer(784,1))\n",
    "#M.add(layers.DiagExpectationUnitLayer(10,1))\n",
    "\n",
    "minim = minimizer.SGD()\n",
    "sol=minim.train(mse(), M, np.transpose(X_train), Y_train.reshape(1,Y_train.shape[0]),lr=100,momentum=0.1, nesterov=True, maxiter=1000, batch_size=1000)"
   ]
  },
  {
   "cell_type": "code",
   "execution_count": null,
   "metadata": {},
   "outputs": [],
   "source": [
    "# On train set\n",
    "P=np.abs(np.round(np.real(M.predict(np.transpose(X_train)))))\n",
    "\n",
    "\n",
    "print(classification_report(Y_train,P.T))\n",
    "print(confusion_matrix(Y_train, P.T))"
   ]
  },
  {
   "cell_type": "code",
   "execution_count": null,
   "metadata": {},
   "outputs": [],
   "source": [
    "# On test set\n",
    "P=np.abs(np.round(np.real(M.predict(np.transpose(X_test)))))\n",
    "\n",
    "print(classification_report(Y_test,P.T))\n",
    "print(confusion_matrix(Y_test, P.T))\n",
    "\n"
   ]
  },
  {
   "cell_type": "markdown",
   "metadata": {},
   "source": [
    "# E(h|v) via CMA"
   ]
  },
  {
   "cell_type": "code",
   "execution_count": 9,
   "metadata": {},
   "outputs": [
    {
     "name": "stdout",
     "output_type": "stream",
     "text": [
      "CMA on 1 cpu(s) enabled\n",
      "(13_w,27)-aCMA-ES (mu_w=7.8,w_1=22%) in dimension 2363 (seed=1057215, Mon Nov  6 06:03:49 2017)\n",
      "Iterat #Fevals   function value  axis ratio  sigma  min&max std  t[m:s]\n",
      "    1     27 8.432775907943645e+00 1.0e+00 9.96e-01  1e+00  1e+00 0:00.2\n",
      "    2     54 7.165652619614564e+00 1.0e+00 9.93e-01  1e+00  1e+00 0:01.5\n",
      "    3     81 7.912105729280427e+00 1.0e+00 9.89e-01  1e+00  1e+00 0:02.7\n",
      "    6    162 5.418252810319234e+00 1.0e+00 9.79e-01  1e+00  1e+00 0:06.1\n",
      "   10    270 3.968259427223221e+00 1.0e+00 9.68e-01  1e+00  1e+00 0:10.8\n",
      "   15    405 3.519140165301580e+00 1.0e+00 9.54e-01  1e+00  1e+00 0:15.9\n",
      "   20    540 3.488005967874373e+00 1.0e+00 9.42e-01  9e-01  9e-01 0:22.2\n",
      "   28    756 3.043410483177555e+00 1.0e+00 9.24e-01  9e-01  9e-01 0:30.2\n",
      "   35    945 2.851399375488116e+00 1.0e+00 9.10e-01  9e-01  9e-01 0:38.2\n",
      "   45   1215 2.675786713304412e+00 1.0e+00 8.94e-01  9e-01  9e-01 0:47.6\n",
      "   55   1485 2.531320498799549e+00 1.0e+00 8.79e-01  9e-01  9e-01 0:58.3\n",
      "   67   1809 2.501493127864642e+00 1.0e+00 8.64e-01  9e-01  9e-01 1:09.6\n",
      "   79   2133 2.463489077853668e+00 1.0e+00 8.51e-01  9e-01  9e-01 1:22.1\n",
      "   92   2484 2.288151326076993e+00 1.0e+00 8.39e-01  8e-01  8e-01 1:35.5\n",
      "  100   2700 2.310678775787644e+00 1.0e+00 8.33e-01  8e-01  8e-01 1:43.0\n",
      "  115   3105 2.299250124136960e+00 1.0e+00 8.22e-01  8e-01  8e-01 1:58.3\n",
      "  131   3537 2.237307248214713e+00 1.0e+00 8.13e-01  8e-01  8e-01 2:14.7\n",
      "  148   3996 2.281071440733995e+00 1.0e+00 8.04e-01  8e-01  8e-01 2:31.9\n",
      "  166   4482 2.261283233199151e+00 1.0e+00 7.95e-01  8e-01  8e-01 2:50.0\n",
      "  185   4995 2.259749211358540e+00 1.0e+00 7.88e-01  8e-01  8e-01 3:09.2\n",
      "  200   5400 2.187641617057950e+00 1.0e+00 7.82e-01  8e-01  8e-01 3:24.6\n",
      "  221   5967 2.222677696964312e+00 1.0e+00 7.76e-01  8e-01  8e-01 3:45.7\n",
      "  242   6534 2.179925055228471e+00 1.0e+00 7.72e-01  8e-01  8e-01 4:08.0\n",
      "  266   7182 2.167415000354713e+00 1.0e+00 7.67e-01  8e-01  8e-01 4:31.9\n",
      "  290   7830 2.097046850715337e+00 1.0e+00 7.64e-01  8e-01  8e-01 4:57.1\n",
      "  300   8100 2.082328036767722e+00 1.0e+00 7.62e-01  8e-01  8e-01 5:06.4\n",
      "  322   8694 2.139035430927883e+00 1.0e+00 7.60e-01  8e-01  8e-01 5:32.9\n",
      "  348   9396 2.126716142041053e+00 1.0e+00 7.57e-01  8e-01  8e-01 5:59.9\n",
      "  375  10125 2.108757270407466e+00 1.1e+00 7.54e-01  8e-01  8e-01 6:28.0\n",
      "  400  10800 2.127740723843613e+00 1.1e+00 7.52e-01  8e-01  8e-01 6:52.8\n",
      "  424  11448 2.129484392020606e+00 1.1e+00 7.51e-01  8e-01  8e-01 7:23.4\n",
      "  455  12285 2.205639356399379e+00 1.1e+00 7.50e-01  7e-01  8e-01 7:55.2\n",
      "  487  13149 2.211635231765589e+00 1.1e+00 7.50e-01  7e-01  8e-01 8:27.9\n",
      "  500  13500 2.207807461911076e+00 1.1e+00 7.50e-01  7e-01  8e-01 8:41.5\n",
      "  534  14418 2.191940373117038e+00 1.1e+00 7.50e-01  7e-01  8e-01 9:16.2\n",
      "  569  15363 2.148870413122640e+00 1.1e+00 7.48e-01  7e-01  7e-01 9:51.7\n",
      "  600  16200 2.233676511063321e+00 1.1e+00 7.46e-01  7e-01  7e-01 10:23.4\n",
      "  626  16902 2.187018230112666e+00 1.1e+00 7.44e-01  7e-01  7e-01 11:00.6\n",
      "  649  17523 2.107588401035355e+00 1.1e+00 7.42e-01  7e-01  7e-01 11:38.6\n",
      "  674  18198 2.132872200393597e+00 1.1e+00 7.39e-01  7e-01  7e-01 12:17.9\n",
      "  699  18873 2.264242469003074e+00 1.1e+00 7.37e-01  7e-01  7e-01 12:59.1\n",
      "  700  18900 2.183418377416305e+00 1.1e+00 7.37e-01  7e-01  7e-01 13:00.6\n",
      "  727  19629 2.245411538313972e+00 1.1e+00 7.35e-01  7e-01  7e-01 13:42.8\n",
      "  754  20358 2.208509918955242e+00 1.1e+00 7.34e-01  7e-01  7e-01 14:26.9\n",
      "  783  21141 2.254698453133596e+00 1.1e+00 7.32e-01  7e-01  7e-01 15:14.0\n",
      "  800  21600 2.273518089317478e+00 1.1e+00 7.31e-01  7e-01  7e-01 15:41.2\n",
      "  830  22410 2.243889481380724e+00 1.1e+00 7.30e-01  7e-01  7e-01 16:27.7\n",
      "  873  23571 2.220049414883198e+00 1.1e+00 7.28e-01  7e-01  7e-01 17:15.2\n",
      "  900  24300 2.186598671333490e+00 1.2e+00 7.26e-01  7e-01  7e-01 17:41.9\n",
      "  948  25596 2.176608836813585e+00 1.2e+00 7.23e-01  7e-01  7e-01 18:31.3\n",
      "  985  26595 2.236056091967334e+00 1.2e+00 7.21e-01  7e-01  7e-01 19:21.6\n",
      " 1000  27000 2.328516641801481e+00 1.2e+00 7.21e-01  7e-01  7e-01 19:44.2\n",
      "CMAEvolutionStrategyResult(xbest=array([ 9.38381587, -9.98686278, -0.51457232, ...,  0.25825113,\n",
      "        2.2253194 ,  8.15677994]), fbest=2.057770937211962, evals_best=9949, evaluations=27000, iterations=1000, xfavorite=array([ 14.66792672, -15.90251389,  13.04660149, ...,  -1.01079846,\n",
      "         1.75282321,  11.62816906]), stds=array([0.72052529, 0.72069735, 0.72047649, ..., 0.71983422, 0.71950929,\n",
      "       0.72027014]))\n"
     ]
    }
   ],
   "source": [
    "M = mdl.Model()\n",
    "M.add(layers.DiagExpectationUnitLayer(784,3, phase=1))\n",
    "M.add(layers.DiagExpectationUnitLayer(3,1, phase=1))\n",
    "\n",
    "minim = minimizer.CMA(False)\n",
    "sol=minim.train(mse(), M, np.transpose(X_train), np.transpose(Y_train), maxiter=1000)"
   ]
  },
  {
   "cell_type": "code",
   "execution_count": 10,
   "metadata": {},
   "outputs": [
    {
     "name": "stdout",
     "output_type": "stream",
     "text": [
      "             precision    recall  f1-score   support\n",
      "\n",
      "        0.0       0.62      0.15      0.25      1001\n",
      "        1.0       0.33      0.25      0.28      1127\n",
      "        2.0       0.19      0.24      0.21       991\n",
      "        3.0       0.20      0.27      0.23      1032\n",
      "        4.0       0.11      0.17      0.13       980\n",
      "        5.0       0.13      0.22      0.16       863\n",
      "        6.0       0.14      0.18      0.16      1014\n",
      "        7.0       0.25      0.24      0.25      1070\n",
      "        8.0       0.20      0.12      0.15       944\n",
      "        9.0       0.45      0.09      0.15       978\n",
      "       10.0       0.00      0.00      0.00         0\n",
      "       11.0       0.00      0.00      0.00         0\n",
      "\n",
      "avg / total       0.26      0.20      0.20     10000\n",
      "\n",
      "[[155 305 254 145  73  44  16   8   1   0   0   0]\n",
      " [ 20 284 388 279 116  25  11   4   0   0   0   0]\n",
      " [ 51 154 241 244 170  83  30  14   3   1   0   0]\n",
      " [ 17  71 225 278 256 106  52  17   8   2   0   0]\n",
      " [  4  13  32  69 169 261 230 145  47  10   0   0]\n",
      " [  1  20  72 181 233 193 110  39  11   3   0   0]\n",
      " [  1  10  29 116 296 304 178  72   8   0   0   0]\n",
      " [  0   3  16  41 104 190 266 253 144  47   6   0]\n",
      " [  1   5  17  55 133 202 194 155 117  39  22   4]\n",
      " [  0   3   7  16  30  88 190 287 251  85  20   1]\n",
      " [  0   0   0   0   0   0   0   0   0   0   0   0]\n",
      " [  0   0   0   0   0   0   0   0   0   0   0   0]]\n"
     ]
    }
   ],
   "source": [
    "# On train set\n",
    "P=np.abs(np.round(np.real(M.predict(np.transpose(X_train)))))\n",
    "\n",
    "\n",
    "print(classification_report(Y_train,P.T))\n",
    "print(confusion_matrix(Y_train, P.T))"
   ]
  },
  {
   "cell_type": "code",
   "execution_count": 11,
   "metadata": {},
   "outputs": [
    {
     "name": "stdout",
     "output_type": "stream",
     "text": [
      "             precision    recall  f1-score   support\n",
      "\n",
      "        0.0       0.54      0.14      0.22       980\n",
      "        1.0       0.31      0.24      0.27      1135\n",
      "        2.0       0.19      0.23      0.21      1032\n",
      "        3.0       0.19      0.25      0.22      1010\n",
      "        4.0       0.10      0.15      0.12       982\n",
      "        5.0       0.15      0.24      0.18       892\n",
      "        6.0       0.13      0.19      0.16       958\n",
      "        7.0       0.21      0.22      0.22      1028\n",
      "        8.0       0.23      0.14      0.17       974\n",
      "        9.0       0.45      0.12      0.19      1009\n",
      "       10.0       0.00      0.00      0.00         0\n",
      "       11.0       0.00      0.00      0.00         0\n",
      "\n",
      "avg / total       0.25      0.19      0.20     10000\n",
      "\n",
      "[[137 297 274 143  71  40  14   3   1   0   0   0]\n",
      " [ 28 278 390 293 106  33   4   3   0   0   0   0]\n",
      " [ 62 172 235 213 180 106  49   9   5   1   0   0]\n",
      " [ 19  92 189 253 236 121  72  19   7   1   1   0]\n",
      " [  3   8  21  59 149 270 266 160  36   8   2   0]\n",
      " [  0  14  60 138 212 212 154  81  13   6   2   0]\n",
      " [  4  22  56 120 229 258 184  79   6   0   0   0]\n",
      " [  0   5  12  39 104 177 237 227 147  69  11   0]\n",
      " [  0   5  16  44 106 158 210 218 136  64  16   1]\n",
      " [  0   5   6  10  48  76 204 281 240 121  17   1]\n",
      " [  0   0   0   0   0   0   0   0   0   0   0   0]\n",
      " [  0   0   0   0   0   0   0   0   0   0   0   0]]\n"
     ]
    }
   ],
   "source": [
    "# On test set\n",
    "P=np.abs(np.round(np.real(M.predict(np.transpose(X_test)))))\n",
    "\n",
    "print(classification_report(Y_test,P.T))\n",
    "print(confusion_matrix(Y_test, P.T))\n"
   ]
  },
  {
   "cell_type": "code",
   "execution_count": null,
   "metadata": {},
   "outputs": [],
   "source": []
  }
 ],
 "metadata": {
  "kernelspec": {
   "display_name": "Python 2",
   "language": "python",
   "name": "python2"
  },
  "language_info": {
   "codemirror_mode": {
    "name": "ipython",
    "version": 2
   },
   "file_extension": ".py",
   "mimetype": "text/x-python",
   "name": "python",
   "nbconvert_exporter": "python",
   "pygments_lexer": "ipython2",
   "version": "2.7.6"
  }
 },
 "nbformat": 4,
 "nbformat_minor": 1
}

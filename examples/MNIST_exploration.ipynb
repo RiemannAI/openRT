{
 "cells": [
  {
   "cell_type": "code",
   "execution_count": 1,
   "metadata": {},
   "outputs": [],
   "source": [
    "import numpy as np\n",
    "import pandas as pd\n",
    "from matplotlib import pyplot as plt\n",
    "from sklearn import linear_model\n",
    "from sklearn.metrics import confusion_matrix, classification_report\n",
    "\n",
    "from rtbm import RTBM, minimizer\n",
    "\n",
    "import rtbm.layers as layers\n",
    "import rtbm.model as mdl\n",
    "\n",
    "import warnings\n",
    "warnings.filterwarnings('ignore')\n",
    "\n",
    "from rtbm.costfunctions import mse, crossentropy\n"
   ]
  },
  {
   "cell_type": "code",
   "execution_count": 2,
   "metadata": {},
   "outputs": [],
   "source": [
    "# Load MNIST dataset\n",
    "MNIST_train = pd.read_csv('~/data/mnist_train.csv', delimiter=\",\",header=None).values\n",
    "MNIST_test  = pd.read_csv('~/data/mnist_test.csv', delimiter=\",\",header=None).values\n",
    "\n",
    "# Prepare data (normalized onto [0,1])\n",
    "Y_train = MNIST_train[0:10000,0]\n",
    "X_train = MNIST_train[0:10000,1:]/255.0\n",
    "\n",
    "Y_test = MNIST_test[:,0]\n",
    "X_test = MNIST_test[:,1:]/255.0"
   ]
  },
  {
   "cell_type": "code",
   "execution_count": null,
   "metadata": {
    "scrolled": true
   },
   "outputs": [],
   "source": [
    "# Visualize individual pics\n",
    "i=10\n",
    "print(Y_train[i])\n",
    "I=np.reshape(X_train[i], (28,28))\n",
    "plt.imshow(I, interpolation='nearest',  cmap='gray_r')\n",
    "plt.show()"
   ]
  },
  {
   "cell_type": "markdown",
   "metadata": {},
   "source": [
    "# Logistic regression baseline"
   ]
  },
  {
   "cell_type": "code",
   "execution_count": null,
   "metadata": {},
   "outputs": [],
   "source": [
    "# Logistic regression baseline\n",
    "logreg = linear_model.LogisticRegression(multi_class='multinomial',solver='lbfgs')\n",
    "\n",
    "logreg.fit(X_train,Y_train)\n"
   ]
  },
  {
   "cell_type": "code",
   "execution_count": null,
   "metadata": {},
   "outputs": [],
   "source": [
    "# On train set\n",
    "\n",
    "P=logreg.predict(X_train)\n",
    "\n",
    "print(classification_report(Y_train,P))\n",
    "print(confusion_matrix(Y_train, P))\n"
   ]
  },
  {
   "cell_type": "code",
   "execution_count": null,
   "metadata": {},
   "outputs": [],
   "source": [
    "# On test set\n",
    "P=logreg.predict(X_test)\n",
    "\n",
    "print(classification_report(Y_test,P))\n",
    "print(confusion_matrix(Y_test, P))\n"
   ]
  },
  {
   "cell_type": "markdown",
   "metadata": {},
   "source": [
    "# Linear regression base line"
   ]
  },
  {
   "cell_type": "code",
   "execution_count": null,
   "metadata": {},
   "outputs": [],
   "source": [
    "linreg = linear_model.LinearRegression()\n",
    "\n",
    "linreg.fit(X_train,Y_train)\n"
   ]
  },
  {
   "cell_type": "code",
   "execution_count": null,
   "metadata": {},
   "outputs": [],
   "source": [
    "# On train set\n",
    "\n",
    "P=np.round(linreg.predict(X_train))\n",
    "\n",
    "print(classification_report(Y_train,P))\n",
    "print(confusion_matrix(Y_train, P))"
   ]
  },
  {
   "cell_type": "code",
   "execution_count": null,
   "metadata": {},
   "outputs": [],
   "source": [
    "# On test set\n",
    "P=linreg.predict(X_test)\n",
    "\n",
    "print(classification_report(Y_test,P))\n",
    "print(confusion_matrix(Y_test, P))\n"
   ]
  },
  {
   "cell_type": "markdown",
   "metadata": {},
   "source": [
    "# Linear regression via CMA"
   ]
  },
  {
   "cell_type": "code",
   "execution_count": null,
   "metadata": {},
   "outputs": [],
   "source": [
    "M = mdl.Model()\n",
    "M.add(layers.NonLinear(784,1,paramBound=2))\n",
    "\n",
    "minim = minimizer.CMA(False)\n",
    "sol=minim.train(mse(), M, np.transpose(X_train), np.transpose(Y_train), maxiter=500)"
   ]
  },
  {
   "cell_type": "code",
   "execution_count": null,
   "metadata": {},
   "outputs": [],
   "source": [
    "# On train set\n",
    "P=np.abs(np.round(np.real(M.predict(np.transpose(X_train)))))\n",
    "\n",
    "\n",
    "print(classification_report(Y_train,P.T))\n",
    "print(confusion_matrix(Y_train, P.T))"
   ]
  },
  {
   "cell_type": "code",
   "execution_count": null,
   "metadata": {},
   "outputs": [],
   "source": [
    "# On test set\n",
    "P=np.abs(np.round(np.real(M.predict(np.transpose(X_test)))))\n",
    "\n",
    "print(classification_report(Y_test,P.T))\n",
    "print(confusion_matrix(Y_test, P.T))"
   ]
  },
  {
   "cell_type": "markdown",
   "metadata": {},
   "source": [
    "# Linear regression via SGD"
   ]
  },
  {
   "cell_type": "code",
   "execution_count": null,
   "metadata": {},
   "outputs": [],
   "source": [
    "M = mdl.Model()\n",
    "#M.add(layers.Linear(784,1))\n",
    "M.add(layers.NonLinear(784,1))\n",
    "\n",
    "minim = minimizer.SGD()\n",
    "sol=minim.train(mse(), M, np.transpose(X_train), Y_train.reshape(1,len(Y_train)), lr=1, maxiter=10000, batch_size=1000)"
   ]
  },
  {
   "cell_type": "code",
   "execution_count": null,
   "metadata": {},
   "outputs": [],
   "source": [
    "Y_train.shape"
   ]
  },
  {
   "cell_type": "code",
   "execution_count": null,
   "metadata": {},
   "outputs": [],
   "source": [
    "# On train set\n",
    "P=np.abs(np.round(np.real(M.predict(np.transpose(X_train)))))\n",
    "\n",
    "\n",
    "print(classification_report(Y_train,P.T))\n",
    "print(confusion_matrix(Y_train, P.T))"
   ]
  },
  {
   "cell_type": "code",
   "execution_count": null,
   "metadata": {},
   "outputs": [],
   "source": [
    "# On test set\n",
    "P=np.abs(np.round(np.real(M.predict(np.transpose(X_test)))))\n",
    "\n",
    "print(classification_report(Y_test,P.T))\n",
    "print(confusion_matrix(Y_test, P.T))\n"
   ]
  },
  {
   "cell_type": "markdown",
   "metadata": {},
   "source": [
    "# E(h|v) via SGD"
   ]
  },
  {
   "cell_type": "code",
   "execution_count": null,
   "metadata": {},
   "outputs": [],
   "source": [
    "M = mdl.Model()\n",
    "M.add(layers.DiagExpectationUnitLayer(784,1))\n",
    "#M.add(layers.DiagExpectationUnitLayer(10,1))\n",
    "\n",
    "minim = minimizer.SGD()\n",
    "sol=minim.train(mse(), M, np.transpose(X_train), Y_train.reshape(1,Y_train.shape[0]),lr=100,momentum=0.1, nesterov=True, maxiter=1000, batch_size=1000)"
   ]
  },
  {
   "cell_type": "code",
   "execution_count": null,
   "metadata": {},
   "outputs": [],
   "source": [
    "# On train set\n",
    "P=np.abs(np.round(np.real(M.predict(np.transpose(X_train)))))\n",
    "\n",
    "\n",
    "print(classification_report(Y_train,P.T))\n",
    "print(confusion_matrix(Y_train, P.T))"
   ]
  },
  {
   "cell_type": "code",
   "execution_count": null,
   "metadata": {},
   "outputs": [],
   "source": [
    "# On test set\n",
    "P=np.abs(np.round(np.real(M.predict(np.transpose(X_test)))))\n",
    "\n",
    "print(classification_report(Y_test,P.T))\n",
    "print(confusion_matrix(Y_test, P.T))\n",
    "\n"
   ]
  },
  {
   "cell_type": "markdown",
   "metadata": {},
   "source": [
    "# E(h|v) via CMA"
   ]
  },
  {
   "cell_type": "code",
   "execution_count": 9,
   "metadata": {},
   "outputs": [
    {
     "name": "stdout",
     "output_type": "stream",
     "text": [
      "CMA on 1 cpu(s) enabled\n",
      "(13_w,27)-aCMA-ES (mu_w=7.8,w_1=22%) in dimension 2363 (seed=1057215, Mon Nov  6 06:03:49 2017)\n",
      "Iterat #Fevals   function value  axis ratio  sigma  min&max std  t[m:s]\n",
      "    1     27 8.432775907943645e+00 1.0e+00 9.96e-01  1e+00  1e+00 0:00.2\n",
      "    2     54 7.165652619614564e+00 1.0e+00 9.93e-01  1e+00  1e+00 0:01.5\n",
      "    3     81 7.912105729280427e+00 1.0e+00 9.89e-01  1e+00  1e+00 0:02.7\n",
      "    6    162 5.418252810319234e+00 1.0e+00 9.79e-01  1e+00  1e+00 0:06.1\n",
      "   10    270 3.968259427223221e+00 1.0e+00 9.68e-01  1e+00  1e+00 0:10.8\n",
      "   15    405 3.519140165301580e+00 1.0e+00 9.54e-01  1e+00  1e+00 0:15.9\n",
      "   20    540 3.488005967874373e+00 1.0e+00 9.42e-01  9e-01  9e-01 0:22.2\n",
      "   28    756 3.043410483177555e+00 1.0e+00 9.24e-01  9e-01  9e-01 0:30.2\n",
      "   35    945 2.851399375488116e+00 1.0e+00 9.10e-01  9e-01  9e-01 0:38.2\n",
      "   45   1215 2.675786713304412e+00 1.0e+00 8.94e-01  9e-01  9e-01 0:47.6\n",
      "   55   1485 2.531320498799549e+00 1.0e+00 8.79e-01  9e-01  9e-01 0:58.3\n",
      "   67   1809 2.501493127864642e+00 1.0e+00 8.64e-01  9e-01  9e-01 1:09.6\n",
      "   79   2133 2.463489077853668e+00 1.0e+00 8.51e-01  9e-01  9e-01 1:22.1\n",
      "   92   2484 2.288151326076993e+00 1.0e+00 8.39e-01  8e-01  8e-01 1:35.5\n",
      "  100   2700 2.310678775787644e+00 1.0e+00 8.33e-01  8e-01  8e-01 1:43.0\n",
      "  115   3105 2.299250124136960e+00 1.0e+00 8.22e-01  8e-01  8e-01 1:58.3\n",
      "  131   3537 2.237307248214713e+00 1.0e+00 8.13e-01  8e-01  8e-01 2:14.7\n",
      "  148   3996 2.281071440733995e+00 1.0e+00 8.04e-01  8e-01  8e-01 2:31.9\n",
      "  166   4482 2.261283233199151e+00 1.0e+00 7.95e-01  8e-01  8e-01 2:50.0\n",
      "  185   4995 2.259749211358540e+00 1.0e+00 7.88e-01  8e-01  8e-01 3:09.2\n",
      "  200   5400 2.187641617057950e+00 1.0e+00 7.82e-01  8e-01  8e-01 3:24.6\n",
      "  221   5967 2.222677696964312e+00 1.0e+00 7.76e-01  8e-01  8e-01 3:45.7\n",
      "  242   6534 2.179925055228471e+00 1.0e+00 7.72e-01  8e-01  8e-01 4:08.0\n",
      "  266   7182 2.167415000354713e+00 1.0e+00 7.67e-01  8e-01  8e-01 4:31.9\n",
      "  290   7830 2.097046850715337e+00 1.0e+00 7.64e-01  8e-01  8e-01 4:57.1\n",
      "  300   8100 2.082328036767722e+00 1.0e+00 7.62e-01  8e-01  8e-01 5:06.4\n",
      "  322   8694 2.139035430927883e+00 1.0e+00 7.60e-01  8e-01  8e-01 5:32.9\n",
      "  348   9396 2.126716142041053e+00 1.0e+00 7.57e-01  8e-01  8e-01 5:59.9\n",
      "  375  10125 2.108757270407466e+00 1.1e+00 7.54e-01  8e-01  8e-01 6:28.0\n",
      "  400  10800 2.127740723843613e+00 1.1e+00 7.52e-01  8e-01  8e-01 6:52.8\n",
      "  424  11448 2.129484392020606e+00 1.1e+00 7.51e-01  8e-01  8e-01 7:23.4\n",
      "  455  12285 2.205639356399379e+00 1.1e+00 7.50e-01  7e-01  8e-01 7:55.2\n",
      "  487  13149 2.211635231765589e+00 1.1e+00 7.50e-01  7e-01  8e-01 8:27.9\n",
      "  500  13500 2.207807461911076e+00 1.1e+00 7.50e-01  7e-01  8e-01 8:41.5\n",
      "  534  14418 2.191940373117038e+00 1.1e+00 7.50e-01  7e-01  8e-01 9:16.2\n",
      "  569  15363 2.148870413122640e+00 1.1e+00 7.48e-01  7e-01  7e-01 9:51.7\n",
      "  600  16200 2.233676511063321e+00 1.1e+00 7.46e-01  7e-01  7e-01 10:23.4\n",
      "  626  16902 2.187018230112666e+00 1.1e+00 7.44e-01  7e-01  7e-01 11:00.6\n",
      "  649  17523 2.107588401035355e+00 1.1e+00 7.42e-01  7e-01  7e-01 11:38.6\n",
      "  674  18198 2.132872200393597e+00 1.1e+00 7.39e-01  7e-01  7e-01 12:17.9\n",
      "  699  18873 2.264242469003074e+00 1.1e+00 7.37e-01  7e-01  7e-01 12:59.1\n",
      "  700  18900 2.183418377416305e+00 1.1e+00 7.37e-01  7e-01  7e-01 13:00.6\n",
      "  727  19629 2.245411538313972e+00 1.1e+00 7.35e-01  7e-01  7e-01 13:42.8\n",
      "  754  20358 2.208509918955242e+00 1.1e+00 7.34e-01  7e-01  7e-01 14:26.9\n",
      "  783  21141 2.254698453133596e+00 1.1e+00 7.32e-01  7e-01  7e-01 15:14.0\n",
      "  800  21600 2.273518089317478e+00 1.1e+00 7.31e-01  7e-01  7e-01 15:41.2\n",
      "  830  22410 2.243889481380724e+00 1.1e+00 7.30e-01  7e-01  7e-01 16:27.7\n",
      "  873  23571 2.220049414883198e+00 1.1e+00 7.28e-01  7e-01  7e-01 17:15.2\n",
      "  900  24300 2.186598671333490e+00 1.2e+00 7.26e-01  7e-01  7e-01 17:41.9\n",
      "  948  25596 2.176608836813585e+00 1.2e+00 7.23e-01  7e-01  7e-01 18:31.3\n",
      "  985  26595 2.236056091967334e+00 1.2e+00 7.21e-01  7e-01  7e-01 19:21.6\n",
      " 1000  27000 2.328516641801481e+00 1.2e+00 7.21e-01  7e-01  7e-01 19:44.2\n",
      "CMAEvolutionStrategyResult(xbest=array([ 9.38381587, -9.98686278, -0.51457232, ...,  0.25825113,\n",
      "        2.2253194 ,  8.15677994]), fbest=2.057770937211962, evals_best=9949, evaluations=27000, iterations=1000, xfavorite=array([ 14.66792672, -15.90251389,  13.04660149, ...,  -1.01079846,\n",
      "         1.75282321,  11.62816906]), stds=array([0.72052529, 0.72069735, 0.72047649, ..., 0.71983422, 0.71950929,\n",
      "       0.72027014]))\n"
     ]
    }
   ],
   "source": [
    "M = mdl.Model()\n",
    "M.add(layers.DiagExpectationUnitLayer(784,3, phase=1))\n",
    "M.add(layers.DiagExpectationUnitLayer(3,1, phase=1))\n",
    "\n",
    "minim = minimizer.CMA(False)\n",
    "sol=minim.train(mse(), M, np.transpose(X_train), np.transpose(Y_train), maxiter=1000)"
   ]
  },
  {
   "cell_type": "code",
   "execution_count": 10,
   "metadata": {},
   "outputs": [
    {
     "name": "stdout",
     "output_type": "stream",
     "text": [
      "             precision    recall  f1-score   support\n",
      "\n",
      "        0.0       0.62      0.15      0.25      1001\n",
      "        1.0       0.33      0.25      0.28      1127\n",
      "        2.0       0.19      0.24      0.21       991\n",
      "        3.0       0.20      0.27      0.23      1032\n",
      "        4.0       0.11      0.17      0.13       980\n",
      "        5.0       0.13      0.22      0.16       863\n",
      "        6.0       0.14      0.18      0.16      1014\n",
      "        7.0       0.25      0.24      0.25      1070\n",
      "        8.0       0.20      0.12      0.15       944\n",
      "        9.0       0.45      0.09      0.15       978\n",
      "       10.0       0.00      0.00      0.00         0\n",
      "       11.0       0.00      0.00      0.00         0\n",
      "\n",
      "avg / total       0.26      0.20      0.20     10000\n",
      "\n",
      "[[155 305 254 145  73  44  16   8   1   0   0   0]\n",
      " [ 20 284 388 279 116  25  11   4   0   0   0   0]\n",
      " [ 51 154 241 244 170  83  30  14   3   1   0   0]\n",
      " [ 17  71 225 278 256 106  52  17   8   2   0   0]\n",
      " [  4  13  32  69 169 261 230 145  47  10   0   0]\n",
      " [  1  20  72 181 233 193 110  39  11   3   0   0]\n",
      " [  1  10  29 116 296 304 178  72   8   0   0   0]\n",
      " [  0   3  16  41 104 190 266 253 144  47   6   0]\n",
      " [  1   5  17  55 133 202 194 155 117  39  22   4]\n",
      " [  0   3   7  16  30  88 190 287 251  85  20   1]\n",
      " [  0   0   0   0   0   0   0   0   0   0   0   0]\n",
      " [  0   0   0   0   0   0   0   0   0   0   0   0]]\n"
     ]
    }
   ],
   "source": [
    "# On train set\n",
    "P=np.abs(np.round(np.real(M.predict(np.transpose(X_train)))))\n",
    "\n",
    "\n",
    "print(classification_report(Y_train,P.T))\n",
    "print(confusion_matrix(Y_train, P.T))"
   ]
  },
  {
   "cell_type": "code",
   "execution_count": 11,
   "metadata": {},
   "outputs": [
    {
     "name": "stdout",
     "output_type": "stream",
     "text": [
      "             precision    recall  f1-score   support\n",
      "\n",
      "        0.0       0.54      0.14      0.22       980\n",
      "        1.0       0.31      0.24      0.27      1135\n",
      "        2.0       0.19      0.23      0.21      1032\n",
      "        3.0       0.19      0.25      0.22      1010\n",
      "        4.0       0.10      0.15      0.12       982\n",
      "        5.0       0.15      0.24      0.18       892\n",
      "        6.0       0.13      0.19      0.16       958\n",
      "        7.0       0.21      0.22      0.22      1028\n",
      "        8.0       0.23      0.14      0.17       974\n",
      "        9.0       0.45      0.12      0.19      1009\n",
      "       10.0       0.00      0.00      0.00         0\n",
      "       11.0       0.00      0.00      0.00         0\n",
      "\n",
      "avg / total       0.25      0.19      0.20     10000\n",
      "\n",
      "[[137 297 274 143  71  40  14   3   1   0   0   0]\n",
      " [ 28 278 390 293 106  33   4   3   0   0   0   0]\n",
      " [ 62 172 235 213 180 106  49   9   5   1   0   0]\n",
      " [ 19  92 189 253 236 121  72  19   7   1   1   0]\n",
      " [  3   8  21  59 149 270 266 160  36   8   2   0]\n",
      " [  0  14  60 138 212 212 154  81  13   6   2   0]\n",
      " [  4  22  56 120 229 258 184  79   6   0   0   0]\n",
      " [  0   5  12  39 104 177 237 227 147  69  11   0]\n",
      " [  0   5  16  44 106 158 210 218 136  64  16   1]\n",
      " [  0   5   6  10  48  76 204 281 240 121  17   1]\n",
      " [  0   0   0   0   0   0   0   0   0   0   0   0]\n",
      " [  0   0   0   0   0   0   0   0   0   0   0   0]]\n"
     ]
    }
   ],
   "source": [
    "# On test set\n",
    "P=np.abs(np.round(np.real(M.predict(np.transpose(X_test)))))\n",
    "\n",
    "print(classification_report(Y_test,P.T))\n",
    "print(confusion_matrix(Y_test, P.T))\n"
   ]
  },
  {
   "cell_type": "code",
   "execution_count": null,
   "metadata": {},
   "outputs": [],
   "source": []
  }
 ],
 "metadata": {
  "kernelspec": {
   "display_name": "Python 2",
   "language": "python",
   "name": "python2"
  },
  "language_info": {
   "codemirror_mode": {
    "name": "ipython",
    "version": 2
   },
   "file_extension": ".py",
   "mimetype": "text/x-python",
   "name": "python",
   "nbconvert_exporter": "python",
   "pygments_lexer": "ipython2",
   "version": "2.7.6"
  }
 },
 "nbformat": 4,
 "nbformat_minor": 1
}

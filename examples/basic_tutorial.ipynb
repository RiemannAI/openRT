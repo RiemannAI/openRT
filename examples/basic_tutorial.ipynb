{
 "cells": [
  {
   "cell_type": "markdown",
   "metadata": {},
   "source": [
    "# RTBM Basic Tutorial"
   ]
  },
  {
   "cell_type": "markdown",
   "metadata": {},
   "source": [
    "## Introduction"
   ]
  },
  {
   "cell_type": "markdown",
   "metadata": {},
   "source": [
    "In this tutorial we will explain with examples how to operate with the RTBM package.\n",
    "This package contains a python module with the following RTBM based objects:\n",
    "- single RTBM \n",
    "- models based on layers (RTBM, linear, etc.)\n",
    "\n",
    "These objects can be trained through multiple algorithms, however for the time being we will focus on genetic optimization."
   ]
  },
  {
   "cell_type": "markdown",
   "metadata": {},
   "source": [
    "## Importing the package"
   ]
  },
  {
   "cell_type": "markdown",
   "metadata": {},
   "source": [
    "Before starting lets import this module:"
   ]
  },
  {
   "cell_type": "code",
   "execution_count": null,
   "metadata": {
    "collapsed": true
   },
   "outputs": [],
   "source": [
    "import rtbm"
   ]
  },
  {
   "cell_type": "markdown",
   "metadata": {},
   "source": [
    "and some useful library for the data generation and ploting:"
   ]
  },
  {
   "cell_type": "code",
   "execution_count": null,
   "metadata": {
    "collapsed": true
   },
   "outputs": [],
   "source": [
    "import numpy as np\n",
    "import matplotlib.pyplot as plt\n",
    "%matplotlib inline"
   ]
  },
  {
   "cell_type": "markdown",
   "metadata": {},
   "source": [
    "## Example 1: RTBM density estimation"
   ]
  },
  {
   "cell_type": "markdown",
   "metadata": {},
   "source": [
    "The rtbm.RTBM object allocates 1 RTBM with Nv and Nh, visible and hidden units."
   ]
  },
  {
   "cell_type": "code",
   "execution_count": null,
   "metadata": {
    "collapsed": true
   },
   "outputs": [],
   "source": [
    "a = rtbm.RTBM(1,1) # allocates 1 RTBM with (Nv=1,Nh=1)\n",
    "# This object is intialized in probability mode, you can change it \n",
    "# by setting the mode flag in the constructor which takes the rtbm.RTBM.Mode options.\n",
    "#        Args:\n",
    "#            visible_units: number of visible units\n",
    "#            hidden_units: number of hidden units\n",
    "#            mode: see Mode enumerator (Mode.Probability, Mode.LogProbability, Mode.Expectation)\n",
    "#            init_max_param_bound: size of maximum parameters used in random initialization.\n",
    "#            phase: number which multiplies w and bh"
   ]
  },
  {
   "cell_type": "code",
   "execution_count": null,
   "metadata": {},
   "outputs": [],
   "source": [
    "# lest generate some simple gaussian data\n",
    "n = 1000\n",
    "data = (np.random.normal(5,10,n)).reshape(1,n)\n",
    "plt.hist(data.T, bins=50, normed=True);"
   ]
  },
  {
   "cell_type": "markdown",
   "metadata": {},
   "source": [
    "There are multiple minimization algorithms in `rtbm.minimizer`, here we will use the CMA."
   ]
  },
  {
   "cell_type": "code",
   "execution_count": null,
   "metadata": {},
   "outputs": [],
   "source": [
    "# and now we train with the CMA algorithm\n",
    "from rtbm import minimizer\n",
    "minim = minimizer.CMA()"
   ]
  },
  {
   "cell_type": "code",
   "execution_count": null,
   "metadata": {},
   "outputs": [],
   "source": [
    "# and now we train with the logarithmic error function (see rtbm.costfunctions)\n",
    "from rtbm.costfunctions import logarithmic\n",
    "solution = minim.train(logarithmic(), a, data, tolfun=1e-4)"
   ]
  },
  {
   "cell_type": "markdown",
   "metadata": {},
   "source": [
    "Then we check the output and compare to the input data:"
   ]
  },
  {
   "cell_type": "code",
   "execution_count": null,
   "metadata": {},
   "outputs": [],
   "source": [
    "test_data = (np.linspace(-40,40, 100)).reshape(1, 100)\n",
    "plt.hist(data.T, bins=50, normed=True)\n",
    "plt.plot(test_data.flatten(), a(test_data).flatten(), 'o-')"
   ]
  },
  {
   "cell_type": "markdown",
   "metadata": {},
   "source": [
    "## Example 2: Model regression"
   ]
  },
  {
   "cell_type": "markdown",
   "metadata": {},
   "source": [
    "In this example we show how to allocate and train a RTBM model."
   ]
  },
  {
   "cell_type": "code",
   "execution_count": null,
   "metadata": {},
   "outputs": [],
   "source": [
    "# create a model with 3 layers of diagonal expectaion units\n",
    "from rtbm import model, layers\n",
    "\n",
    "M = model.Model()\n",
    "M.add(layers.DiagExpectationUnitLayer(1,3,phase=1))\n",
    "M.add(layers.DiagExpectationUnitLayer(3,3,phase=1))\n",
    "M.add(layers.DiagExpectationUnitLayer(3,1,phase=1))"
   ]
  },
  {
   "cell_type": "markdown",
   "metadata": {},
   "source": [
    "Then we generate the data with noise:"
   ]
  },
  {
   "cell_type": "code",
   "execution_count": null,
   "metadata": {},
   "outputs": [],
   "source": [
    "def func(x,n):\n",
    "    return 0.5*np.sin(1*x+0.1)+0.75*np.sin(0.25*x-0.3)+n*np.random.normal(0,0.2,x.shape[2])\n",
    "\n",
    "X = np.linspace(0, 100, 500)\n",
    "X = X.reshape((1,X.shape[0]))\n",
    "\n",
    "Y = func(X[:,None],1).reshape((1,X.shape[1]))\n",
    "plt.plot(X.flatten(), Y.flatten(),\"ob-\")"
   ]
  },
  {
   "cell_type": "markdown",
   "metadata": {},
   "source": [
    "Finally we perform the regression with MSE cost:"
   ]
  },
  {
   "cell_type": "code",
   "execution_count": null,
   "metadata": {},
   "outputs": [],
   "source": [
    "from rtbm import minimizer\n",
    "from rtbm.costfunctions import mse\n",
    "\n",
    "minim = minimizer.CMA()\n",
    "minim.train(mse(), M, X, Y, tolfun=1e-4)"
   ]
  },
  {
   "cell_type": "code",
   "execution_count": null,
   "metadata": {
    "collapsed": true
   },
   "outputs": [],
   "source": []
  }
 ],
 "metadata": {
  "kernelspec": {
   "display_name": "Python 2",
   "language": "python",
   "name": "python2"
  },
  "language_info": {
   "codemirror_mode": {
    "name": "ipython",
    "version": 2
   },
   "file_extension": ".py",
   "mimetype": "text/x-python",
   "name": "python",
   "nbconvert_exporter": "python",
   "pygments_lexer": "ipython2",
   "version": "2.7.13"
  }
 },
 "nbformat": 4,
 "nbformat_minor": 1
}

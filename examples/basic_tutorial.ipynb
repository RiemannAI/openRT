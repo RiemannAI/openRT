{
 "cells": [
  {
   "cell_type": "markdown",
   "metadata": {},
   "source": [
    "# RTBM Basic Tutorial"
   ]
  },
  {
   "cell_type": "markdown",
   "metadata": {},
   "source": [
    "## Introduction"
   ]
  },
  {
   "cell_type": "markdown",
   "metadata": {},
   "source": [
    "In this tutorial we will explain with examples how to operate with the RTBM package.\n",
    "This package contains a python module with the following RTBM based objects:\n",
    "- single RTBM \n",
    "- models based on layers (RTBM, linear, etc.)\n",
    "\n",
    "These objects can be trained through multiple algorithms, however for the time being we will focus on genetic optimization."
   ]
  },
  {
   "cell_type": "markdown",
   "metadata": {},
   "source": [
    "## Importing the package"
   ]
  },
  {
   "cell_type": "markdown",
   "metadata": {},
   "source": [
    "Before starting lets import this module:"
   ]
  },
  {
   "cell_type": "code",
   "execution_count": 1,
   "metadata": {},
   "outputs": [],
   "source": [
    "import rtbm"
   ]
  },
  {
   "cell_type": "markdown",
   "metadata": {},
   "source": [
    "and some useful library for the data generation and ploting:"
   ]
  },
  {
   "cell_type": "code",
   "execution_count": 2,
   "metadata": {},
   "outputs": [],
   "source": [
    "import numpy as np\n",
    "import matplotlib.pyplot as plt\n",
    "%matplotlib inline"
   ]
  },
  {
   "cell_type": "markdown",
   "metadata": {},
   "source": [
    "## Example 1: RTBM density estimation"
   ]
  },
  {
   "cell_type": "markdown",
   "metadata": {},
   "source": [
    "The rtbm.RTBM object allocates 1 RTBM with Nv and Nh, visible and hidden units."
   ]
  },
  {
   "cell_type": "code",
   "execution_count": 3,
   "metadata": {},
   "outputs": [],
   "source": [
    "a = rtbm.RTBM(1,1) # allocates 1 RTBM with (Nv=1,Nh=1)\n",
    "# This object is intialized in probability mode, you can change it \n",
    "# by setting the mode flag in the constructor which takes the rtbm.RTBM.Mode options.\n",
    "#        Args:\n",
    "#            visible_units: number of visible units\n",
    "#            hidden_units: number of hidden units\n",
    "#            mode: see Mode enumerator (Mode.Probability, Mode.LogProbability, Mode.Expectation)\n",
    "#            init_max_param_bound: size of maximum parameters used in random initialization.\n",
    "#            phase: number which multiplies w and bh"
   ]
  },
  {
   "cell_type": "code",
   "execution_count": 4,
   "metadata": {},
   "outputs": [
    {
     "data": {
      "image/png": "[encoded data removed]",
      "text/plain": [
       "<matplotlib.figure.Figure at 0x7f037d585f10>"
      ]
     },
     "metadata": {},
     "output_type": "display_data"
    }
   ],
   "source": [
    "# lets generate some simple gaussian data\n",
    "n = 1000\n",
    "data = (np.random.normal(5,10,n)).reshape(1,n)\n",
    "plt.hist(data.T, bins=50, normed=True);"
   ]
  },
  {
   "cell_type": "markdown",
   "metadata": {},
   "source": [
    "There are multiple minimization algorithms in `rtbm.minimizer`, here we will use the CMA."
   ]
  },
  {
   "cell_type": "code",
   "execution_count": 5,
   "metadata": {},
   "outputs": [
    {
     "name": "stdout",
     "output_type": "stream",
     "text": [
      "CMA on 1 cpu(s) enabled\n"
     ]
    }
   ],
   "source": [
    "# and now we load the CMA optimization algorithm\n",
    "from rtbm import minimizer\n",
    "minim = minimizer.CMA()"
   ]
  },
  {
   "cell_type": "code",
   "execution_count": 6,
   "metadata": {},
   "outputs": [
    {
     "name": "stdout",
     "output_type": "stream",
     "text": [
      "(4_w,9)-aCMA-ES (mu_w=2.8,w_1=49%) in dimension 6 (seed=908605, Sat Nov  4 19:15:22 2017)\n",
      "Iterat #Fevals   function value  axis ratio  sigma  min&max std  t[m:s]\n",
      "    1      9 5.979319711103108e+03 1.0e+00 9.75e-02  9e-02  1e-01 0:00.2\n"
     ]
    },
    {
     "name": "stderr",
     "output_type": "stream",
     "text": [
      "/usr/local/lib/python2.7/dist-packages/RTBM-0.0.1-py2.7-linux-x86_64.egg/rtbm/costfunctions.py:33: RuntimeWarning: divide by zero encountered in log\n",
      "  return -np.sum(np.log(x))\n",
      "/usr/local/lib/python2.7/dist-packages/RTBM-0.0.1-py2.7-linux-x86_64.egg/rtbm/mathtools.py:44: RuntimeWarning: overflow encountered in exp\n",
      "  return np.sqrt(detT / (2.0 * np.pi) ** (v.shape[0])) * ExpF * vR1 / vR2 * np.exp(uR1-uR2)\n",
      "/usr/local/lib/python2.7/dist-packages/RTBM-0.0.1-py2.7-linux-x86_64.egg/rtbm/mathtools.py:44: RuntimeWarning: invalid value encountered in multiply\n",
      "  return np.sqrt(detT / (2.0 * np.pi) ** (v.shape[0])) * ExpF * vR1 / vR2 * np.exp(uR1-uR2)\n",
      "/usr/local/lib/python2.7/dist-packages/cma/evolution_strategy.py:3049: ComplexWarning: Casting complex values to real discards the imaginary part\n",
      "  '%.15e' % (min(self.fit.fit)),\n"
     ]
    },
    {
     "name": "stdout",
     "output_type": "stream",
     "text": [
      "    2     18 -inf 1.3e+00 1.00e-01  9e-02  1e-01 0:00.3\n",
      "    3     27 4.217332340892734e+03 1.4e+00 1.08e-01  1e-01  1e-01 0:00.4\n",
      "   30    270 3.744983709766359e+03 6.5e+00 5.42e-02  3e-02  7e-02 0:03.5\n",
      "   72    648 3.714163853913676e+03 7.0e+01 7.59e-03  2e-03  1e-02 0:07.5\n",
      "  100    900 3.714154364241376e+03 2.1e+02 6.47e-04  6e-05  1e-03 0:10.2\n",
      "  120   1080 3.714154348399329e+03 4.8e+02 1.69e-04  9e-06  3e-04 0:12.1\n",
      "CMAEvolutionStrategyResult(xbest=array([ 5.44213486e-01, -3.63645029e-01,  9.59839725e-01, -4.37120140e-01,\n",
      "       -1.03351677e-06, -1.03710754e-01]), fbest=(3714.1543483866271-0j), evals_best=1064, evaluations=1080, iterations=120, xfavorite=array([ 5.44411114e-01, -3.63763877e-01,  9.73377647e-01, -4.37191898e-01,\n",
      "        2.77020325e-06, -1.03708435e-01]), stds=array([2.91909494e-04, 1.44179145e-04, 1.18239014e-04, 1.02702483e-04,\n",
      "       8.68775336e-06, 2.92257556e-05]))\n"
     ]
    }
   ],
   "source": [
    "# and now we train with the logarithmic error function (see rtbm.costfunctions)\n",
    "from rtbm.costfunctions import logarithmic\n",
    "solution = minim.train(logarithmic(), a, data, tolfun=1e-4)\n",
    "\n",
    "# Here tolfun= is the stopping condition\n",
    "# Alternatively, one can use maxiter = "
   ]
  },
  {
   "cell_type": "markdown",
   "metadata": {},
   "source": [
    "Then we check the output and compare to the input data:"
   ]
  },
  {
   "cell_type": "code",
   "execution_count": 7,
   "metadata": {},
   "outputs": [
    {
     "name": "stderr",
     "output_type": "stream",
     "text": [
      "/usr/local/lib/python2.7/dist-packages/numpy-1.14.0.dev0+8b9195b-py2.7-linux-x86_64.egg/numpy/core/numeric.py:492: ComplexWarning: Casting complex values to real discards the imaginary part\n",
      "  return array(a, dtype, copy=False, order=order)\n"
     ]
    },
    {
     "data": {
      "text/plain": [
       "[<matplotlib.lines.Line2D at 0x7f0376a6ddd0>]"
      ]
     },
     "execution_count": 7,
     "metadata": {},
     "output_type": "execute_result"
    },
    {
     "data": {
      "image/png": "[encoded data removed]",
      "text/plain": [
       "<matplotlib.figure.Figure at 0x7f0376a6dd90>"
      ]
     },
     "metadata": {},
     "output_type": "display_data"
    }
   ],
   "source": [
    "test_data = (np.linspace(-40,40, 100)).reshape(1, 100)\n",
    "plt.hist(data.T, bins=50, normed=True)\n",
    "plt.plot(test_data.flatten(), a(test_data).flatten(), 'o-')"
   ]
  },
  {
   "cell_type": "markdown",
   "metadata": {},
   "source": [
    "## Example 2: Model regression"
   ]
  },
  {
   "cell_type": "markdown",
   "metadata": {},
   "source": [
    "In this example we show how to allocate and train a RTBM model."
   ]
  },
  {
   "cell_type": "code",
   "execution_count": 8,
   "metadata": {},
   "outputs": [],
   "source": [
    "# create a model with 3 layers of diagonal expectation units\n",
    "from rtbm import model, layers\n",
    "\n",
    "M = model.Model()\n",
    "M.add(layers.DiagExpectationUnitLayer(1,3, Wmax=2,Bmax=2,Qmax=10,param_bound=10, phase=1))\n",
    "M.add(layers.DiagExpectationUnitLayer(3,3,phase=1))\n",
    "M.add(layers.DiagExpectationUnitLayer(3,1,phase=1))\n",
    "\n",
    "# Xmax random initalization value cutoff\n",
    "# param_bound overall maximum value parameters can take\n",
    "# phase = 1: Phase I, phase =1j : Phase 2"
   ]
  },
  {
   "cell_type": "markdown",
   "metadata": {},
   "source": [
    "Then we generate the data with noise:"
   ]
  },
  {
   "cell_type": "code",
   "execution_count": 13,
   "metadata": {},
   "outputs": [
    {
     "data": {
      "text/plain": [
       "[<matplotlib.lines.Line2D at 0x7f0376ead7d0>]"
      ]
     },
     "execution_count": 13,
     "metadata": {},
     "output_type": "execute_result"
    },
    {
     "data": {
      "image/png": "[encoded data removed]",
      "text/plain": [
       "<matplotlib.figure.Figure at 0x7f0376cec850>"
      ]
     },
     "metadata": {},
     "output_type": "display_data"
    }
   ],
   "source": [
    "def func(x,n):\n",
    "    return 0.5*np.sin(1*x+0.1)+0.75*np.sin(0.25*x-0.3)+n*np.random.normal(0,0.2,x.shape[2])\n",
    "\n",
    "X = np.linspace(0, 100, 500)\n",
    "X = X.reshape((1,X.shape[0]))\n",
    "\n",
    "Y = func(X[:,None],0).reshape((1,X.shape[1]))\n",
    "plt.plot(X.flatten(), Y.flatten(),\"ob-\")"
   ]
  },
  {
   "cell_type": "markdown",
   "metadata": {},
   "source": [
    "Finally we perform the regression with MSE cost:"
   ]
  },
  {
   "cell_type": "code",
   "execution_count": 24,
   "metadata": {},
   "outputs": [
    {
     "name": "stdout",
     "output_type": "stream",
     "text": [
      "CMA on 1 cpu(s) enabled\n",
      "(7_w,14)-aCMA-ES (mu_w=4.3,w_1=36%) in dimension 29 (seed=886049, Sat Nov  4 19:26:06 2017)\n",
      "Iterat #Fevals   function value  axis ratio  sigma  min&max std  t[m:s]\n",
      "    1     14 7.924266875127205e+00 1.0e+00 9.49e-01  9e-01  1e+00 0:00.3\n",
      "    2     28 1.121044085739295e+01 1.1e+00 9.16e-01  9e-01  9e-01 0:00.5\n",
      "    3     42 3.519403599595321e-01 1.1e+00 8.95e-01  9e-01  9e-01 0:00.8\n",
      "   16    224 2.561758663787443e-01 1.3e+00 8.84e-01  8e-01  9e-01 0:03.8\n",
      "   36    504 2.397123084856255e-01 1.5e+00 6.46e-01  6e-01  7e-01 0:07.9\n",
      "   61    854 3.070458295789080e-01 1.7e+00 6.07e-01  5e-01  7e-01 0:13.0\n",
      "   91   1274 2.023648586881780e-01 2.0e+00 3.79e-01  3e-01  4e-01 0:19.1\n",
      "  100   1400 1.632805782757281e-01 2.2e+00 3.03e-01  2e-01  3e-01 0:20.9\n",
      "  140   1960 1.878686607223447e-01 3.0e+00 2.85e-01  2e-01  3e-01 0:29.0\n",
      "  185   2590 1.744788902465725e-01 4.0e+00 2.32e-01  2e-01  3e-01 0:38.1\n",
      "  200   2800 1.663358172300278e-01 4.2e+00 2.17e-01  1e-01  3e-01 0:41.1\n",
      "  255   3570 1.480264428259859e-01 5.0e+00 2.13e-01  1e-01  3e-01 0:52.2\n",
      "  300   4200 1.296743809169783e-01 6.0e+00 1.21e-01  7e-02  2e-01 1:01.3\n",
      "  365   5110 1.064248944330120e-01 7.6e+00 1.09e-01  6e-02  1e-01 1:14.5\n",
      "  400   5600 6.108749009333829e-02 9.7e+00 8.10e-02  4e-02  1e-01 1:21.6\n",
      "  474   6636 3.285196037245046e-02 1.4e+01 3.83e-02  1e-02  7e-02 1:36.8\n",
      "  500   7000 2.791002757944916e-02 1.5e+01 2.67e-02  9e-03  5e-02 1:42.1\n",
      "  583   8162 2.610700732964632e-02 2.0e+01 1.40e-02  4e-03  2e-02 1:59.2\n",
      "  600   8400 2.548250666988228e-02 2.0e+01 1.16e-02  3e-03  2e-02 2:02.7\n",
      "  693   9702 2.282097940608668e-02 4.6e+01 2.30e-02  4e-03  4e-02 2:21.8\n",
      "  700   9800 2.233641492510342e-02 5.2e+01 2.25e-02  4e-03  4e-02 2:23.2\n",
      "  800  11200 1.958597142935530e-02 1.2e+02 1.99e-02  3e-03  5e-02 2:43.8\n",
      "  900  12600 1.526149407538292e-02 1.9e+02 2.53e-02  3e-03  8e-02 3:04.6\n",
      " 1000  14000 1.383901141998627e-02 2.8e+02 1.73e-02  2e-03  6e-02 3:25.5\n",
      "Iterat #Fevals   function value  axis ratio  sigma  min&max std  t[m:s]\n",
      " 1100  15400 9.347884852882626e-03 4.1e+02 3.24e-02  3e-03  1e-01 3:46.4\n",
      " 1200  16800 7.385932469776608e-03 4.4e+02 1.11e-02  9e-04  4e-02 4:07.4\n",
      " 1300  18200 6.985904323732395e-03 4.1e+02 1.12e-02  9e-04  4e-02 4:28.6\n",
      " 1400  19600 6.672464122015292e-03 4.5e+02 2.00e-02  2e-03  6e-02 4:49.8\n",
      " 1500  21000 5.637917273917848e-03 5.5e+02 1.35e-02  1e-03  4e-02 5:11.0\n",
      "CMAEvolutionStrategyResult(xbest=array([-8.72766424,  4.95082224,  4.76005606,  0.13920204,  0.36961191,\n",
      "       -1.97377798,  8.26576436,  4.03874835,  9.97219611,  9.14446637,\n",
      "        4.32470595,  5.46238518, -0.96200683, -0.16259196, -1.38557347,\n",
      "       -7.07268863, -0.94420629, -3.56804163,  4.53001272,  0.63142096,\n",
      "       -2.48830845,  9.78031303,  5.34721852,  9.48642449, -5.73238098,\n",
      "        2.48210126, -9.93787514, -0.12838118,  0.93520027]), fbest=(0.0056379172739178477+0j), evals_best=20991, evaluations=21000, iterations=1500, xfavorite=array([ -8.72840536,   4.97173681,   4.74508443,   0.13806884,\n",
      "         0.37045495,  -1.97375861,   8.26223826,   4.05053455,\n",
      "        10.3002454 ,   9.14072269,  16.75695815,   5.4580236 ,\n",
      "        -0.9584661 ,  -0.16683567,  -1.36432199,  -7.06961871,\n",
      "        -0.944548  ,  -3.57596835,   4.53355768,   0.63395765,\n",
      "        -2.48389932,  11.2448047 ,  15.73830558,  11.60336172,\n",
      "       -15.35981139,   2.48143516, -10.92175611,  -0.13611945,   0.93824836]), stds=array([0.01986713, 0.03475937, 0.02185277, 0.00163462, 0.0018041 ,\n",
      "       0.0010307 , 0.01871166, 0.01397139, 0.01091137, 0.02632658,\n",
      "       0.03772805, 0.0327794 , 0.02409631, 0.01234787, 0.03173969,\n",
      "       0.03908669, 0.01469835, 0.01468585, 0.0241681 , 0.00804682,\n",
      "       0.01743617, 0.00987046, 0.02326075, 0.02236168, 0.01361163,\n",
      "       0.00191314, 0.01001807, 0.01090585, 0.0083411 ]))\n"
     ]
    },
    {
     "data": {
      "text/plain": [
       "array([-8.72766424,  4.95082224,  4.76005606,  0.13920204,  0.36961191,\n",
       "       -1.97377798,  8.26576436,  4.03874835,  9.97219611,  9.14446637,\n",
       "        4.32470595,  5.46238518, -0.96200683, -0.16259196, -1.38557347,\n",
       "       -7.07268863, -0.94420629, -3.56804163,  4.53001272,  0.63142096,\n",
       "       -2.48830845,  9.78031303,  5.34721852,  9.48642449, -5.73238098,\n",
       "        2.48210126, -9.93787514, -0.12838118,  0.93520027])"
      ]
     },
     "execution_count": 24,
     "metadata": {},
     "output_type": "execute_result"
    }
   ],
   "source": [
    "from rtbm import minimizer\n",
    "from rtbm.costfunctions import mse\n",
    "\n",
    "minim = minimizer.CMA()\n",
    "minim.train(mse(), M, X, Y, maxiter=1500)"
   ]
  },
  {
   "cell_type": "code",
   "execution_count": 35,
   "metadata": {},
   "outputs": [
    {
     "data": {
      "text/plain": [
       "<matplotlib.legend.Legend at 0x7f03d96b3a10>"
      ]
     },
     "execution_count": 35,
     "metadata": {},
     "output_type": "execute_result"
    },
    {
     "data": {
      "image/png": "[encoded data removed]",
      "text/plain": [
       "<matplotlib.figure.Figure at 0x7f03d9a22c50>"
      ]
     },
     "metadata": {},
     "output_type": "display_data"
    }
   ],
   "source": [
    "npoints = 500\n",
    "test_X = (np.linspace(0, 10000, npoints)).reshape((1, npoints))\n",
    "\n",
    "#plt.plot(X.flatten(), Y.flatten(),\"og-\", label='target')\n",
    "plt.plot(test_X.flatten(), np.real(M.predict(test_X)).flatten(),\"bo-\", label='fit')\n",
    "plt.legend()"
   ]
  },
  {
   "cell_type": "code",
   "execution_count": null,
   "metadata": {},
   "outputs": [],
   "source": []
  }
 ],
 "metadata": {
  "kernelspec": {
   "display_name": "Python 2",
   "language": "python",
   "name": "python2"
  },
  "language_info": {
   "codemirror_mode": {
    "name": "ipython",
    "version": 2
   },
   "file_extension": ".py",
   "mimetype": "text/x-python",
   "name": "python",
   "nbconvert_exporter": "python",
   "pygments_lexer": "ipython2",
   "version": "2.7.12"
  }
 },
 "nbformat": 4,
 "nbformat_minor": 1
}

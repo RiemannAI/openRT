{
 "cells": [
  {
   "cell_type": "code",
   "execution_count": 2,
   "metadata": {},
   "outputs": [],
   "source": [
    "import numpy as np\n",
    "import matplotlib.pyplot as plt\n",
    "%matplotlib inline\n",
    "\n",
    "from rtbm import RTBM, minimizer\n",
    "from rtbm.costfunctions import logarithmic\n",
    "\n",
    "import warnings\n",
    "warnings.filterwarnings('ignore')"
   ]
  },
  {
   "cell_type": "markdown",
   "metadata": {},
   "source": [
    "# Example 1"
   ]
  },
  {
   "cell_type": "markdown",
   "metadata": {},
   "source": [
    "## Generate data"
   ]
  },
  {
   "cell_type": "code",
   "execution_count": 3,
   "metadata": {},
   "outputs": [
    {
     "data": {
      "image/png": "[encoded data removed]",
      "text/plain": [
       "<matplotlib.figure.Figure at 0x7feb45422cd0>"
      ]
     },
     "metadata": {},
     "output_type": "display_data"
    }
   ],
   "source": [
    "# simple gaussian\n",
    "n = 1000\n",
    "data = (np.random.normal(5,10,n)).reshape(1,n)\n",
    "plt.hist(data.T, bins=50, normed=True);"
   ]
  },
  {
   "cell_type": "markdown",
   "metadata": {},
   "source": [
    "## Training"
   ]
  },
  {
   "cell_type": "code",
   "execution_count": 4,
   "metadata": {},
   "outputs": [],
   "source": [
    "a = RTBM(1,1)"
   ]
  },
  {
   "cell_type": "code",
   "execution_count": 5,
   "metadata": {},
   "outputs": [
    {
     "name": "stdout",
     "output_type": "stream",
     "text": [
      "CMA on 16 cpu(s) enabled\n"
     ]
    }
   ],
   "source": [
    "minim = minimizer.CMA(True)"
   ]
  },
  {
   "cell_type": "code",
   "execution_count": 6,
   "metadata": {
    "scrolled": true
   },
   "outputs": [
    {
     "name": "stdout",
     "output_type": "stream",
     "text": [
      "(4_w,9)-aCMA-ES (mu_w=2.8,w_1=49%) in dimension 6 (seed=884225, Fri Nov  3 19:10:14 2017)\n",
      "Iterat #Fevals   function value  axis ratio  sigma  min&max std  t[m:s]\n",
      "    1      9 1.226520265677628e+04 1.0e+00 9.80e-02  9e-02  1e-01 0:00.2\n",
      "    2     18 1.008058569874781e+04 1.4e+00 1.08e-01  9e-02  1e-01 0:00.4\n",
      "    3     27 9.878118995156710e+03 1.5e+00 1.13e-01  9e-02  1e-01 0:00.7\n",
      "   17    153 3.978172184454226e+03 4.9e+00 2.25e-01  2e-01  3e-01 0:03.7\n",
      "   36    324 3.777320998151900e+03 1.1e+01 8.22e-02  4e-02  1e-01 0:07.7\n",
      "   59    531 3.745829927494004e+03 2.3e+01 4.10e-02  9e-03  6e-02 0:12.7\n",
      "   88    792 3.745336761116674e+03 8.0e+01 6.32e-03  6e-04  1e-02 0:18.9\n",
      "  100    900 3.745334701795830e+03 1.2e+02 1.87e-03  1e-04  3e-03 0:21.5\n",
      "  139   1251 3.745334316499468e+03 3.8e+02 1.63e-03  3e-05  2e-03 0:29.5\n",
      "  183   1647 3.745333800744720e+03 9.5e+02 4.46e-03  3e-05  5e-03 0:38.7\n",
      "  200   1800 3.745333703888159e+03 9.3e+02 3.30e-03  2e-05  3e-03 0:42.2\n",
      "  221   1989 3.745333652402818e+03 9.3e+02 2.51e-03  1e-05  2e-03 0:46.6\n",
      "CMAEvolutionStrategyResult(xbest=array([-9.98220539e-01,  6.41422100e-02,  9.99997950e-01, -2.02476303e-01,\n",
      "        8.57137809e-06, -3.71162064e-01]), fbest=(3745.3336511725065-0j), evals_best=1964, evaluations=1989, iterations=221, xfavorite=array([-1.12690461e+00,  6.38764458e-02,  1.09872872e+00, -2.02216926e-01,\n",
      "       -7.50779044e-06, -1.82822461e+00]), stds=array([1.83562100e-03, 2.95620049e-04, 1.86755025e-03, 2.89049035e-04,\n",
      "       1.09561765e-05, 8.24134270e-04]))\n"
     ]
    }
   ],
   "source": [
    "solution = minim.train(logarithmic(), a, data, tolfun=1e-4)"
   ]
  },
  {
   "cell_type": "markdown",
   "metadata": {},
   "source": [
    "## Testing output"
   ]
  },
  {
   "cell_type": "code",
   "execution_count": 7,
   "metadata": {},
   "outputs": [
    {
     "data": {
      "text/plain": [
       "[<matplotlib.lines.Line2D at 0x7feb1a4c0410>]"
      ]
     },
     "execution_count": 7,
     "metadata": {},
     "output_type": "execute_result"
    },
    {
     "data": {
      "image/png": "[encoded data removed]",
      "text/plain": [
       "<matplotlib.figure.Figure at 0x7feb1a47e850>"
      ]
     },
     "metadata": {},
     "output_type": "display_data"
    }
   ],
   "source": [
    "test_data = (np.linspace(-40,40, 100)).reshape(1, 100)\n",
    "plt.hist(data.T, bins=50, normed=True)\n",
    "plt.plot(test_data.flatten(), a(test_data).flatten(), 'o-')"
   ]
  },
  {
   "cell_type": "markdown",
   "metadata": {},
   "source": [
    "# Example 2"
   ]
  },
  {
   "cell_type": "markdown",
   "metadata": {},
   "source": [
    "## Generate data"
   ]
  },
  {
   "cell_type": "code",
   "execution_count": 7,
   "metadata": {},
   "outputs": [
    {
     "data": {
      "image/png": "[encoded data removed]",
      "text/plain": [
       "<matplotlib.figure.Figure at 0x7fb8c3aed3d0>"
      ]
     },
     "metadata": {},
     "output_type": "display_data"
    }
   ],
   "source": [
    "def gaussian_mixture(n):\n",
    "    v = np.zeros(n)\n",
    "    u = np.random.random_sample(n)\n",
    "    for i in range(n):\n",
    "        if u[i] < 0.6:\n",
    "            v[i] = np.random.normal(-5, 3)\n",
    "        elif u[i] < 0.7:\n",
    "            v[i] = np.random.normal(2, 1)\n",
    "        else:\n",
    "            v[i] = np.random.normal(5, 5)\n",
    "    return v\n",
    "\n",
    "n = 1000\n",
    "data = (gaussian_mixture(n)).reshape(1,n)\n",
    "plt.hist(data.T, normed=True, bins=50);"
   ]
  },
  {
   "cell_type": "markdown",
   "metadata": {},
   "source": [
    "## Training"
   ]
  },
  {
   "cell_type": "code",
   "execution_count": 8,
   "metadata": {},
   "outputs": [],
   "source": [
    "a = RTBM(1,2)"
   ]
  },
  {
   "cell_type": "code",
   "execution_count": null,
   "metadata": {},
   "outputs": [
    {
     "name": "stdout",
     "output_type": "stream",
     "text": [
      "CMA on 16 cpu(s) enabled\n"
     ]
    }
   ],
   "source": [
    "minim = minimizer.CMA(True)"
   ]
  },
  {
   "cell_type": "code",
   "execution_count": null,
   "metadata": {},
   "outputs": [
    {
     "name": "stdout",
     "output_type": "stream",
     "text": [
      "(5_w,11)-aCMA-ES (mu_w=3.4,w_1=42%) in dimension 12 (seed=797156, Fri Nov  3 18:58:15 2017)\n",
      "Iterat #Fevals   function value  axis ratio  sigma  min&max std  t[m:s]\n",
      "    1     11 1.529953234292351e+04 1.0e+00 9.43e-02  9e-02  1e-01 0:00.3\n",
      "    2     22 1.161710145135589e+04 1.1e+00 9.78e-02  9e-02  1e-01 0:00.7\n",
      "    3     33 7.928728238419330e+03 1.2e+00 1.05e-01  1e-01  1e-01 0:00.9\n",
      "   12    132 3.439527648985584e+03 1.7e+00 1.68e-01  2e-01  2e-01 0:04.1\n",
      "   13    143 3.401131392981070e+03 1.8e+00 1.73e-01  2e-01  2e-01 0:28.3\n"
     ]
    }
   ],
   "source": [
    "solution = minim.train(logarithmic(), a, data, tolfun=1e-5)"
   ]
  },
  {
   "cell_type": "markdown",
   "metadata": {},
   "source": [
    "## Testing output"
   ]
  },
  {
   "cell_type": "code",
   "execution_count": null,
   "metadata": {},
   "outputs": [],
   "source": [
    "test_data = (np.linspace(-50,50, 100)).reshape(1, 100)\n",
    "plt.hist(data.T, bins=50, normed=True);\n",
    "plt.plot(test_data.flatten(), a(test_data).flatten(), 'o-')"
   ]
  },
  {
   "cell_type": "code",
   "execution_count": null,
   "metadata": {},
   "outputs": [],
   "source": []
  }
 ],
 "metadata": {
  "kernelspec": {
   "display_name": "Python 2",
   "language": "python",
   "name": "python2"
  },
  "language_info": {
   "codemirror_mode": {
    "name": "ipython",
    "version": 2
   },
   "file_extension": ".py",
   "mimetype": "text/x-python",
   "name": "python",
   "nbconvert_exporter": "python",
   "pygments_lexer": "ipython2",
   "version": "2.7.12"
  }
 },
 "nbformat": 4,
 "nbformat_minor": 1
}

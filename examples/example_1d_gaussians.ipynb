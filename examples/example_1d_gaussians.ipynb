{
 "cells": [
  {
   "cell_type": "code",
   "execution_count": 1,
   "metadata": {},
   "outputs": [],
   "source": [
    "import numpy as np\n",
    "import matplotlib.pyplot as plt\n",
    "%matplotlib inline\n",
    "\n",
    "from rtbm import RTBM, minimizer\n",
    "from rtbm.costfunctions import logarithmic\n",
    "\n",
    "import warnings\n",
    "warnings.filterwarnings('ignore')"
   ]
  },
  {
   "cell_type": "markdown",
   "metadata": {},
   "source": [
    "# Example 1"
   ]
  },
  {
   "cell_type": "markdown",
   "metadata": {},
   "source": [
    "## Generate data"
   ]
  },
  {
   "cell_type": "code",
   "execution_count": 2,
   "metadata": {},
   "outputs": [
    {
     "data": {
      "image/png": "[encoded data removed]",
      "text/plain": [
       "<matplotlib.figure.Figure at 0x7f137227df90>"
      ]
     },
     "metadata": {},
     "output_type": "display_data"
    }
   ],
   "source": [
    "# simple gaussian\n",
    "n = 1000\n",
    "data = (np.random.normal(5,10,n)).reshape(1,n)\n",
    "plt.hist(data.T, bins=50, normed=True);"
   ]
  },
  {
   "cell_type": "markdown",
   "metadata": {},
   "source": [
    "## Training"
   ]
  },
  {
   "cell_type": "code",
   "execution_count": 3,
   "metadata": {},
   "outputs": [],
   "source": [
    "a = RTBM(1,1)"
   ]
  },
  {
   "cell_type": "code",
   "execution_count": 4,
   "metadata": {},
   "outputs": [
    {
     "name": "stdout",
     "output_type": "stream",
     "text": [
      "CMA on 1 cpu(s) enabled\n"
     ]
    }
   ],
   "source": [
    "minim = minimizer.CMA(False)"
   ]
  },
  {
   "cell_type": "code",
   "execution_count": 5,
   "metadata": {
    "scrolled": true
   },
   "outputs": [
    {
     "name": "stdout",
     "output_type": "stream",
     "text": [
      "(4_w,8)-aCMA-ES (mu_w=2.6,w_1=52%) in dimension 5 (seed=885634, Sun Nov  5 05:11:19 2017)\n",
      "Iterat #Fevals   function value  axis ratio  sigma  min&max std  t[m:s]\n",
      "    1      8 9.237830495646103e+03 1.0e+00 1.78e-01  2e-01  2e-01 0:00.0\n",
      "    2     16 9.036529913320126e+03 1.2e+00 1.69e-01  1e-01  2e-01 0:00.1\n",
      "    3     24 7.784292334960624e+03 1.3e+00 1.61e-01  1e-01  2e-01 0:00.1\n",
      "   63    504 3.834036143935929e+03 3.8e+01 3.83e-02  7e-03  5e-02 0:03.2\n",
      "  100    800 3.739004087513887e+03 1.3e+02 3.88e-02  4e-03  4e-02 0:05.0\n",
      "  160   1280 3.736857140666479e+03 4.6e+03 4.44e-04  1e-05  1e-03 0:08.1\n",
      "CMAEvolutionStrategyResult(xbest=array([-2.86092075e-06, -1.33417020e-01, -4.86859211e-01,  2.03850516e-01,\n",
      "        1.22085369e+00]), fbest=3736.8571406664787, evals_best=1273, evaluations=1280, iterations=160, xfavorite=array([ 1.26911848e-06, -1.33436930e-01, -4.86893809e-01,  2.03851404e-01,\n",
      "        1.22102179e+00]), stds=array([1.13519940e-05, 6.43882754e-05, 2.37268408e-04, 3.78737151e-05,\n",
      "       1.06469435e-03]))\n"
     ]
    }
   ],
   "source": [
    "solution = minim.train(logarithmic(), a, data, tolfun=1e-4)"
   ]
  },
  {
   "cell_type": "markdown",
   "metadata": {},
   "source": [
    "## Testing output"
   ]
  },
  {
   "cell_type": "code",
   "execution_count": 6,
   "metadata": {},
   "outputs": [
    {
     "data": {
      "text/plain": [
       "[<matplotlib.lines.Line2D at 0x7f136a9eef10>]"
      ]
     },
     "execution_count": 6,
     "metadata": {},
     "output_type": "execute_result"
    },
    {
     "data": {
      "image/png": "[encoded data removed]",
      "text/plain": [
       "<matplotlib.figure.Figure at 0x7f136a9eeb90>"
      ]
     },
     "metadata": {},
     "output_type": "display_data"
    }
   ],
   "source": [
    "test_data = (np.linspace(-40,40, 100)).reshape(1, 100)\n",
    "plt.hist(data.T, bins=50, normed=True)\n",
    "plt.plot(test_data.flatten(), a(test_data).flatten(), 'o-')"
   ]
  },
  {
   "cell_type": "markdown",
   "metadata": {},
   "source": [
    "# Example 2"
   ]
  },
  {
   "cell_type": "markdown",
   "metadata": {},
   "source": [
    "## Generate data"
   ]
  },
  {
   "cell_type": "code",
   "execution_count": 7,
   "metadata": {},
   "outputs": [
    {
     "data": {
      "image/png": "[encoded data removed]",
      "text/plain": [
       "<matplotlib.figure.Figure at 0x7f136a3636d0>"
      ]
     },
     "metadata": {},
     "output_type": "display_data"
    }
   ],
   "source": [
    "def gaussian_mixture(n):\n",
    "    v = np.zeros(n)\n",
    "    u = np.random.random_sample(n)\n",
    "    for i in range(n):\n",
    "        if u[i] < 0.6:\n",
    "            v[i] = np.random.normal(-5, 3)\n",
    "        elif u[i] < 0.7:\n",
    "            v[i] = np.random.normal(2, 1)\n",
    "        else:\n",
    "            v[i] = np.random.normal(5, 5)\n",
    "    return v\n",
    "\n",
    "n = 1000\n",
    "data = (gaussian_mixture(n)).reshape(1,n)\n",
    "plt.hist(data.T, normed=True, bins=50);"
   ]
  },
  {
   "cell_type": "markdown",
   "metadata": {},
   "source": [
    "## Training"
   ]
  },
  {
   "cell_type": "code",
   "execution_count": 8,
   "metadata": {},
   "outputs": [],
   "source": [
    "a = RTBM(1,2)"
   ]
  },
  {
   "cell_type": "code",
   "execution_count": 9,
   "metadata": {},
   "outputs": [
    {
     "name": "stdout",
     "output_type": "stream",
     "text": [
      "CMA on 1 cpu(s) enabled\n"
     ]
    }
   ],
   "source": [
    "minim = minimizer.CMA(False)"
   ]
  },
  {
   "cell_type": "code",
   "execution_count": 10,
   "metadata": {},
   "outputs": [
    {
     "name": "stdout",
     "output_type": "stream",
     "text": [
      "(5_w,10)-aCMA-ES (mu_w=3.2,w_1=45%) in dimension 9 (seed=961018, Sun Nov  5 05:11:27 2017)\n",
      "Iterat #Fevals   function value  axis ratio  sigma  min&max std  t[m:s]\n",
      "    1     10 9.962957741612208e+03 1.0e+00 1.90e-01  2e-01  2e-01 0:00.0\n",
      "    2     20 8.141609171783587e+03 1.2e+00 2.06e-01  2e-01  2e-01 0:00.2\n",
      "    3     30 7.146774492282979e+03 1.3e+00 2.15e-01  2e-01  2e-01 0:00.3\n",
      "   22    220 3.192816321356893e+03 3.0e+00 1.14e-01  9e-02  1e-01 0:03.5\n",
      "   45    450 3.144910822371296e+03 5.5e+00 4.63e-02  3e-02  5e-02 0:07.6\n",
      "   77    770 3.139132327256885e+03 1.6e+01 3.22e-02  2e-02  4e-02 0:12.7\n",
      "  100   1000 3.138330050188558e+03 3.2e+01 1.16e-02  6e-03  1e-02 0:16.2\n",
      "  145   1450 3.138178011905728e+03 1.5e+02 2.60e-03  6e-04  4e-03 0:23.3\n",
      "  196   1960 3.138177754811825e+03 8.1e+02 7.21e-04  4e-05  1e-03 0:31.4\n",
      "  200   2000 3.138177748969058e+03 8.1e+02 8.65e-04  5e-05  2e-03 0:32.0\n",
      "  264   2640 3.138177686564726e+03 2.3e+03 1.46e-03  4e-05  3e-03 0:42.1\n",
      "  300   3000 3.138177541359280e+03 4.9e+03 3.31e-03  7e-05  1e-02 0:47.7\n",
      "  379   3790 3.138177182799828e+03 2.4e+03 1.34e-03  2e-05  1e-03 0:59.8\n",
      "  400   4000 3.138177094438789e+03 2.1e+03 5.37e-03  8e-05  4e-03 1:03.0\n",
      "  493   4930 3.138175814344489e+03 7.0e+03 1.18e-02  1e-04  1e-02 1:17.0\n",
      "  500   5000 3.138175719672768e+03 7.9e+03 1.46e-02  1e-04  2e-02 1:18.1\n",
      "  600   6000 3.138175189957467e+03 1.2e+04 3.72e-02  1e-04  5e-02 1:33.7\n",
      "  689   6890 3.138174926910149e+03 1.2e+04 2.66e-02  3e-05  1e-02 1:50.9\n",
      "  700   7000 3.138174917747227e+03 1.1e+04 2.00e-02  2e-05  8e-03 1:53.3\n",
      "  769   7690 3.138174810770704e+03 2.0e+04 2.23e-02  2e-05  1e-02 2:12.3\n",
      "  800   8000 3.138174782669314e+03 2.1e+04 1.25e-02  1e-05  7e-03 2:28.9\n",
      "  824   8240 3.138174777067901e+03 1.6e+04 7.43e-03  5e-06  3e-03 2:50.4\n",
      "  836   8360 3.138174775907052e+03 1.3e+04 4.90e-03  4e-06  1e-03 3:04.3\n",
      "CMAEvolutionStrategyResult(xbest=array([ 2.92845830e-05, -6.12474926e-03, -2.04926920e-01, -1.02914965e+00,\n",
      "        1.90213232e-03,  5.87011539e-01,  1.90988980e+00, -9.22015892e-04,\n",
      "        5.80769496e-03]), fbest=3138.174775611876, evals_best=8277, evaluations=8360, iterations=836, xfavorite=array([ 3.00223217e-05, -5.49675313e-03, -2.03534958e-01, -1.02898920e+00,\n",
      "        1.93993880e-03,  5.86840179e-01,  1.91753762e+00, -8.81001304e-04,\n",
      "        6.05546560e-03]), stds=array([3.99715381e-06, 2.30625508e-04, 5.19576037e-04, 6.32691565e-05,\n",
      "       4.21779136e-04, 1.24306172e-04, 6.93553278e-05, 1.95006589e-04,\n",
      "       1.49961779e-03]))\n"
     ]
    }
   ],
   "source": [
    "solution = minim.train(logarithmic(), a, data, tolfun=1e-5)"
   ]
  },
  {
   "cell_type": "markdown",
   "metadata": {},
   "source": [
    "## Testing output"
   ]
  },
  {
   "cell_type": "code",
   "execution_count": 11,
   "metadata": {},
   "outputs": [
    {
     "data": {
      "text/plain": [
       "[<matplotlib.lines.Line2D at 0x7f136a320d90>]"
      ]
     },
     "execution_count": 11,
     "metadata": {},
     "output_type": "execute_result"
    },
    {
     "data": {
      "image/png": "[encoded data removed]",
      "text/plain": [
       "<matplotlib.figure.Figure at 0x7f136a320d50>"
      ]
     },
     "metadata": {},
     "output_type": "display_data"
    }
   ],
   "source": [
    "test_data = (np.linspace(-50,50, 100)).reshape(1, 100)\n",
    "plt.hist(data.T, bins=50, normed=True);\n",
    "plt.plot(test_data.flatten(), a(test_data).flatten(), 'o-')"
   ]
  },
  {
   "cell_type": "code",
   "execution_count": null,
   "metadata": {},
   "outputs": [],
   "source": []
  }
 ],
 "metadata": {
  "kernelspec": {
   "display_name": "Python 2",
   "language": "python",
   "name": "python2"
  },
  "language_info": {
   "codemirror_mode": {
    "name": "ipython",
    "version": 2
   },
   "file_extension": ".py",
   "mimetype": "text/x-python",
   "name": "python",
   "nbconvert_exporter": "python",
   "pygments_lexer": "ipython2",
   "version": "2.7.6"
  }
 },
 "nbformat": 4,
 "nbformat_minor": 1
}

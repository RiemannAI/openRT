{
 "cells": [
  {
   "cell_type": "code",
   "execution_count": 1,
   "metadata": {},
   "outputs": [
    {
     "name": "stdout",
     "output_type": "stream",
     "text": [
      "The history saving thread hit an unexpected error (DatabaseError('database disk image is malformed',)).History will not be written to the database.\n"
     ]
    },
    {
     "name": "stderr",
     "output_type": "stream",
     "text": [
      "Process PoolWorker-12:\n",
      "Process PoolWorker-4:\n",
      "Traceback (most recent call last):\n",
      "Traceback (most recent call last):\n",
      "Process PoolWorker-16:\n",
      "Process PoolWorker-3:\n",
      "Process PoolWorker-15:\n",
      "Process PoolWorker-5:\n",
      "Process PoolWorker-6:\n",
      "Process PoolWorker-10:\n",
      "Process PoolWorker-1:\n",
      "  File \"/usr/lib/python2.7/multiprocessing/process.py\", line 258, in _bootstrap\n",
      "  File \"/usr/lib/python2.7/multiprocessing/process.py\", line 258, in _bootstrap\n",
      "Process PoolWorker-13:\n",
      "Traceback (most recent call last):\n",
      "Process PoolWorker-9:\n",
      "    self.run()\n",
      "    self.run()\n",
      "    self.run()\n",
      "Traceback (most recent call last):\n",
      "Traceback (most recent call last):\n",
      "Traceback (most recent call last):\n",
      "Process PoolWorker-8:\n",
      "Process PoolWorker-7:\n",
      "Process PoolWorker-2:\n",
      "Traceback (most recent call last):\n",
      "  File \"/usr/lib/python2.7/multiprocessing/process.py\", line 258, in _bootstrap\n",
      "Process PoolWorker-14:\n",
      "Traceback (most recent call last):\n",
      "Traceback (most recent call last):\n",
      "Process PoolWorker-11:\n",
      "  File \"/usr/lib/python2.7/multiprocessing/process.py\", line 258, in _bootstrap\n",
      "Traceback (most recent call last):\n",
      "  File \"/usr/lib/python2.7/multiprocessing/process.py\", line 258, in _bootstrap\n",
      "  File \"/usr/lib/python2.7/multiprocessing/process.py\", line 114, in run\n",
      "  File \"/usr/lib/python2.7/multiprocessing/process.py\", line 258, in _bootstrap\n",
      "  File \"/usr/lib/python2.7/multiprocessing/process.py\", line 258, in _bootstrap\n",
      "Traceback (most recent call last):\n",
      "    self.run()\n",
      "    self._target(*self._args, **self._kwargs)\n",
      "Traceback (most recent call last):\n",
      "Traceback (most recent call last):\n",
      "  File \"/usr/lib/python2.7/multiprocessing/process.py\", line 258, in _bootstrap\n",
      "    self._target(*self._args, **self._kwargs)\n",
      "  File \"/usr/lib/python2.7/multiprocessing/process.py\", line 258, in _bootstrap\n",
      "    self.run()\n",
      "Traceback (most recent call last):\n",
      "    self.run()\n",
      "  File \"/usr/lib/python2.7/multiprocessing/process.py\", line 258, in _bootstrap\n",
      "  File \"/usr/lib/python2.7/multiprocessing/process.py\", line 258, in _bootstrap\n",
      "Traceback (most recent call last):\n",
      "  File \"/usr/lib/python2.7/multiprocessing/pool.py\", line 102, in worker\n",
      "    self.run()\n",
      "Traceback (most recent call last):\n",
      "  File \"/usr/lib/python2.7/multiprocessing/process.py\", line 114, in run\n",
      "  File \"/usr/lib/python2.7/multiprocessing/process.py\", line 258, in _bootstrap\n",
      "    self.run()\n",
      "  File \"/usr/lib/python2.7/multiprocessing/process.py\", line 114, in run\n",
      "  File \"/usr/lib/python2.7/multiprocessing/process.py\", line 114, in run\n",
      "  File \"/usr/lib/python2.7/multiprocessing/process.py\", line 258, in _bootstrap\n",
      "    self.run()\n",
      "    self.run()\n",
      "  File \"/usr/lib/python2.7/multiprocessing/process.py\", line 258, in _bootstrap\n",
      "  File \"/usr/lib/python2.7/multiprocessing/process.py\", line 114, in run\n",
      "    self.run()\n",
      "    self._target(*self._args, **self._kwargs)\n",
      "    self.run()\n",
      "    self.run()\n",
      "    self._target(*self._args, **self._kwargs)\n",
      "  File \"/usr/lib/python2.7/multiprocessing/process.py\", line 114, in run\n",
      "  File \"/usr/lib/python2.7/multiprocessing/process.py\", line 114, in run\n",
      "  File \"/usr/lib/python2.7/multiprocessing/process.py\", line 114, in run\n",
      "    self._target(*self._args, **self._kwargs)\n",
      "  File \"/usr/lib/python2.7/multiprocessing/process.py\", line 114, in run\n",
      "    task = get()\n",
      "  File \"/usr/lib/python2.7/multiprocessing/process.py\", line 114, in run\n",
      "    self.run()\n",
      "  File \"/usr/lib/python2.7/multiprocessing/process.py\", line 258, in _bootstrap\n",
      "  File \"/usr/lib/python2.7/multiprocessing/pool.py\", line 102, in worker\n",
      "  File \"/usr/lib/python2.7/multiprocessing/process.py\", line 114, in run\n",
      "    self._target(*self._args, **self._kwargs)\n",
      "  File \"/usr/lib/python2.7/multiprocessing/process.py\", line 114, in run\n",
      "  File \"/usr/lib/python2.7/multiprocessing/process.py\", line 114, in run\n",
      "  File \"/usr/lib/python2.7/multiprocessing/pool.py\", line 102, in worker\n",
      "    self._target(*self._args, **self._kwargs)\n",
      "  File \"/usr/lib/python2.7/multiprocessing/pool.py\", line 102, in worker\n",
      "  File \"/usr/lib/python2.7/multiprocessing/process.py\", line 114, in run\n",
      "    self._target(*self._args, **self._kwargs)\n",
      "  File \"/usr/lib/python2.7/multiprocessing/queues.py\", line 376, in get\n",
      "  File \"/usr/lib/python2.7/multiprocessing/process.py\", line 258, in _bootstrap\n",
      "    self._target(*self._args, **self._kwargs)\n",
      "    self._target(*self._args, **self._kwargs)\n",
      "  File \"/usr/lib/python2.7/multiprocessing/pool.py\", line 102, in worker\n",
      "    self.run()\n",
      "    task = get()\n",
      "    self._target(*self._args, **self._kwargs)\n",
      "    self._target(*self._args, **self._kwargs)\n",
      "    self._target(*self._args, **self._kwargs)\n",
      "    task = get()\n",
      "    task = get()\n",
      "    racquire()\n",
      "  File \"/usr/lib/python2.7/multiprocessing/pool.py\", line 102, in worker\n",
      "  File \"/usr/lib/python2.7/multiprocessing/pool.py\", line 102, in worker\n",
      "  File \"/usr/lib/python2.7/multiprocessing/pool.py\", line 102, in worker\n",
      "  File \"/usr/lib/python2.7/multiprocessing/process.py\", line 114, in run\n",
      "  File \"/usr/lib/python2.7/multiprocessing/pool.py\", line 102, in worker\n",
      "  File \"/usr/lib/python2.7/multiprocessing/pool.py\", line 102, in worker\n",
      "  File \"/usr/lib/python2.7/multiprocessing/queues.py\", line 376, in get\n",
      "  File \"/usr/lib/python2.7/multiprocessing/pool.py\", line 102, in worker\n",
      "KeyboardInterrupt\n",
      "  File \"/usr/lib/python2.7/multiprocessing/queues.py\", line 376, in get\n",
      "    task = get()\n",
      "    self._target(*self._args, **self._kwargs)\n",
      "    self.run()\n",
      "  File \"/usr/lib/python2.7/multiprocessing/pool.py\", line 102, in worker\n",
      "  File \"/usr/lib/python2.7/multiprocessing/queues.py\", line 376, in get\n",
      "    task = get()\n",
      "  File \"/usr/lib/python2.7/multiprocessing/pool.py\", line 102, in worker\n",
      "    self._target(*self._args, **self._kwargs)\n",
      "    task = get()\n",
      "    racquire()\n",
      "    racquire()\n",
      "  File \"/usr/lib/python2.7/multiprocessing/queues.py\", line 376, in get\n",
      "    task = get()\n",
      "  File \"/usr/lib/python2.7/multiprocessing/queues.py\", line 376, in get\n",
      "    task = get()\n",
      "  File \"/usr/lib/python2.7/multiprocessing/pool.py\", line 102, in worker\n",
      "    task = get()\n",
      "    racquire()\n",
      "  File \"/usr/lib/python2.7/multiprocessing/process.py\", line 114, in run\n",
      "  File \"/usr/lib/python2.7/multiprocessing/pool.py\", line 102, in worker\n",
      "  File \"/usr/lib/python2.7/multiprocessing/queues.py\", line 376, in get\n",
      "KeyboardInterrupt\n",
      "    task = get()\n",
      "  File \"/usr/lib/python2.7/multiprocessing/queues.py\", line 378, in get\n",
      "    task = get()\n",
      "    racquire()\n",
      "  File \"/usr/lib/python2.7/multiprocessing/queues.py\", line 376, in get\n",
      "    task = get()\n",
      "  File \"/usr/lib/python2.7/multiprocessing/queues.py\", line 376, in get\n",
      "    racquire()\n",
      "KeyboardInterrupt\n",
      "    task = get()\n",
      "    self._target(*self._args, **self._kwargs)\n",
      "    racquire()\n",
      "KeyboardInterrupt\n",
      "    task = get()\n",
      "    return recv()\n",
      "  File \"/usr/lib/python2.7/multiprocessing/queues.py\", line 376, in get\n",
      "  File \"/usr/lib/python2.7/multiprocessing/queues.py\", line 376, in get\n",
      "KeyboardInterrupt\n",
      "    racquire()\n",
      "  File \"/usr/lib/python2.7/multiprocessing/queues.py\", line 376, in get\n",
      "KeyboardInterrupt\n",
      "    racquire()\n",
      "  File \"/usr/lib/python2.7/multiprocessing/pool.py\", line 102, in worker\n",
      "  File \"/usr/lib/python2.7/multiprocessing/queues.py\", line 376, in get\n",
      "KeyboardInterrupt\n",
      "  File \"/usr/lib/python2.7/multiprocessing/queues.py\", line 376, in get\n",
      "    racquire()\n",
      "    racquire()\n",
      "KeyboardInterrupt\n",
      "    racquire()\n",
      "KeyboardInterrupt\n",
      "    racquire()\n",
      "    task = get()\n",
      "    racquire()\n",
      "KeyboardInterrupt\n",
      "KeyboardInterrupt\n",
      "  File \"/usr/lib/python2.7/multiprocessing/queues.py\", line 376, in get\n",
      "KeyboardInterrupt\n",
      "KeyboardInterrupt\n",
      "KeyboardInterrupt\n",
      "KeyboardInterrupt\n",
      "    racquire()\n",
      "KeyboardInterrupt\n"
     ]
    }
   ],
   "source": [
    "import numpy as np\n",
    "import matplotlib.pyplot as plt\n",
    "%matplotlib inline\n",
    "\n",
    "import rtbm.layers as layers\n",
    "import rtbm.model as mdl\n",
    "\n",
    "import warnings\n",
    "warnings.filterwarnings('ignore')\n",
    "\n",
    "from rtbm.costfunctions import mse\n",
    "from rtbm import minimizer\n",
    "\n",
    "from rtbm.mathtools import theta_1d, logtheta_1d_phaseI\n",
    "from rtbm.riemann_theta.riemann_theta import RiemannTheta\n",
    "\n",
    "import rtbm.layers as layers\n",
    "import rtbm.model as mdl\n",
    "\n",
    "import mpmath\n",
    "from numpy import frompyfunc"
   ]
  },
  {
   "cell_type": "markdown",
   "metadata": {},
   "source": [
    "# Derivatives test"
   ]
  },
  {
   "cell_type": "code",
   "execution_count": 12,
   "metadata": {},
   "outputs": [
    {
     "name": "stdout",
     "output_type": "stream",
     "text": [
      "(1434.49605524+5.69872548808e-14j)\n"
     ]
    }
   ],
   "source": [
    "Q=np.zeros((1,1), dtype=complex)\n",
    "V=np.zeros((1,1), dtype=complex)\n",
    "V[0,0]=0.1*2j*np.pi\n",
    "Q[0,0]=0.01*2*np.pi\n",
    "\n",
    "#print(theta_1d(V,Q,0))\n",
    "\n",
    "\n",
    "print(RiemannTheta(V/(2j*np.pi),1j*Q/(2*np.pi), derivs=[[1],[1]]))\n",
    "\n",
    "#print(RiemannTheta(V/(2j*np.pi),1j*Q/(2*np.pi), derivs=[[1],[1]]))\n",
    "\n",
    "#mpmath.jtheta(3,V[0,0],Q[0,0])"
   ]
  },
  {
   "cell_type": "code",
   "execution_count": 13,
   "metadata": {},
   "outputs": [],
   "source": [
    "X=np.random.uniform(-50, 50,(1000,1))"
   ]
  },
  {
   "cell_type": "code",
   "execution_count": 14,
   "metadata": {},
   "outputs": [
    {
     "name": "stdout",
     "output_type": "stream",
     "text": [
      "CPU times: user 100 ms, sys: 0 ns, total: 100 ms\n",
      "Wall time: 23.1 ms\n"
     ]
    }
   ],
   "source": [
    "%%time\n",
    "t = RiemannTheta(X/(2j*np.pi),1j*Q/(2*np.pi))"
   ]
  },
  {
   "cell_type": "code",
   "execution_count": 15,
   "metadata": {},
   "outputs": [],
   "source": [
    "test= frompyfunc(lambda z, q: mpmath.jtheta(3, z, q), 2, 1)"
   ]
  },
  {
   "cell_type": "code",
   "execution_count": 16,
   "metadata": {},
   "outputs": [
    {
     "name": "stdout",
     "output_type": "stream",
     "text": [
      "CPU times: user 9.51 s, sys: 2.13 s, total: 11.6 s\n",
      "Wall time: 9.59 s\n"
     ]
    }
   ],
   "source": [
    "%%time\n",
    "t = test(np.pi*X/(2j*np.pi),np.exp(1j*np.pi*1j*Q[0,0]/(2*np.pi)))"
   ]
  },
  {
   "cell_type": "code",
   "execution_count": 17,
   "metadata": {},
   "outputs": [
    {
     "name": "stdout",
     "output_type": "stream",
     "text": [
      "(41.3273135097+0j)\n",
      "[41.32731351+0.j]\n",
      "(41.3273135097+0j)\n"
     ]
    }
   ],
   "source": [
    "Q=np.zeros((1,1), dtype=float)\n",
    "V=np.zeros((1,1), dtype=float)\n",
    "V[0,0]=0.1\n",
    "Q[0,0]=0.01\n",
    "\n",
    "\n",
    "print(theta_1d(V,Q,0))\n",
    "print(np.exp(logtheta_1d_phaseI(V,Q,0)))\n",
    "\n",
    "print(RiemannTheta(V/(2j*np.pi),-1*Q/(2j*np.pi)))"
   ]
  },
  {
   "cell_type": "code",
   "execution_count": 18,
   "metadata": {},
   "outputs": [
    {
     "data": {
      "text/plain": [
       "1.64"
      ]
     },
     "execution_count": 18,
     "metadata": {},
     "output_type": "execute_result"
    }
   ],
   "source": [
    "41.0/25.0"
   ]
  },
  {
   "cell_type": "markdown",
   "metadata": {},
   "source": [
    "# Linear layer test"
   ]
  },
  {
   "cell_type": "code",
   "execution_count": 19,
   "metadata": {},
   "outputs": [
    {
     "name": "stdout",
     "output_type": "stream",
     "text": [
      "Iteration 0 in 0.00(s), cost = 3.007016\n",
      "Iteration 100 in 0.03(s), cost = 2.729608\n",
      "Iteration 200 in 0.06(s), cost = 2.512413\n",
      "Iteration 300 in 0.09(s), cost = 2.331413\n",
      "Iteration 400 in 0.12(s), cost = 2.171677\n",
      "Iteration 500 in 0.16(s), cost = 2.023488\n",
      "Iteration 600 in 0.19(s), cost = 1.880449\n",
      "Iteration 700 in 0.22(s), cost = 1.738548\n",
      "Iteration 800 in 0.25(s), cost = 1.595703\n",
      "Iteration 900 in 0.28(s), cost = 1.451519\n",
      "('Cost: ', 1.3085300331987575)\n",
      "('Sol: ', array([-0.34664693, 0.01670776, 0.74753964, -0.69191109, -0.69506442,\n",
      "       -0.05901294, 0.30909227]))\n",
      "Time: 0 s\n"
     ]
    },
    {
     "data": {
      "text/plain": [
       "array([-0.34664693, 0.01670776, 0.74753964, -0.69191109, -0.69506442,\n",
       "       -0.05901294, 0.30909227])"
      ]
     },
     "execution_count": 19,
     "metadata": {},
     "output_type": "execute_result"
    }
   ],
   "source": [
    "def funcA(x):\n",
    "    return 0.6-0.3*x\n",
    "\n",
    "def funcB(x):\n",
    "    return -0.5+0.8*x\n",
    "\n",
    "\n",
    "def func(x1,x2):\n",
    "    return 0.6-0.3*x1+1.2*x2\n",
    "\n",
    "X1 = np.linspace(-5.3, 5, 1000)\n",
    "X2 = np.linspace(-5.5, 5, 1000)\n",
    "\n",
    "X = np.stack((X1,X2))\n",
    "\n",
    "#Y = func(X1,X2).reshape((1,X.shape[1]))\n",
    "Y = np.stack((funcA(X1),funcB(X2)))\n",
    "\n",
    "M = mdl.Model()\n",
    "M.add(layers.Linear(2,2))\n",
    "\n",
    "#minim = minimizer.CMA(True)\n",
    "#minim.train(mse(), M, X, Y, tolfun=1e-3)\n",
    "\n",
    "M = mdl.Model()\n",
    "M.add(layers.Linear(2,1))\n",
    "M.add(layers.Linear(1,2))\n",
    "\n",
    "\n",
    "minim = minimizer.SGD()\n",
    "minim.train(mse(), M, X, Y, lr=0.0001,maxiter=1000)"
   ]
  },
  {
   "cell_type": "markdown",
   "metadata": {},
   "source": [
    "# E(h|v) SGD test"
   ]
  },
  {
   "cell_type": "code",
   "execution_count": null,
   "metadata": {},
   "outputs": [
    {
     "name": "stdout",
     "output_type": "stream",
     "text": [
      "Iteration 0 in 0.11(s), cost = 3.164177\n",
      "Iteration 100 in 8.05(s), cost = 0.326603\n",
      "Iteration 200 in 15.94(s), cost = 0.283272\n",
      "Iteration 300 in 23.89(s), cost = 0.274579\n",
      "Iteration 400 in 32.73(s), cost = 0.263310\n"
     ]
    }
   ],
   "source": [
    "def func(x):\n",
    "    return np.sin(x)+x\n",
    "\n",
    "X = np.linspace(-5, 5, 1000)\n",
    "X = X.reshape((1,X.shape[0]))\n",
    "\n",
    "Y = func(X[:,None]).reshape((1,X.shape[1]))\n",
    "\n",
    "M = mdl.Model()\n",
    "M.add(layers.DiagExpectationUnitLayer(1,1, phase=1))\n",
    "\n",
    "minim = minimizer.SGD()\n",
    "\n",
    "minim.train(mse(), M, X, Y, lr=0.01,maxiter=1000,noise=0.01)\n",
    "\n",
    "plt.plot(X.flatten(), Y.flatten(),\"og-\", label='fit')\n",
    "plt.plot(X.flatten(), np.real(M.predict(X)).flatten(),\"ob-\", label='fit')"
   ]
  },
  {
   "cell_type": "code",
   "execution_count": null,
   "metadata": {},
   "outputs": [
    {
     "name": "stdout",
     "output_type": "stream",
     "text": [
      "CMA on 16 cpu(s) enabled\n",
      "(5_w,10)-aCMA-ES (mu_w=3.2,w_1=45%) in dimension 10 (seed=791460, Sat Nov  4 01:23:01 2017)\n",
      "Iterat #Fevals   function value  axis ratio  sigma  min&max std  t[m:s]\n",
      "    1     10 3.954760253979186e+00 1.0e+00 9.78e-01  9e-01  1e+00 0:00.4\n",
      "    2     20 3.747624173810217e+00 1.2e+00 9.71e-01  9e-01  1e+00 0:00.7\n",
      "    3     30 3.348135026821898e+00 1.3e+00 9.98e-01  9e-01  1e+00 0:01.0\n",
      "   12    120 3.504810576348552e+00 1.8e+00 6.62e-01  5e-01  7e-01 0:04.0\n",
      "   24    240 3.138099658848774e+00 2.6e+00 5.57e-01  3e-01  7e-01 0:08.3\n",
      "   39    390 2.083672916065300e+00 5.4e+00 4.79e-01  2e-01  7e-01 0:13.4\n",
      "   55    550 3.754377078249441e-01 7.3e+00 2.63e-01  7e-02  4e-01 0:19.5\n",
      "   76    760 2.049896798754062e-01 9.1e+00 2.14e-01  6e-02  3e-01 0:26.8\n",
      "  100   1000 1.473206550078088e-01 1.2e+01 1.43e-01  3e-02  2e-01 0:35.0\n",
      "  127   1270 8.137108463624768e-02 3.8e+01 1.75e-01  2e-02  3e-01 0:44.2\n",
      "  157   1570 3.220958828479951e-02 6.0e+01 1.97e-01  2e-02  4e-01 0:54.6\n",
      "  190   1900 3.547365175725300e-03 5.5e+01 4.63e-02  4e-03  6e-02 1:05.8\n",
      "  200   2000 1.879953529292566e-03 6.2e+01 4.45e-02  4e-03  6e-02 1:09.2\n",
      "  238   2380 2.372105857931469e-04 9.4e+01 2.86e-02  3e-03  3e-02 1:22.4\n",
      "  279   2790 7.289776952777014e-05 1.6e+02 1.61e-02  1e-03  2e-02 1:36.4\n",
      "  300   3000 5.383345370001322e-05 2.3e+02 1.67e-02  1e-03  2e-02 1:43.7\n",
      "  347   3470 3.940176512426426e-05 6.6e+02 6.83e-03  4e-04  1e-02 1:59.9\n",
      "  396   3960 2.833012083545072e-05 1.6e+03 8.14e-03  4e-04  2e-02 2:17.0\n",
      "  400   4000 2.728749746564792e-05 1.8e+03 9.50e-03  4e-04  3e-02 2:18.3\n",
      "  455   4550 1.011011582495329e-05 7.2e+03 1.23e-02  5e-04  9e-02 2:37.6\n",
      "  500   5000 6.752897974698041e-06 5.3e+03 5.51e-03  2e-04  2e-02 2:56.9\n",
      "  548   5480 5.795795987391000e-06 6.5e+03 6.12e-03  1e-04  2e-02 3:18.0\n",
      "  599   5990 4.973373691701231e-06 8.6e+03 6.94e-03  7e-05  2e-02 3:40.2\n",
      "  600   6000 4.922237446100216e-06 8.9e+03 6.82e-03  7e-05  2e-02 3:40.6\n",
      "  656   6560 4.286536217986842e-06 8.4e+03 9.00e-03  7e-05  2e-02 4:04.9\n",
      "  700   7000 3.922314546204373e-06 8.0e+03 1.61e-02  1e-04  2e-02 4:24.7\n"
     ]
    }
   ],
   "source": [
    "M = mdl.Model()\n",
    "M.add(layers.DiagExpectationUnitLayer(1,3,phase=1j))\n",
    "M.add(layers.DiagExpectationUnitLayer(2,1,phase=1j))\n",
    "\n",
    "minim = minimizer.CMA(True)\n",
    "\n",
    "minim.train(mse(), M, X, Y, maxiter=1000)\n",
    "plt.plot(X.flatten(), Y.flatten(),\"og-\", label='fit')\n",
    "plt.plot(X.flatten(), np.real(M.predict(X)).flatten(),\"ob-\", label='fit')"
   ]
  },
  {
   "cell_type": "code",
   "execution_count": null,
   "metadata": {},
   "outputs": [],
   "source": [
    "def func(x1,x2):\n",
    "    return 0.2*x1+0.4*x2+0.8\n",
    "\n",
    "X1 = np.linspace(-5.3, 5, 1000)\n",
    "X2 = np.linspace(-5.5, 5, 1000)\n",
    "\n",
    "X = np.stack((X1,X2))\n",
    "\n",
    "Y = func(X1[:,None],X2[:,None]).reshape((1,X1.shape[0]))\n",
    "\n",
    "M = mdl.Model()\n",
    "M.add(layers.DiagExpectationUnitLayer(2,1))\n",
    "M.add(layers.DiagExpectationUnitLayer(1,1))\n",
    "\n",
    "\n",
    "minim = minimizer.SGD()\n",
    "minim.train(mse(), M, X, Y, lr=0.1,maxiter=400)\n",
    "\n",
    "#plt.plot(X.flatten(), Y.flatten(),\"og-\", label='fit')\n",
    "#plt.plot(X.flatten(), np.real(M.predict(X)).flatten(),\"ob-\", label='fit')"
   ]
  },
  {
   "cell_type": "markdown",
   "metadata": {},
   "source": [
    "# Layer test"
   ]
  },
  {
   "cell_type": "code",
   "execution_count": null,
   "metadata": {},
   "outputs": [],
   "source": [
    "M = mdl.Model()\n",
    "M.add(layers.DiagExpectationUnitLayer(1,3))\n",
    "M.add(layers.DiagExpectationUnitLayer(3,1))"
   ]
  },
  {
   "cell_type": "code",
   "execution_count": null,
   "metadata": {},
   "outputs": [],
   "source": [
    "def func(x):\n",
    "    return np.sin(x)\n",
    "\n",
    "X = np.linspace(0, 10, 5)\n",
    "X = X.reshape((1,X.shape[0]))\n",
    "\n",
    "Y = func(X[:,None]).reshape((1,X.shape[1]))"
   ]
  },
  {
   "cell_type": "code",
   "execution_count": null,
   "metadata": {},
   "outputs": [],
   "source": [
    "plt.plot(X.flatten(), Y.flatten(),\"ob-\")"
   ]
  },
  {
   "cell_type": "code",
   "execution_count": null,
   "metadata": {},
   "outputs": [],
   "source": [
    "minim = minimizer.CMA(True)\n",
    "minim.train(mse(), M, X, Y, tolfun=1e-3)"
   ]
  },
  {
   "cell_type": "code",
   "execution_count": null,
   "metadata": {},
   "outputs": [],
   "source": [
    "npoints = 5\n",
    "test_X = (np.linspace(0, 10, npoints)).reshape((1, npoints))\n",
    "\n",
    "plt.plot(X.flatten(), Y.flatten(),\"og-\", label='target')\n",
    "plt.plot(test_X.flatten(), np.real(M.predict(test_X)).flatten(),\"ob-\", label='fit')\n",
    "plt.legend()"
   ]
  },
  {
   "cell_type": "markdown",
   "metadata": {},
   "source": [
    "# Misc tests"
   ]
  },
  {
   "cell_type": "code",
   "execution_count": null,
   "metadata": {},
   "outputs": [],
   "source": [
    "L = layers.MaxPosLayer(3,1)"
   ]
  },
  {
   "cell_type": "code",
   "execution_count": null,
   "metadata": {},
   "outputs": [],
   "source": [
    "L.feedin(np.array([Y,2*Y,1*Y]).reshape(3,5))"
   ]
  },
  {
   "cell_type": "code",
   "execution_count": null,
   "metadata": {},
   "outputs": [],
   "source": [
    "np.array([Y,2*Y,Y]).reshape(3,5)"
   ]
  },
  {
   "cell_type": "code",
   "execution_count": null,
   "metadata": {},
   "outputs": [],
   "source": [
    "np.empty(0)"
   ]
  },
  {
   "cell_type": "code",
   "execution_count": null,
   "metadata": {},
   "outputs": [],
   "source": [
    "derivative_1d_theta_phaseI([0.1],[1j],0)"
   ]
  },
  {
   "cell_type": "code",
   "execution_count": null,
   "metadata": {},
   "outputs": [],
   "source": []
  },
  {
   "cell_type": "code",
   "execution_count": null,
   "metadata": {},
   "outputs": [],
   "source": []
  }
 ],
 "metadata": {
  "kernelspec": {
   "display_name": "Python 2",
   "language": "python",
   "name": "python2"
  }
 },
 "nbformat": 4,
 "nbformat_minor": 2
}

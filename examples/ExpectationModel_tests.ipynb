{
 "cells": [
  {
   "cell_type": "code",
   "execution_count": null,
   "metadata": {},
   "outputs": [
    {
     "name": "stderr",
     "output_type": "stream",
     "text": [
      "Process PoolWorker-6:\n",
      "Process PoolWorker-8:\n",
      "Process PoolWorker-7:\n",
      "Traceback (most recent call last):\n",
      "Traceback (most recent call last):\n",
      "Traceback (most recent call last):\n",
      "Process PoolWorker-4:\n",
      "  File \"/usr/lib/python2.7/multiprocessing/process.py\", line 258, in _bootstrap\n",
      "  File \"/usr/lib/python2.7/multiprocessing/process.py\", line 258, in _bootstrap\n",
      "  File \"/usr/lib/python2.7/multiprocessing/process.py\", line 258, in _bootstrap\n",
      "    self.run()\n",
      "    self.run()\n",
      "Process PoolWorker-2:\n",
      "  File \"/usr/lib/python2.7/multiprocessing/process.py\", line 114, in run\n",
      "Traceback (most recent call last):\n",
      "    self.run()\n",
      "    task = get()\n",
      "    self._target(*self._args, **self._kwargs)\n",
      "Process PoolWorker-3:\n",
      "  File \"/usr/lib/python2.7/multiprocessing/process.py\", line 114, in run\n",
      "  File \"/usr/lib/python2.7/multiprocessing/process.py\", line 258, in _bootstrap\n",
      "  File \"/usr/lib/python2.7/multiprocessing/pool.py\", line 102, in worker\n",
      "    self._target(*self._args, **self._kwargs)\n",
      "    self.run()\n",
      "  File \"/usr/lib/python2.7/multiprocessing/queues.py\", line 374, in get\n",
      "  File \"/usr/lib/python2.7/multiprocessing/process.py\", line 114, in run\n",
      "Process PoolWorker-1:\n",
      "  File \"/usr/lib/python2.7/multiprocessing/pool.py\", line 102, in worker\n",
      "    task = get()\n",
      "    racquire()\n",
      "Process PoolWorker-5:\n",
      "  File \"/usr/lib/python2.7/multiprocessing/pool.py\", line 102, in worker\n",
      "Traceback (most recent call last):\n",
      "    self._target(*self._args, **self._kwargs)\n",
      "    self._target(*self._args, **self._kwargs)\n",
      "Traceback (most recent call last):\n",
      "KeyboardInterrupt\n",
      "  File \"/usr/lib/python2.7/multiprocessing/queues.py\", line 374, in get\n",
      "  File \"/usr/lib/python2.7/multiprocessing/process.py\", line 258, in _bootstrap\n",
      "  File \"/usr/lib/python2.7/multiprocessing/pool.py\", line 102, in worker\n",
      "Traceback (most recent call last):\n",
      "Traceback (most recent call last):\n",
      "  File \"/usr/lib/python2.7/multiprocessing/process.py\", line 114, in run\n",
      "    self.run()\n",
      "    racquire()\n",
      "  File \"/usr/lib/python2.7/multiprocessing/process.py\", line 258, in _bootstrap\n",
      "  File \"/usr/lib/python2.7/multiprocessing/process.py\", line 258, in _bootstrap\n",
      "KeyboardInterrupt\n",
      "    self.run()\n",
      "  File \"/usr/lib/python2.7/multiprocessing/process.py\", line 114, in run\n",
      "  File \"/usr/lib/python2.7/multiprocessing/process.py\", line 258, in _bootstrap\n",
      "    task = get()\n",
      "    task = get()\n",
      "    self._target(*self._args, **self._kwargs)\n",
      "  File \"/usr/lib/python2.7/multiprocessing/process.py\", line 114, in run\n",
      "    self.run()\n",
      "    self.run()\n",
      "  File \"/usr/lib/python2.7/multiprocessing/queues.py\", line 374, in get\n",
      "    task = get()\n",
      "    self._target(*self._args, **self._kwargs)\n",
      "  File \"/usr/lib/python2.7/multiprocessing/pool.py\", line 102, in worker\n",
      "  File \"/usr/lib/python2.7/multiprocessing/process.py\", line 114, in run\n",
      "  File \"/usr/lib/python2.7/multiprocessing/process.py\", line 114, in run\n",
      "  File \"/usr/lib/python2.7/multiprocessing/queues.py\", line 374, in get\n",
      "    racquire()\n",
      "    self._target(*self._args, **self._kwargs)\n",
      "    self._target(*self._args, **self._kwargs)\n",
      "  File \"/usr/lib/python2.7/multiprocessing/pool.py\", line 102, in worker\n",
      "    racquire()\n",
      "KeyboardInterrupt\n",
      "  File \"/usr/lib/python2.7/multiprocessing/queues.py\", line 376, in get\n",
      "  File \"/usr/lib/python2.7/multiprocessing/queues.py\", line 374, in get\n",
      "    task = get()\n",
      "  File \"/usr/lib/python2.7/multiprocessing/pool.py\", line 102, in worker\n",
      "KeyboardInterrupt\n",
      "    task = get()\n",
      "    return recv()\n",
      "KeyboardInterrupt\n",
      "  File \"/usr/lib/python2.7/multiprocessing/pool.py\", line 102, in worker\n",
      "    task = get()\n",
      "  File \"/usr/lib/python2.7/multiprocessing/queues.py\", line 374, in get\n",
      "    racquire()\n",
      "KeyboardInterrupt\n",
      "    racquire()\n",
      "  File \"/usr/lib/python2.7/multiprocessing/queues.py\", line 374, in get\n",
      "KeyboardInterrupt\n",
      "    racquire()\n",
      "KeyboardInterrupt\n"
     ]
    }
   ],
   "source": [
    "import numpy as np\n",
    "import matplotlib.pyplot as plt\n",
    "import pandas as pd\n",
    "%matplotlib inline\n",
    "\n",
    "import rtbm.layers as layers\n",
    "import rtbm.model as mdl\n",
    "\n",
    "import warnings\n",
    "warnings.filterwarnings('ignore')\n",
    "\n",
    "from rtbm.costfunctions import mse, crossentropy\n",
    "from rtbm import minimizer\n",
    "\n",
    "from sklearn.metrics import confusion_matrix, classification_report\n",
    "from sklearn.preprocessing import LabelBinarizer\n",
    "\n",
    "from scipy import signal\n",
    "\n",
    "RTBM_precision= 1e-5"
   ]
  },
  {
   "cell_type": "markdown",
   "metadata": {},
   "source": [
    "# Example 1: Sine-Mixture with gaussian noise"
   ]
  },
  {
   "cell_type": "code",
   "execution_count": null,
   "metadata": {},
   "outputs": [],
   "source": [
    "def func(x,n):\n",
    "    return 0.5*np.sin(1*x+0.1)+0.75*np.sin(0.25*x-0.3)+n*np.random.normal(0,0.2,x.shape[2])\n",
    "\n",
    "X = np.linspace(0, 100, 500)\n",
    "X = X.reshape((1,X.shape[0]))\n",
    "\n",
    "Y = func(X[:,None],1).reshape((1,X.shape[1]))"
   ]
  },
  {
   "cell_type": "code",
   "execution_count": null,
   "metadata": {},
   "outputs": [],
   "source": [
    "plt.plot(X.flatten(), Y.flatten(),\"ob-\")"
   ]
  },
  {
   "cell_type": "code",
   "execution_count": 32,
   "metadata": {},
   "outputs": [],
   "source": [
    "M = mdl.Model()\n",
    "M.add(layers.DiagExpectationUnitLayer(1,2,phase=1))\n",
    "M.add(layers.DiagExpectationUnitLayer(2,2,phase=1))\n",
    "M.add(layers.DiagExpectationUnitLayer(2,1,phase=1))"
   ]
  },
  {
   "cell_type": "code",
   "execution_count": 33,
   "metadata": {
    "scrolled": true
   },
   "outputs": [
    {
     "name": "stdout",
     "output_type": "stream",
     "text": [
      "CMA on 1 cpu(s) enabled\n",
      "(6_w,12)-aCMA-ES (mu_w=3.7,w_1=40%) in dimension 18 (seed=977493, Sun Nov  5 07:25:06 2017)\n",
      "Iterat #Fevals   function value  axis ratio  sigma  min&max std  t[m:s]\n",
      "    1     12 2.235907372719246e-01 1.0e+00 9.35e-01  9e-01  1e+00 0:00.0\n",
      "    2     24 2.180538922940893e-01 1.1e+00 9.22e-01  9e-01  9e-01 0:00.1\n",
      "    3     36 2.204682687841606e-01 1.1e+00 8.98e-01  9e-01  9e-01 0:00.2\n",
      "   41    492 2.123267402377624e-01 2.0e+00 5.83e-01  5e-01  7e-01 0:03.2\n",
      "   93   1116 2.080124931150461e-01 3.6e+00 3.96e-01  2e-01  5e-01 0:07.2\n",
      "  100   1200 2.088655170864556e-01 3.9e+00 3.76e-01  2e-01  4e-01 0:07.8\n",
      "  178   2136 2.016922074357054e-01 9.7e+00 1.13e-01  6e-02  1e-01 0:13.8\n",
      "  200   2400 1.983064017307101e-01 1.1e+01 1.25e-01  6e-02  1e-01 0:15.5\n",
      "  300   3600 1.812958074221261e-01 3.1e+01 1.76e-01  7e-02  3e-01 0:23.2\n",
      "  400   4800 1.063258459637979e-01 6.0e+01 3.17e-01  7e-02  5e-01 0:31.1\n",
      "  500   6000 8.867994505187682e-02 8.4e+01 8.08e-02  1e-02  1e-01 0:39.1\n",
      "  600   7200 8.495678960756801e-02 1.6e+02 3.28e-02  2e-03  7e-02 0:47.2\n",
      "  700   8400 8.172652506019415e-02 3.1e+02 3.79e-02  2e-03  9e-02 0:55.2\n",
      "  800   9600 7.968753901706394e-02 4.9e+02 3.35e-02  2e-03  7e-02 1:03.3\n",
      "  900  10800 7.915139443791884e-02 3.0e+02 3.01e-02  1e-03  4e-02 1:11.3\n",
      " 1000  12000 7.891775545508611e-02 3.4e+02 2.28e-02  4e-04  3e-02 1:19.3\n",
      "CMAEvolutionStrategyResult(xbest=array([-6.67716857, -1.53954557,  1.9705677 ,  0.28260688,  7.06976534,\n",
      "        6.51555369, -1.15418654,  1.73231656,  5.57931605, -1.47068231,\n",
      "       -4.35969792,  0.62894004,  8.75501704,  9.94628428, -0.97586643,\n",
      "       -2.28448243, -9.10498483,  2.31595426]), fbest=0.07302270192043904, evals_best=5319, evaluations=12000, iterations=1000, xfavorite=array([ -8.9329922 ,  -1.25994272,   2.48873648,   0.39576213,\n",
      "        11.2227957 ,  10.72558359,  -0.06213735,   1.3322811 ,\n",
      "         5.47300629,  -1.32251014, -10.59483722,   0.1993456 ,\n",
      "        13.65613456,   8.35956735,  -1.65814448,  -2.93176931,\n",
      "       -10.54352365,  18.4181727 ]), stds=array([0.02592748, 0.0177514 , 0.00251055, 0.00043455, 0.01204714,\n",
      "       0.01602728, 0.02383052, 0.00788974, 0.01078955, 0.00427559,\n",
      "       0.01735792, 0.01548687, 0.02068046, 0.01792178, 0.01069496,\n",
      "       0.00217821, 0.01256437, 0.01139178]))\n"
     ]
    },
    {
     "data": {
      "text/plain": [
       "array([-6.67716857, -1.53954557,  1.9705677 ,  0.28260688,  7.06976534,\n",
       "        6.51555369, -1.15418654,  1.73231656,  5.57931605, -1.47068231,\n",
       "       -4.35969792,  0.62894004,  8.75501704,  9.94628428, -0.97586643,\n",
       "       -2.28448243, -9.10498483,  2.31595426])"
      ]
     },
     "execution_count": 33,
     "metadata": {},
     "output_type": "execute_result"
    }
   ],
   "source": [
    "minim = minimizer.CMA(False)\n",
    "minim.train(mse(), M, X, Y, maxiter=1000)"
   ]
  },
  {
   "cell_type": "code",
   "execution_count": 34,
   "metadata": {},
   "outputs": [
    {
     "data": {
      "text/plain": [
       "<matplotlib.legend.Legend at 0x7fe4e0831a10>"
      ]
     },
     "execution_count": 34,
     "metadata": {},
     "output_type": "execute_result"
    },
    {
     "data": {
      "image/png": "[encoded data removed]",
      "text/plain": [
       "<matplotlib.figure.Figure at 0x7fe4e06cff50>"
      ]
     },
     "metadata": {},
     "output_type": "display_data"
    }
   ],
   "source": [
    "npoints = 500\n",
    "test_X = (np.linspace(0, 100, npoints)).reshape((1, npoints))\n",
    "\n",
    "plt.plot(X.flatten(), Y.flatten(),\"og-\", label='target')\n",
    "plt.plot(test_X.flatten(), np.real(M.predict(test_X)).flatten(),\"b-\", label='fit')\n",
    "plt.legend()"
   ]
  },
  {
   "cell_type": "code",
   "execution_count": 16,
   "metadata": {},
   "outputs": [
    {
     "data": {
      "text/plain": [
       "3"
      ]
     },
     "execution_count": 16,
     "metadata": {},
     "output_type": "execute_result"
    }
   ],
   "source": [
    "M.get_layer(1)._Nout"
   ]
  },
  {
   "cell_type": "code",
   "execution_count": 31,
   "metadata": {},
   "outputs": [
    {
     "data": {
      "image/png": "[encoded data removed]",
      "text/plain": [
       "<matplotlib.figure.Figure at 0x7fe4e0612690>"
      ]
     },
     "metadata": {},
     "output_type": "display_data"
    }
   ],
   "source": [
    "M.get_layer(1).show_activation(1,10)"
   ]
  },
  {
   "cell_type": "code",
   "execution_count": 36,
   "metadata": {},
   "outputs": [
    {
     "name": "stdout",
     "output_type": "stream",
     "text": [
      "Iteration 0 in 0.16(s), cost = 0.251126\n",
      "Iteration 100 in 16.41(s), cost = 0.238363\n",
      "Iteration 200 in 32.59(s), cost = 0.235810\n",
      "Iteration 300 in 48.76(s), cost = 0.233906\n",
      "Iteration 400 in 64.92(s), cost = 0.232027\n",
      "Iteration 500 in 81.09(s), cost = 0.230070\n",
      "Iteration 600 in 97.30(s), cost = 0.228004\n",
      "Iteration 700 in 113.67(s), cost = 0.225847\n",
      "Iteration 800 in 129.99(s), cost = 0.223673\n",
      "Iteration 900 in 146.23(s), cost = 0.221583\n",
      "Iteration 1000 in 162.50(s), cost = 0.219658\n",
      "Iteration 1100 in 178.72(s), cost = 0.224213\n",
      "Iteration 1200 in 194.91(s), cost = 0.224034\n",
      "Iteration 1300 in 211.13(s), cost = 0.223643\n",
      "Iteration 1400 in 227.31(s), cost = 0.223157\n",
      "Iteration 1500 in 243.55(s), cost = 0.222604\n",
      "Iteration 1600 in 259.77(s), cost = 0.222054\n",
      "Iteration 1700 in 275.97(s), cost = 0.221493\n",
      "Iteration 1800 in 292.19(s), cost = 0.220959\n",
      "Iteration 1900 in 308.35(s), cost = 0.220447\n",
      "Iteration 2000 in 324.58(s), cost = 0.221801\n",
      "Iteration 2100 in 340.85(s), cost = 0.224186\n",
      "Iteration 2200 in 357.08(s), cost = 0.224457\n",
      "Iteration 2300 in 373.26(s), cost = 0.204103\n",
      "Iteration 2400 in 389.44(s), cost = 0.210847\n",
      "Iteration 2500 in 405.67(s), cost = 0.200643\n",
      "Iteration 2600 in 421.85(s), cost = 0.219240\n",
      "Iteration 2700 in 438.04(s), cost = 0.212986\n",
      "Iteration 2800 in 454.17(s), cost = 0.198632\n",
      "Iteration 2900 in 470.34(s), cost = 0.204462\n",
      "Iteration 3000 in 486.80(s), cost = 0.198174\n",
      "Iteration 3100 in 502.97(s), cost = 0.197355\n",
      "Iteration 3200 in 519.32(s), cost = 0.211912\n",
      "Iteration 3300 in 535.89(s), cost = 0.196681\n",
      "Iteration 3400 in 552.22(s), cost = 0.197836\n",
      "Iteration 3500 in 568.32(s), cost = 0.194333\n",
      "Iteration 3600 in 584.59(s), cost = 0.192495\n",
      "Iteration 3700 in 600.76(s), cost = 0.191837\n",
      "Iteration 3800 in 616.81(s), cost = 0.196073\n",
      "Iteration 3900 in 632.97(s), cost = 0.197476\n",
      "Iteration 4000 in 649.76(s), cost = 0.192764\n",
      "Iteration 4100 in 666.59(s), cost = 0.219387\n",
      "Iteration 4200 in 683.19(s), cost = 0.199645\n",
      "Iteration 4300 in 699.23(s), cost = 0.199434\n",
      "Iteration 4400 in 715.24(s), cost = 0.187072\n",
      "Iteration 4500 in 731.55(s), cost = 0.188935\n",
      "Iteration 4600 in 747.58(s), cost = 0.191628\n",
      "Iteration 4700 in 763.64(s), cost = 0.220315\n",
      "Iteration 4800 in 779.70(s), cost = 0.206030\n",
      "Iteration 4900 in 795.78(s), cost = 0.204654\n",
      "Iteration 5000 in 811.86(s), cost = 0.191045\n",
      "Iteration 5100 in 827.79(s), cost = 0.196014\n",
      "Iteration 5200 in 843.86(s), cost = 0.183176\n",
      "Iteration 5300 in 859.77(s), cost = 0.202938\n",
      "Iteration 5400 in 875.70(s), cost = 0.203370\n",
      "Iteration 5500 in 891.72(s), cost = 0.199845\n",
      "Iteration 5600 in 907.60(s), cost = 0.178371\n",
      "Iteration 5700 in 923.66(s), cost = 0.192022\n",
      "Iteration 5800 in 939.67(s), cost = 0.182717\n",
      "Iteration 5900 in 955.59(s), cost = 0.190851\n",
      "Iteration 6000 in 971.55(s), cost = 0.180731\n",
      "Iteration 6100 in 987.49(s), cost = 0.189900\n",
      "Iteration 6200 in 1003.45(s), cost = 0.191142\n",
      "Iteration 6300 in 1019.50(s), cost = 0.201003\n",
      "Iteration 6400 in 1035.50(s), cost = 0.193747\n",
      "Iteration 6500 in 1051.48(s), cost = 0.210578\n",
      "Iteration 6600 in 1067.50(s), cost = 0.204362\n",
      "Iteration 6700 in 1083.42(s), cost = 0.177301\n",
      "Iteration 6800 in 1099.34(s), cost = 0.173882\n",
      "Iteration 6900 in 1115.21(s), cost = 0.190463\n",
      "Iteration 7000 in 1131.11(s), cost = 0.205568\n",
      "Iteration 7100 in 1147.01(s), cost = 0.170841\n",
      "Iteration 7200 in 1162.92(s), cost = 0.176131\n",
      "Iteration 7300 in 1178.87(s), cost = 0.184862\n",
      "Iteration 7400 in 1194.76(s), cost = 0.178250\n",
      "Iteration 7500 in 1210.67(s), cost = 0.174856\n",
      "Iteration 7600 in 1226.59(s), cost = 0.172844\n",
      "Iteration 7700 in 1242.55(s), cost = 0.173262\n",
      "Iteration 7800 in 1258.49(s), cost = 0.191279\n",
      "Iteration 7900 in 1274.43(s), cost = 0.205212\n",
      "Iteration 8000 in 1290.43(s), cost = 0.185110\n",
      "Iteration 8100 in 1306.30(s), cost = 0.171122\n",
      "Iteration 8200 in 1322.18(s), cost = 0.177377\n",
      "Iteration 8300 in 1338.07(s), cost = 0.196966\n",
      "Iteration 8400 in 1354.03(s), cost = 0.191796\n",
      "Iteration 8500 in 1369.95(s), cost = 0.163060\n",
      "Iteration 8600 in 1385.83(s), cost = 0.169615\n",
      "Iteration 8700 in 1401.71(s), cost = 0.227613\n",
      "Iteration 8800 in 1417.59(s), cost = 0.198263\n",
      "Iteration 8900 in 1433.49(s), cost = 0.164590\n",
      "Iteration 9000 in 1449.35(s), cost = 0.163546\n",
      "Iteration 9100 in 1465.24(s), cost = 0.163442\n",
      "Iteration 9200 in 1481.14(s), cost = 0.177525\n",
      "Iteration 9300 in 1497.04(s), cost = 0.161156\n",
      "Iteration 9400 in 1513.01(s), cost = 0.159481\n",
      "Iteration 9500 in 1528.91(s), cost = 0.222666\n",
      "Iteration 9600 in 1544.83(s), cost = 0.196605\n",
      "Iteration 9700 in 1561.15(s), cost = 0.230391\n",
      "Iteration 9800 in 1577.07(s), cost = 0.159073\n",
      "Iteration 9900 in 1593.21(s), cost = 0.169576\n",
      "('Cost: ', (0.15898516365397675+0j))\n",
      "('Sol: ', array([-0.04514702+0.j,  0.31393822+0.j,  0.63029571+0.j,  1.52400251+0.j,\n",
      "        4.54470663+0.j,  9.65259611+0.j,  1.26822781+0.j, -0.97313169+0.j,\n",
      "        1.09870297+0.j,  0.38785576+0.j,  0.69108423+0.j,  1.678528  +0.j,\n",
      "       12.51306005+0.j, 12.04889511+0.j, -5.28962943+0.j, -2.30578307+0.j,\n",
      "        5.53390161+0.j, 10.45273707+0.j]))\n",
      "Time: 1609 s\n"
     ]
    },
    {
     "data": {
      "text/plain": [
       "array([-0.04514702+0.j,  0.31393822+0.j,  0.63029571+0.j,  1.52400251+0.j,\n",
       "        4.54470663+0.j,  9.65259611+0.j,  1.26822781+0.j, -0.97313169+0.j,\n",
       "        1.09870297+0.j,  0.38785576+0.j,  0.69108423+0.j,  1.678528  +0.j,\n",
       "       12.51306005+0.j, 12.04889511+0.j, -5.28962943+0.j, -2.30578307+0.j,\n",
       "        5.53390161+0.j, 10.45273707+0.j])"
      ]
     },
     "execution_count": 36,
     "metadata": {},
     "output_type": "execute_result"
    }
   ],
   "source": [
    "M = mdl.Model()\n",
    "\n",
    "M.add(layers.DiagExpectationUnitLayer(1,2))\n",
    "M.add(layers.DiagExpectationUnitLayer(2,2))\n",
    "M.add(layers.DiagExpectationUnitLayer(2,1))\n",
    "\n",
    "minim = minimizer.SGD()\n",
    "minim.train(mse(), M, X, Y, lr=10, maxiter=10000, nesterov=True,momentum=0.1, batch_size=100)"
   ]
  },
  {
   "cell_type": "code",
   "execution_count": 37,
   "metadata": {},
   "outputs": [
    {
     "data": {
      "text/plain": [
       "<matplotlib.legend.Legend at 0x7fe4e0728990>"
      ]
     },
     "execution_count": 37,
     "metadata": {},
     "output_type": "execute_result"
    },
    {
     "data": {
      "image/png": "[encoded data removed]",
      "text/plain": [
       "<matplotlib.figure.Figure at 0x7fe4e0822bd0>"
      ]
     },
     "metadata": {},
     "output_type": "display_data"
    }
   ],
   "source": [
    "npoints = 500\n",
    "test_X = (np.linspace(0, 100, npoints)).reshape((1, npoints))\n",
    "\n",
    "plt.plot(X.flatten(), Y.flatten(),\"og-\", label='target')\n",
    "plt.plot(test_X.flatten(), np.real(M.predict(test_X)).flatten(),\"ob-\", label='fit')\n",
    "plt.legend()"
   ]
  },
  {
   "cell_type": "markdown",
   "metadata": {},
   "source": [
    "# Example 2: Sine-Cosine-Mixture with trend and gaussian noise"
   ]
  },
  {
   "cell_type": "code",
   "execution_count": null,
   "metadata": {},
   "outputs": [],
   "source": [
    "def func(x,n):\n",
    "    return 0.02*x+0.5*np.sin(1*x+0.1)+0.75*np.cos(0.25*x-0.3)+n*np.random.normal(0,0.2,x.shape[2])\n",
    "\n",
    "X = np.linspace(0, 100, 500)\n",
    "X = X.reshape((1,X.shape[0]))\n",
    "\n",
    "Y = func(X[:,None],1).reshape((1,X.shape[1]))"
   ]
  },
  {
   "cell_type": "code",
   "execution_count": null,
   "metadata": {},
   "outputs": [],
   "source": [
    "Y = func(X[:,None],0).reshape((1,X.shape[1]))\n",
    "\n",
    "plt.plot(X.flatten(), Y.flatten(),\"-\")\n",
    "plt.xlabel(\"t\")\n",
    "plt.ylabel(\"y\")\n",
    "plt.savefig(\"sincosmix.eps\", format=\"eps\")\n",
    "plt.show()\n"
   ]
  },
  {
   "cell_type": "code",
   "execution_count": null,
   "metadata": {},
   "outputs": [],
   "source": [
    "Y = func(X[:,None],1).reshape((1,X.shape[1]))\n",
    "\n",
    "plt.plot(X.flatten(), Y.flatten(),\"-\")\n",
    "plt.xlabel(\"t\")\n",
    "plt.ylabel(\"y\")\n",
    "plt.savefig(\"sincosmix_noise.eps\", format=\"eps\")\n",
    "\n",
    "plt.show()\n",
    "\n"
   ]
  },
  {
   "cell_type": "code",
   "execution_count": null,
   "metadata": {},
   "outputs": [],
   "source": [
    "M = mdl.Model()\n",
    "\n",
    "M.add(layers.DiagExpectationUnitLayer(1,3))\n",
    "M.add(layers.DiagExpectationUnitLayer(3,3))\n",
    "M.add(layers.DiagExpectationUnitLayer(3,2))\n",
    "M.add(layers.DiagExpectationUnitLayer(2,1))"
   ]
  },
  {
   "cell_type": "code",
   "execution_count": null,
   "metadata": {},
   "outputs": [],
   "source": [
    "minim = minimizer.CMA(parallel=True)\n",
    "minim.train(mse(), M, X, Y, tolfun=1e-4)"
   ]
  },
  {
   "cell_type": "code",
   "execution_count": null,
   "metadata": {},
   "outputs": [],
   "source": [
    "npoints = 500\n",
    "test_X = (np.linspace(0, 100, npoints)).reshape((1, npoints))\n",
    "\n",
    "plt.plot(X.flatten(), Y.flatten(),\"og\", label='train')\n",
    "plt.plot(test_X.flatten(), np.real(M.predict(test_X)).flatten(),\"b-\", label='fit', linewidth=5)\n",
    "plt.legend()\n",
    "plt.xlabel(\"t\")\n",
    "plt.ylabel(\"y\")\n",
    "plt.savefig(\"sincosmix_10-4.eps\", format=\"eps\")\n",
    "plt.show()"
   ]
  },
  {
   "cell_type": "markdown",
   "metadata": {},
   "source": [
    "# Example: Intrawave modulation"
   ]
  },
  {
   "cell_type": "code",
   "execution_count": null,
   "metadata": {},
   "outputs": [],
   "source": [
    "def func(x,n):\n",
    "    return np.cos(0.01*x+0.5*np.cos(0.05*x))/(2+np.sin(0.04*x))\n",
    "\n",
    "X = np.linspace(0, 1000, 1000)\n",
    "X = X.reshape((1,X.shape[0]))\n",
    "\n",
    "Y = func(X[:,None],1).reshape((1,X.shape[1]))\n",
    "\n",
    "plt.plot(X.flatten(), Y.flatten(),\"b-\")"
   ]
  },
  {
   "cell_type": "code",
   "execution_count": null,
   "metadata": {},
   "outputs": [],
   "source": [
    "M = mdl.Model()\n",
    "\n",
    "M.add(layers.DiagExpectationUnitLayer(1,5, phase=1j))\n",
    "M.add(layers.DiagExpectationUnitLayer(5,5, phase=1j))\n",
    "M.add(layers.DiagExpectationUnitLayer(5,3, phase=1j))\n",
    "M.add(layers.DiagExpectationUnitLayer(3,1, phase=1j))"
   ]
  },
  {
   "cell_type": "code",
   "execution_count": null,
   "metadata": {},
   "outputs": [],
   "source": [
    "minim = minimizer.CMA(False)\n",
    "minim.train(mse(), M, X, Y, maxiter=1000)"
   ]
  },
  {
   "cell_type": "code",
   "execution_count": null,
   "metadata": {},
   "outputs": [],
   "source": [
    "npoints = 1000\n",
    "test_X = (np.linspace(0, 1000, npoints)).reshape((1, npoints))\n",
    "\n",
    "plt.plot(X.flatten(), Y.flatten(),\"og\", label='train')\n",
    "plt.plot(test_X.flatten(), np.real(M.predict(test_X)).flatten(),\"b-\", label='fit', linewidth=5)\n",
    "plt.legend()\n",
    "plt.xlabel(\"t\")\n",
    "plt.ylabel(\"y\")"
   ]
  },
  {
   "cell_type": "markdown",
   "metadata": {},
   "source": [
    "# Example 3: Saw-tooth"
   ]
  },
  {
   "cell_type": "code",
   "execution_count": null,
   "metadata": {},
   "outputs": [],
   "source": [
    "def func(x,n):\n",
    "    return signal.sawtooth(x)\n",
    "\n",
    "X = np.linspace(0, 30, 500)\n",
    "X = X.reshape((1,X.shape[0]))\n",
    "\n",
    "Y = func(X[:,None],1).reshape((1,X.shape[1]))"
   ]
  },
  {
   "cell_type": "code",
   "execution_count": null,
   "metadata": {},
   "outputs": [],
   "source": [
    "plt.plot(X.flatten(), Y.flatten(),\"ob-\")"
   ]
  },
  {
   "cell_type": "code",
   "execution_count": null,
   "metadata": {},
   "outputs": [],
   "source": [
    "M = mdl.Model()\n",
    "\n",
    "M.add(layers.DiagExpectationUnitLayer(1,10, Wmax=0.5,Qmax=1,param_bound=10, phase=1j))\n",
    "M.add(layers.DiagExpectationUnitLayer(10,1, Wmax=0.5,Qmax=1,param_bound=10, phase=1j))\n",
    "\n",
    "minim = minimizer.CMA(parallel=False)\n",
    "minim.train(mse(), M, X, Y, maxiter=1000)"
   ]
  },
  {
   "cell_type": "code",
   "execution_count": null,
   "metadata": {},
   "outputs": [],
   "source": [
    "npoints = 500\n",
    "test_X = (np.linspace(0, 30, npoints)).reshape((1, npoints))\n",
    "\n",
    "plt.plot(X.flatten(), Y.flatten(),\"og-\", label='target')\n",
    "plt.plot(test_X.flatten(), np.real(M.predict(test_X)).flatten(),\"ob-\", label='fit')\n",
    "#plt.savefig(\"sawtooth_reg.eps\", format=\"eps\")\n",
    "plt.legend()"
   ]
  },
  {
   "cell_type": "code",
   "execution_count": null,
   "metadata": {},
   "outputs": [],
   "source": []
  },
  {
   "cell_type": "markdown",
   "metadata": {
    "collapsed": true
   },
   "source": [
    "# Example 3: MNIST (work in progress...)"
   ]
  },
  {
   "cell_type": "code",
   "execution_count": null,
   "metadata": {},
   "outputs": [],
   "source": [
    "# Load MNIST dataset\n",
    "MNIST_train = pd.read_csv('~/data/mnist_train.csv', delimiter=\",\",header=None).values\n",
    "MNIST_test  = pd.read_csv('~/data/mnist_test.csv', delimiter=\",\",header=None).values\n",
    "\n",
    "# Prepare data (normalized onto [0,1])\n",
    "Y_train = MNIST_train[0:10000,0]\n",
    "X_train = MNIST_train[0:10000,1:]/255.0\n",
    "\n",
    "Y_test = MNIST_test[:,0]\n",
    "X_test = MNIST_test[:,1:]/255.0"
   ]
  },
  {
   "cell_type": "code",
   "execution_count": null,
   "metadata": {},
   "outputs": [],
   "source": [
    "M = mdl.Model()\n",
    "#M.add(layers.Linear(784,1,paramBound=100))\n",
    "M.add(layers.DiagExpectationUnitLayer(784,1,Qmax=5,paramBound=5))\n",
    "#M.add(layers.DiagExpectationUnitLayer(784,10,Qmax=3,paramBound=5))\n",
    "#M.add(layers.DiagExpectationUnitLayer(25,10,Qmax=3,paramBound=5))\n",
    "#M.add(layers.DiagExpectationUnitLayer(10,1))\n",
    "#M.add(layers.SoftMaxLayer(10))\n",
    "#M.add(layers.MaxPosLayer(10,1))\n",
    "\n",
    "#enc = LabelBinarizer()\n",
    "#enc.fit(np.diag([1,1,1,1,1,1,1,1,1,1]))\n",
    "#enc.classes_ = [0, 1, 2, 3, 4, 5, 6, 7, 8, 9]\n",
    "#T=enc.transform(Y_train)\n"
   ]
  },
  {
   "cell_type": "code",
   "execution_count": null,
   "metadata": {
    "scrolled": true
   },
   "outputs": [],
   "source": [
    "minim = minimizer.CMA(True)\n",
    "\n",
    "sol=minim.train(mse(), M, np.transpose(X_train), np.transpose(Y_train), maxiter=1000)"
   ]
  },
  {
   "cell_type": "code",
   "execution_count": null,
   "metadata": {},
   "outputs": [],
   "source": [
    "#P=np.argmax(np.real(M.predict(np.transpose(X_train))),axis=0)\n",
    "P=np.abs(np.round(np.real(M.predict(np.transpose(X_train)))))\n",
    "\n",
    "\n",
    "print(classification_report(Y_train,P.T))\n",
    "print(confusion_matrix(Y_train, P.T))"
   ]
  },
  {
   "cell_type": "code",
   "execution_count": null,
   "metadata": {},
   "outputs": [],
   "source": [
    "#P=np.argmax(np.real(M.predict(np.transpose(X_test))),axis=0)\n",
    "P=np.abs(np.round(np.real(M.predict(np.transpose(X_test)))))\n",
    "\n",
    "\n",
    "print(classification_report(Y_test,P.T))\n",
    "print(confusion_matrix(Y_test, P.T))"
   ]
  },
  {
   "cell_type": "code",
   "execution_count": null,
   "metadata": {},
   "outputs": [],
   "source": []
  }
 ],
 "metadata": {
  "kernelspec": {
   "display_name": "Python 2",
   "language": "python",
   "name": "python2"
  },
  "language_info": {
   "codemirror_mode": {
    "name": "ipython",
    "version": 2
   },
   "file_extension": ".py",
   "mimetype": "text/x-python",
   "name": "python",
   "nbconvert_exporter": "python",
   "pygments_lexer": "ipython2",
   "version": "2.7.6"
  }
 },
 "nbformat": 4,
 "nbformat_minor": 2
}

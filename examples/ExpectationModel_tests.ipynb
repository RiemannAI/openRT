{
 "cells": [
  {
   "cell_type": "code",
   "execution_count": 1,
   "metadata": {},
   "outputs": [
    {
     "name": "stderr",
     "output_type": "stream",
     "text": [
      "Process PoolWorker-17:\n",
      "  File \"/usr/lib/python2.7/multiprocessing/process.py\", line 114, in run\n",
      "Process PoolWorker-19:\n",
      "Process PoolWorker-16:\n",
      "Process PoolWorker-29:\n",
      "Process PoolWorker-11:\n",
      "Process PoolWorker-14:\n",
      "Process PoolWorker-26:\n",
      "Process PoolWorker-10:\n",
      "Process PoolWorker-18:\n",
      "Process PoolWorker-1:\n",
      "Process PoolWorker-2:\n",
      "Process PoolWorker-32:\n",
      "Process PoolWorker-12:\n",
      "Process PoolWorker-20:\n",
      "Process PoolWorker-31:\n",
      "Process PoolWorker-6:\n",
      "Process PoolWorker-7:\n",
      "Process PoolWorker-8:\n",
      "Process PoolWorker-25:\n",
      "Process PoolWorker-9:\n",
      "Process PoolWorker-15:\n",
      "Process PoolWorker-13:\n",
      "Process PoolWorker-21:\n",
      "Traceback (most recent call last):\n",
      "Traceback (most recent call last):\n",
      "Traceback (most recent call last):\n",
      "Traceback (most recent call last):\n",
      "Process PoolWorker-24:\n",
      "Traceback (most recent call last):\n",
      "Process PoolWorker-27:\n",
      "Process PoolWorker-23:\n",
      "Traceback (most recent call last):\n",
      "Process PoolWorker-28:\n",
      "Traceback (most recent call last):\n",
      "Process PoolWorker-3:\n",
      "Process PoolWorker-22:\n",
      "Traceback (most recent call last):\n",
      "Traceback (most recent call last):\n",
      "Process PoolWorker-30:\n",
      "Traceback (most recent call last):\n",
      "Traceback (most recent call last):\n",
      "Traceback (most recent call last):\n",
      "Traceback (most recent call last):\n",
      "Traceback (most recent call last):\n",
      "Traceback (most recent call last):\n",
      "  File \"/usr/lib/python2.7/multiprocessing/process.py\", line 258, in _bootstrap\n",
      "Process PoolWorker-5:\n",
      "  File \"/usr/lib/python2.7/multiprocessing/process.py\", line 258, in _bootstrap\n",
      "  File \"/usr/lib/python2.7/multiprocessing/process.py\", line 258, in _bootstrap\n",
      "Traceback (most recent call last):\n",
      "Traceback (most recent call last):\n",
      "Traceback (most recent call last):\n",
      "Traceback (most recent call last):\n",
      "  File \"/usr/lib/python2.7/multiprocessing/process.py\", line 258, in _bootstrap\n",
      "Traceback (most recent call last):\n",
      "  File \"/usr/lib/python2.7/multiprocessing/process.py\", line 258, in _bootstrap\n",
      "Traceback (most recent call last):\n",
      "  File \"/usr/lib/python2.7/multiprocessing/process.py\", line 258, in _bootstrap\n",
      "  File \"/usr/lib/python2.7/multiprocessing/process.py\", line 258, in _bootstrap\n",
      "    self.run()\n",
      "Traceback (most recent call last):\n",
      "  File \"/usr/lib/python2.7/multiprocessing/process.py\", line 258, in _bootstrap\n",
      "  File \"/usr/lib/python2.7/multiprocessing/process.py\", line 258, in _bootstrap\n",
      "Traceback (most recent call last):\n",
      "  File \"/usr/lib/python2.7/multiprocessing/process.py\", line 258, in _bootstrap\n",
      "    self.run()\n",
      "Traceback (most recent call last):\n",
      "  File \"/usr/lib/python2.7/multiprocessing/process.py\", line 258, in _bootstrap\n",
      "Traceback (most recent call last):\n",
      "Process PoolWorker-4:\n",
      "Traceback (most recent call last):\n",
      "Traceback (most recent call last):\n",
      "  File \"/usr/lib/python2.7/multiprocessing/process.py\", line 258, in _bootstrap\n",
      "    self.run()\n",
      "    self.run()\n",
      "  File \"/usr/lib/python2.7/multiprocessing/process.py\", line 258, in _bootstrap\n",
      "  File \"/usr/lib/python2.7/multiprocessing/process.py\", line 258, in _bootstrap\n",
      "  File \"/usr/lib/python2.7/multiprocessing/process.py\", line 258, in _bootstrap\n",
      "  File \"/usr/lib/python2.7/multiprocessing/process.py\", line 258, in _bootstrap\n",
      "Traceback (most recent call last):\n",
      "Traceback (most recent call last):\n",
      "  File \"/usr/lib/python2.7/multiprocessing/process.py\", line 258, in _bootstrap\n",
      "Traceback (most recent call last):\n",
      "    self.run()\n",
      "    self.run()\n",
      "  File \"/usr/lib/python2.7/multiprocessing/process.py\", line 114, in run\n",
      "Traceback (most recent call last):\n",
      "  File \"/usr/lib/python2.7/multiprocessing/process.py\", line 258, in _bootstrap\n",
      "    self.run()\n",
      "  File \"/usr/lib/python2.7/multiprocessing/process.py\", line 258, in _bootstrap\n",
      "  File \"/usr/lib/python2.7/multiprocessing/process.py\", line 258, in _bootstrap\n",
      "    self.run()\n",
      "  File \"/usr/lib/python2.7/multiprocessing/process.py\", line 258, in _bootstrap\n",
      "Traceback (most recent call last):\n",
      "  File \"/usr/lib/python2.7/multiprocessing/process.py\", line 114, in run\n",
      "  File \"/usr/lib/python2.7/multiprocessing/process.py\", line 258, in _bootstrap\n",
      "  File \"/usr/lib/python2.7/multiprocessing/process.py\", line 258, in _bootstrap\n",
      "    self.run()\n",
      "    self.run()\n",
      "  File \"/usr/lib/python2.7/multiprocessing/process.py\", line 258, in _bootstrap\n",
      "  File \"/usr/lib/python2.7/multiprocessing/process.py\", line 258, in _bootstrap\n",
      "    self.run()\n",
      "    self.run()\n",
      "  File \"/usr/lib/python2.7/multiprocessing/process.py\", line 114, in run\n",
      "    self.run()\n",
      "  File \"/usr/lib/python2.7/multiprocessing/process.py\", line 114, in run\n",
      "  File \"/usr/lib/python2.7/multiprocessing/process.py\", line 258, in _bootstrap\n",
      "    self.run()\n",
      "  File \"/usr/lib/python2.7/multiprocessing/process.py\", line 258, in _bootstrap\n",
      "  File \"/usr/lib/python2.7/multiprocessing/process.py\", line 114, in run\n",
      "  File \"/usr/lib/python2.7/multiprocessing/process.py\", line 258, in _bootstrap\n",
      "    self._target(*self._args, **self._kwargs)\n",
      "    self.run()\n",
      "  File \"/usr/lib/python2.7/multiprocessing/process.py\", line 258, in _bootstrap\n",
      "    self.run()\n",
      "    self.run()\n",
      "  File \"/usr/lib/python2.7/multiprocessing/process.py\", line 258, in _bootstrap\n",
      "  File \"/usr/lib/python2.7/multiprocessing/process.py\", line 258, in _bootstrap\n",
      "  File \"/usr/lib/python2.7/multiprocessing/process.py\", line 114, in run\n",
      "  File \"/usr/lib/python2.7/multiprocessing/process.py\", line 114, in run\n",
      "    self.run()\n",
      "    self.run()\n",
      "    self._target(*self._args, **self._kwargs)\n",
      "    self.run()\n",
      "    self.run()\n",
      "    self.run()\n",
      "    self.run()\n",
      "    self.run()\n",
      "  File \"/usr/lib/python2.7/multiprocessing/process.py\", line 258, in _bootstrap\n",
      "  File \"/usr/lib/python2.7/multiprocessing/process.py\", line 114, in run\n",
      "  File \"/usr/lib/python2.7/multiprocessing/process.py\", line 114, in run\n",
      "    self._target(*self._args, **self._kwargs)\n",
      "    self.run()\n",
      "  File \"/usr/lib/python2.7/multiprocessing/process.py\", line 114, in run\n",
      "    self._target(*self._args, **self._kwargs)\n",
      "    self._target(*self._args, **self._kwargs)\n",
      "    self.run()\n",
      "  File \"/usr/lib/python2.7/multiprocessing/process.py\", line 114, in run\n",
      "  File \"/usr/lib/python2.7/multiprocessing/process.py\", line 114, in run\n",
      "    self.run()\n",
      "    self.run()\n",
      "    self._target(*self._args, **self._kwargs)\n",
      "  File \"/usr/lib/python2.7/multiprocessing/pool.py\", line 102, in worker\n",
      "    self.run()\n",
      "  File \"/usr/lib/python2.7/multiprocessing/process.py\", line 114, in run\n",
      "  File \"/usr/lib/python2.7/multiprocessing/process.py\", line 114, in run\n",
      "  File \"/usr/lib/python2.7/multiprocessing/process.py\", line 114, in run\n",
      "    self.run()\n",
      "    self._target(*self._args, **self._kwargs)\n",
      "    self._target(*self._args, **self._kwargs)\n",
      "  File \"/usr/lib/python2.7/multiprocessing/process.py\", line 114, in run\n",
      "    self.run()\n",
      "  File \"/usr/lib/python2.7/multiprocessing/pool.py\", line 102, in worker\n",
      "  File \"/usr/lib/python2.7/multiprocessing/process.py\", line 114, in run\n",
      "  File \"/usr/lib/python2.7/multiprocessing/process.py\", line 114, in run\n",
      "  File \"/usr/lib/python2.7/multiprocessing/process.py\", line 114, in run\n",
      "    self._target(*self._args, **self._kwargs)\n",
      "  File \"/usr/lib/python2.7/multiprocessing/process.py\", line 114, in run\n",
      "    self._target(*self._args, **self._kwargs)\n",
      "  File \"/usr/lib/python2.7/multiprocessing/pool.py\", line 102, in worker\n",
      "    self._target(*self._args, **self._kwargs)\n",
      "  File \"/usr/lib/python2.7/multiprocessing/process.py\", line 114, in run\n",
      "  File \"/usr/lib/python2.7/multiprocessing/pool.py\", line 102, in worker\n",
      "  File \"/usr/lib/python2.7/multiprocessing/pool.py\", line 102, in worker\n",
      "    self._target(*self._args, **self._kwargs)\n",
      "    self._target(*self._args, **self._kwargs)\n",
      "  File \"/usr/lib/python2.7/multiprocessing/process.py\", line 114, in run\n",
      "  File \"/usr/lib/python2.7/multiprocessing/process.py\", line 114, in run\n",
      "  File \"/usr/lib/python2.7/multiprocessing/process.py\", line 114, in run\n",
      "  File \"/usr/lib/python2.7/multiprocessing/process.py\", line 114, in run\n",
      "  File \"/usr/lib/python2.7/multiprocessing/process.py\", line 114, in run\n",
      "    task = get()\n",
      "    self._target(*self._args, **self._kwargs)\n",
      "    self._target(*self._args, **self._kwargs)\n",
      "  File \"/usr/lib/python2.7/multiprocessing/process.py\", line 114, in run\n",
      "    self.run()\n",
      "  File \"/usr/lib/python2.7/multiprocessing/pool.py\", line 102, in worker\n",
      "    self._target(*self._args, **self._kwargs)\n",
      "  File \"/usr/lib/python2.7/multiprocessing/pool.py\", line 102, in worker\n"
     ]
    },
    {
     "name": "stderr",
     "output_type": "stream",
     "text": [
      "  File \"/usr/lib/python2.7/multiprocessing/process.py\", line 114, in run\n",
      "    self._target(*self._args, **self._kwargs)\n",
      "  File \"/usr/lib/python2.7/multiprocessing/pool.py\", line 102, in worker\n",
      "  File \"/usr/lib/python2.7/multiprocessing/process.py\", line 114, in run\n",
      "  File \"/usr/lib/python2.7/multiprocessing/process.py\", line 114, in run\n",
      "    self._target(*self._args, **self._kwargs)\n",
      "    task = get()\n",
      "    self._target(*self._args, **self._kwargs)\n",
      "  File \"/usr/lib/python2.7/multiprocessing/pool.py\", line 102, in worker\n",
      "    self._target(*self._args, **self._kwargs)\n",
      "    self._target(*self._args, **self._kwargs)\n",
      "  File \"/usr/lib/python2.7/multiprocessing/pool.py\", line 102, in worker\n",
      "    task = get()\n",
      "  File \"/usr/lib/python2.7/multiprocessing/pool.py\", line 102, in worker\n",
      "    self._target(*self._args, **self._kwargs)\n",
      "    task = get()\n",
      "    task = get()\n",
      "  File \"/usr/lib/python2.7/multiprocessing/pool.py\", line 102, in worker\n",
      "  File \"/usr/lib/python2.7/multiprocessing/pool.py\", line 102, in worker\n",
      "    self._target(*self._args, **self._kwargs)\n",
      "    self._target(*self._args, **self._kwargs)\n",
      "    self._target(*self._args, **self._kwargs)\n",
      "    self._target(*self._args, **self._kwargs)\n",
      "    self._target(*self._args, **self._kwargs)\n",
      "  File \"/usr/lib/python2.7/multiprocessing/queues.py\", line 376, in get\n",
      "  File \"/usr/lib/python2.7/multiprocessing/pool.py\", line 102, in worker\n",
      "  File \"/usr/lib/python2.7/multiprocessing/pool.py\", line 102, in worker\n",
      "    self._target(*self._args, **self._kwargs)\n",
      "  File \"/usr/lib/python2.7/multiprocessing/process.py\", line 114, in run\n",
      "    task = get()\n",
      "    task = get()\n",
      "    self._target(*self._args, **self._kwargs)\n",
      "  File \"/usr/lib/python2.7/multiprocessing/pool.py\", line 102, in worker\n",
      "  File \"/usr/lib/python2.7/multiprocessing/pool.py\", line 102, in worker\n",
      "    self._target(*self._args, **self._kwargs)\n",
      "    task = get()\n",
      "    self._target(*self._args, **self._kwargs)\n",
      "  File \"/usr/lib/python2.7/multiprocessing/queues.py\", line 378, in get\n",
      "  File \"/usr/lib/python2.7/multiprocessing/pool.py\", line 102, in worker\n",
      "  File \"/usr/lib/python2.7/multiprocessing/pool.py\", line 102, in worker\n",
      "    task = get()\n",
      "  File \"/usr/lib/python2.7/multiprocessing/pool.py\", line 102, in worker\n",
      "  File \"/usr/lib/python2.7/multiprocessing/pool.py\", line 102, in worker\n",
      "    task = get()\n",
      "  File \"/usr/lib/python2.7/multiprocessing/queues.py\", line 376, in get\n",
      "  File \"/usr/lib/python2.7/multiprocessing/queues.py\", line 376, in get\n",
      "  File \"/usr/lib/python2.7/multiprocessing/pool.py\", line 102, in worker\n",
      "    task = get()\n",
      "  File \"/usr/lib/python2.7/multiprocessing/queues.py\", line 376, in get\n",
      "    task = get()\n",
      "  File \"/usr/lib/python2.7/multiprocessing/pool.py\", line 102, in worker\n",
      "    task = get()\n",
      "  File \"/usr/lib/python2.7/multiprocessing/pool.py\", line 102, in worker\n",
      "  File \"/usr/lib/python2.7/multiprocessing/pool.py\", line 102, in worker\n",
      "  File \"/usr/lib/python2.7/multiprocessing/pool.py\", line 102, in worker\n",
      "    racquire()\n",
      "  File \"/usr/lib/python2.7/multiprocessing/pool.py\", line 102, in worker\n",
      "    task = get()\n",
      "  File \"/usr/lib/python2.7/multiprocessing/pool.py\", line 102, in worker\n",
      "    self._target(*self._args, **self._kwargs)\n",
      "  File \"/usr/lib/python2.7/multiprocessing/queues.py\", line 376, in get\n",
      "    task = get()\n",
      "  File \"/usr/lib/python2.7/multiprocessing/queues.py\", line 376, in get\n",
      "  File \"/usr/lib/python2.7/multiprocessing/pool.py\", line 102, in worker\n",
      "    task = get()\n",
      "    task = get()\n",
      "  File \"/usr/lib/python2.7/multiprocessing/queues.py\", line 376, in get\n",
      "  File \"/usr/lib/python2.7/multiprocessing/pool.py\", line 102, in worker\n",
      "  File \"/usr/lib/python2.7/multiprocessing/pool.py\", line 102, in worker\n",
      "    return recv()\n",
      "    task = get()\n",
      "    task = get()\n",
      "  File \"/usr/lib/python2.7/multiprocessing/queues.py\", line 376, in get\n",
      "  File \"/usr/lib/python2.7/multiprocessing/queues.py\", line 376, in get\n",
      "    task = get()\n",
      "    task = get()\n",
      "    racquire()\n",
      "    racquire()\n",
      "    racquire()\n",
      "  File \"/usr/lib/python2.7/multiprocessing/queues.py\", line 376, in get\n",
      "    task = get()\n",
      "    task = get()\n",
      "    task = get()\n",
      "  File \"/usr/lib/python2.7/multiprocessing/queues.py\", line 376, in get\n",
      "    task = get()\n",
      "    task = get()\n",
      "  File \"/usr/lib/python2.7/multiprocessing/queues.py\", line 376, in get\n",
      "  File \"/usr/lib/python2.7/multiprocessing/pool.py\", line 102, in worker\n",
      "  File \"/usr/lib/python2.7/multiprocessing/queues.py\", line 376, in get\n",
      "KeyboardInterrupt\n",
      "    task = get()\n",
      "    racquire()\n",
      "    task = get()\n",
      "  File \"/usr/lib/python2.7/multiprocessing/queues.py\", line 376, in get\n",
      "    task = get()\n",
      "  File \"/usr/lib/python2.7/multiprocessing/queues.py\", line 376, in get\n",
      "  File \"/usr/lib/python2.7/multiprocessing/queues.py\", line 376, in get\n",
      "    racquire()\n",
      "  File \"/usr/lib/python2.7/multiprocessing/queues.py\", line 376, in get\n",
      "    racquire()\n",
      "    task = get()\n",
      "KeyboardInterrupt\n",
      "    task = get()\n",
      "  File \"/usr/lib/python2.7/multiprocessing/queues.py\", line 376, in get\n",
      "  File \"/usr/lib/python2.7/multiprocessing/queues.py\", line 376, in get\n",
      "    racquire()\n",
      "  File \"/usr/lib/python2.7/multiprocessing/queues.py\", line 376, in get\n",
      "KeyboardInterrupt\n",
      "    racquire()\n",
      "KeyboardInterrupt\n",
      "KeyboardInterrupt\n",
      "    racquire()\n",
      "  File \"/usr/lib/python2.7/multiprocessing/queues.py\", line 376, in get\n",
      "  File \"/usr/lib/python2.7/multiprocessing/queues.py\", line 376, in get\n",
      "  File \"/usr/lib/python2.7/multiprocessing/queues.py\", line 376, in get\n",
      "    racquire()\n",
      "    racquire()\n",
      "  File \"/usr/lib/python2.7/multiprocessing/queues.py\", line 376, in get\n",
      "    racquire()\n",
      "  File \"/usr/lib/python2.7/multiprocessing/queues.py\", line 376, in get\n",
      "KeyboardInterrupt\n",
      "    task = get()\n",
      "  File \"/usr/lib/python2.7/multiprocessing/queues.py\", line 376, in get\n",
      "  File \"/usr/lib/python2.7/multiprocessing/queues.py\", line 376, in get\n",
      "    racquire()\n",
      "  File \"/usr/lib/python2.7/multiprocessing/queues.py\", line 376, in get\n",
      "    racquire()\n",
      "    racquire()\n",
      "  File \"/usr/lib/python2.7/multiprocessing/queues.py\", line 376, in get\n",
      "KeyboardInterrupt\n",
      "  File \"/usr/lib/python2.7/multiprocessing/queues.py\", line 376, in get\n",
      "    racquire()\n",
      "KeyboardInterrupt\n",
      "    racquire()\n",
      "KeyboardInterrupt\n",
      "    racquire()\n",
      "    racquire()\n",
      "    racquire()\n",
      "KeyboardInterrupt\n",
      "    racquire()\n",
      "KeyboardInterrupt\n",
      "  File \"/usr/lib/python2.7/multiprocessing/queues.py\", line 376, in get\n",
      "    racquire()\n",
      "KeyboardInterrupt\n",
      "    racquire()\n",
      "    racquire()\n",
      "KeyboardInterrupt\n",
      "KeyboardInterrupt\n",
      "KeyboardInterrupt\n",
      "    racquire()\n",
      "KeyboardInterrupt\n",
      "KeyboardInterrupt\n",
      "KeyboardInterrupt\n",
      "KeyboardInterrupt\n",
      "KeyboardInterrupt\n",
      "    racquire()\n",
      "KeyboardInterrupt\n",
      "    racquire()\n",
      "    racquire()\n",
      "KeyboardInterrupt\n",
      "KeyboardInterrupt\n",
      "    racquire()\n",
      "KeyboardInterrupt\n",
      "KeyboardInterrupt\n",
      "KeyboardInterrupt\n",
      "KeyboardInterrupt\n",
      "    racquire()\n",
      "KeyboardInterrupt\n",
      "KeyboardInterrupt\n",
      "KeyboardInterrupt\n",
      "KeyboardInterrupt\n",
      "KeyboardInterrupt\n"
     ]
    }
   ],
   "source": [
    "import numpy as np\n",
    "import matplotlib.pyplot as plt\n",
    "import pandas as pd\n",
    "%matplotlib inline\n",
    "\n",
    "import rtbm.layers as layers\n",
    "import rtbm.model as mdl\n",
    "\n",
    "import warnings\n",
    "warnings.filterwarnings('ignore')\n",
    "\n",
    "from rtbm.costfunctions import mse, crossentropy\n",
    "from rtbm import minimizer\n",
    "\n",
    "from sklearn.metrics import confusion_matrix, classification_report\n",
    "from sklearn.preprocessing import LabelBinarizer\n",
    "\n",
    "from scipy import signal\n",
    "\n",
    "RTBM_precision= 1e-5"
   ]
  },
  {
   "cell_type": "markdown",
   "metadata": {},
   "source": [
    "# Example 1: Sine-Mixture with gaussian noise"
   ]
  },
  {
   "cell_type": "code",
   "execution_count": 2,
   "metadata": {},
   "outputs": [],
   "source": [
    "def func(x,n):\n",
    "    return 0.5*np.sin(1*x+0.1)+0.75*np.sin(0.25*x-0.3)+n*np.random.normal(0,0.2,x.shape[2])\n",
    "\n",
    "X = np.linspace(0, 100, 500)\n",
    "X = X.reshape((1,X.shape[0]))\n",
    "\n",
    "Y = func(X[:,None],1).reshape((1,X.shape[1]))"
   ]
  },
  {
   "cell_type": "code",
   "execution_count": 3,
   "metadata": {},
   "outputs": [
    {
     "data": {
      "text/plain": [
       "[<matplotlib.lines.Line2D at 0x7fbad1979990>]"
      ]
     },
     "execution_count": 3,
     "metadata": {},
     "output_type": "execute_result"
    },
    {
     "data": {
      "image/png": "[encoded data removed]",
      "text/plain": [
       "<matplotlib.figure.Figure at 0x7fbaf8141f10>"
      ]
     },
     "metadata": {},
     "output_type": "display_data"
    }
   ],
   "source": [
    "plt.plot(X.flatten(), Y.flatten(),\"ob-\")"
   ]
  },
  {
   "cell_type": "code",
   "execution_count": 4,
   "metadata": {},
   "outputs": [],
   "source": [
    "M = mdl.Model()\n",
    "M.add(layers.DiagExpectationUnitLayer(1,5,Wmax=0.5,Qmax=2.0,phase=1j))\n",
    "M.add(layers.DiagExpectationUnitLayer(5,3,Wmax=0.5,Qmax=2.0,phase=1j))\n",
    "M.add(layers.DiagExpectationUnitLayer(3,1,Wmax=0.5,Qmax=2.0,phase=1j))"
   ]
  },
  {
   "cell_type": "code",
   "execution_count": 67,
   "metadata": {
    "scrolled": true
   },
   "outputs": [
    {
     "name": "stdout",
     "output_type": "stream",
     "text": [
      "CMA on 1 cpu(s) enabled\n",
      "(7_w,14)-aCMA-ES (mu_w=4.3,w_1=36%) in dimension 29 (seed=915986, Sat Nov  4 23:03:27 2017)\n",
      "Iterat #Fevals   function value  axis ratio  sigma  min&max std  t[m:s]\n",
      "    1     14 2.198281274919393e-01 1.0e+00 9.39e-01  9e-01  9e-01 0:00.0\n",
      "    2     28 2.145477649977003e-01 1.1e+00 9.13e-01  9e-01  9e-01 0:00.3\n",
      "    3     42 2.171531430753271e-01 1.1e+00 8.94e-01  9e-01  9e-01 0:00.6\n",
      "   14    196 2.144203827335616e-01 1.3e+00 7.57e-01  7e-01  8e-01 0:03.6\n",
      "   28    392 2.160121168251148e-01 1.4e+00 6.05e-01  6e-01  6e-01 0:07.8\n",
      "   48    672 2.181702475971617e-01 1.5e+00 5.59e-01  5e-01  6e-01 0:12.8\n",
      "   72   1008 2.187753324562960e-01 1.8e+00 5.03e-01  5e-01  5e-01 0:19.0\n",
      "   97   1358 2.172267260459788e-01 2.1e+00 3.77e-01  3e-01  4e-01 0:26.0\n",
      "  100   1400 2.174089254214839e-01 2.1e+00 3.92e-01  4e-01  4e-01 0:26.9\n",
      "  131   1834 2.177085746096883e-01 2.3e+00 4.02e-01  3e-01  4e-01 0:36.0\n",
      "  171   2394 2.119718846597061e-01 2.4e+00 3.52e-01  3e-01  4e-01 0:46.1\n",
      "  200   2800 2.178472761064492e-01 2.5e+00 2.26e-01  2e-01  2e-01 0:53.5\n",
      "  248   3472 2.143024624599236e-01 2.8e+00 1.79e-01  1e-01  2e-01 1:05.8\n",
      "  299   4186 2.067395920815703e-01 3.1e+00 1.23e-01  8e-02  1e-01 1:18.8\n",
      "  300   4200 2.049045223429072e-01 3.1e+00 1.23e-01  8e-02  1e-01 1:19.1\n",
      "  360   5040 2.076535203547818e-01 3.4e+00 9.39e-02  5e-02  1e-01 1:34.2\n",
      "  400   5600 1.924561265175649e-01 4.0e+00 5.31e-02  2e-02  6e-02 1:44.2\n",
      "  468   6552 1.963818449213783e-01 6.7e+00 4.60e-02  1e-02  5e-02 2:01.4\n",
      "  500   7000 1.864618160749666e-01 9.0e+00 6.61e-02  1e-02  8e-02 2:09.6\n",
      "  575   8050 1.631337084198574e-01 1.6e+01 6.33e-02  8e-03  7e-02 2:28.8\n",
      "  600   8400 1.444881328588235e-01 2.4e+01 8.72e-02  9e-03  1e-01 2:35.2\n",
      "  683   9562 1.031448782082805e-01 5.0e+01 6.21e-02  3e-03  9e-02 2:56.3\n",
      "  700   9800 1.017032955384313e-01 5.3e+01 4.91e-02  2e-03  7e-02 3:00.7\n",
      "  792  11088 6.578397057246592e-02 9.9e+01 6.42e-02  2e-03  9e-02 3:23.9\n",
      "  800  11200 6.174128463201969e-02 1.0e+02 7.86e-02  2e-03  1e-01 3:25.9\n",
      "  899  12586 4.403438252954091e-02 2.1e+02 3.70e-02  6e-04  5e-02 3:51.0\n",
      "  900  12600 4.473887389539833e-02 2.1e+02 3.72e-02  6e-04  5e-02 3:51.3\n",
      " 1000  14000 4.224532598863797e-02 3.1e+02 1.22e-02  1e-04  2e-02 4:16.6\n",
      "Iterat #Fevals   function value  axis ratio  sigma  min&max std  t[m:s]\n",
      " 1100  15400 4.107386174822615e-02 5.8e+02 3.08e-02  3e-04  6e-02 4:41.6\n",
      " 1200  16800 4.022128328398534e-02 7.9e+02 1.25e-02  9e-05  2e-02 5:06.7\n",
      " 1300  18200 3.942670146376085e-02 1.7e+03 1.93e-02  1e-04  5e-02 5:31.8\n",
      " 1400  19600 3.785971105569436e-02 3.7e+03 4.82e-02  2e-04  2e-01 5:57.1\n",
      " 1500  21000 3.328771987549970e-02 2.7e+03 7.43e-02  3e-04  2e-01 6:23.3\n",
      " 1600  22400 2.857225396765313e-02 2.1e+03 3.44e-02  1e-04  7e-02 6:50.3\n",
      " 1700  23800 2.757737736657571e-02 2.3e+03 2.83e-02  9e-05  6e-02 7:17.0\n",
      " 1800  25200 2.698227307147466e-02 2.7e+03 2.22e-02  6e-05  5e-02 7:44.0\n",
      " 1900  26600 2.672044172612448e-02 3.6e+03 1.88e-02  4e-05  5e-02 8:10.9\n",
      " 2000  28000 2.665395759421261e-02 4.5e+03 1.55e-02  3e-05  4e-02 8:38.0\n",
      "CMAEvolutionStrategyResult(xbest=array([ 3.25569965e+00,  9.99943863e+00,  6.10970753e-01, -4.67112301e+00,\n",
      "       -7.17027342e-01, -2.50018672e-01,  9.98151593e+00,  8.45491967e+00,\n",
      "        9.07220168e-01, -3.21918810e+00, -5.68443968e+00, -5.82684588e+00,\n",
      "        8.81126369e+00,  9.39424726e+00,  9.88636645e+00, -4.77537498e+00,\n",
      "        1.24425460e+00,  9.22283398e-01, -6.37562430e-01, -3.65849970e+00,\n",
      "        1.08677645e+00,  9.99273718e+00,  9.09504942e+00,  6.27307631e+00,\n",
      "       -3.04049743e-03,  9.79006627e+00,  6.09767102e+00,  1.20832600e+00,\n",
      "        3.03039186e-01]), fbest=0.026653051205104999, evals_best=27978, evaluations=28000, iterations=2000, xfavorite=array([ 3.26331295e+00,  1.05834983e+01,  6.12760682e-01, -4.67128542e+00,\n",
      "       -7.16694380e-01, -2.50052031e-01,  1.07484575e+01,  1.26645000e+01,\n",
      "        9.07635159e-01, -3.22175582e+00, -5.68229280e+00, -5.82742952e+00,\n",
      "        1.22851577e+01,  9.41046686e+00,  1.00753325e+01, -4.78502088e+00,\n",
      "        1.25580594e+00,  9.24081861e-01, -6.32281494e-01, -1.74433577e+01,\n",
      "        1.09065433e+00,  1.06817280e+01,  9.10347807e+00, -6.36417029e+00,\n",
      "       -3.20059516e-03,  1.12449366e+01,  6.09306457e+00,  1.20060823e+00,\n",
      "        3.01041151e-01]), stds=array([3.19407643e-02, 1.72294310e-02, 1.57650539e-03, 8.20598461e-04,\n",
      "       4.71595042e-04, 2.65312063e-05, 4.12906352e-02, 2.46191207e-02,\n",
      "       4.49031739e-03, 1.15920458e-02, 5.18647752e-03, 6.53645195e-03,\n",
      "       1.96182676e-02, 2.28211350e-02, 1.77977356e-02, 1.76215640e-02,\n",
      "       2.02337912e-02, 4.01628302e-02, 8.26169889e-03, 1.91754690e-02,\n",
      "       6.77062609e-03, 1.34362403e-02, 1.08587072e-02, 2.34873916e-02,\n",
      "       1.03977470e-03, 2.25980880e-02, 1.80190205e-02, 1.45527907e-02,\n",
      "       1.57301493e-03]))\n"
     ]
    },
    {
     "data": {
      "text/plain": [
       "array([ 3.25569965e+00,  9.99943863e+00,  6.10970753e-01, -4.67112301e+00,\n",
       "       -7.17027342e-01, -2.50018672e-01,  9.98151593e+00,  8.45491967e+00,\n",
       "        9.07220168e-01, -3.21918810e+00, -5.68443968e+00, -5.82684588e+00,\n",
       "        8.81126369e+00,  9.39424726e+00,  9.88636645e+00, -4.77537498e+00,\n",
       "        1.24425460e+00,  9.22283398e-01, -6.37562430e-01, -3.65849970e+00,\n",
       "        1.08677645e+00,  9.99273718e+00,  9.09504942e+00,  6.27307631e+00,\n",
       "       -3.04049743e-03,  9.79006627e+00,  6.09767102e+00,  1.20832600e+00,\n",
       "        3.03039186e-01])"
      ]
     },
     "execution_count": 67,
     "metadata": {},
     "output_type": "execute_result"
    }
   ],
   "source": [
    "minim = minimizer.CMA(parallel=False)\n",
    "minim.train(mse(), M, X, Y, maxiter=2000)"
   ]
  },
  {
   "cell_type": "code",
   "execution_count": 95,
   "metadata": {},
   "outputs": [
    {
     "data": {
      "text/plain": [
       "<matplotlib.legend.Legend at 0x7f178fafc250>"
      ]
     },
     "execution_count": 95,
     "metadata": {},
     "output_type": "execute_result"
    },
    {
     "data": {
      "image/png": "[encoded data removed]",
      "text/plain": [
       "<matplotlib.figure.Figure at 0x7f178d0dc290>"
      ]
     },
     "metadata": {},
     "output_type": "display_data"
    }
   ],
   "source": [
    "npoints = 500\n",
    "test_X = (np.linspace(0, 100, npoints)).reshape((1, npoints))\n",
    "\n",
    "plt.plot(X.flatten(), Y.flatten(),\"og-\", label='target')\n",
    "plt.plot(test_X.flatten(), np.real(M.predict(test_X)).flatten(),\"b-\", label='fit')\n",
    "plt.legend()"
   ]
  },
  {
   "cell_type": "code",
   "execution_count": 89,
   "metadata": {},
   "outputs": [
    {
     "data": {
      "text/plain": [
       "5"
      ]
     },
     "execution_count": 89,
     "metadata": {},
     "output_type": "execute_result"
    }
   ],
   "source": [
    "M.get_layer(1)._Nout"
   ]
  },
  {
   "cell_type": "code",
   "execution_count": 92,
   "metadata": {},
   "outputs": [
    {
     "data": {
      "image/png": "[encoded data removed]",
      "text/plain": [
       "<matplotlib.figure.Figure at 0x7f178d3cf750>"
      ]
     },
     "metadata": {},
     "output_type": "display_data"
    }
   ],
   "source": [
    "M.get_layer(1).show_activation(5,10)"
   ]
  },
  {
   "cell_type": "code",
   "execution_count": null,
   "metadata": {},
   "outputs": [
    {
     "name": "stdout",
     "output_type": "stream",
     "text": [
      "Iteration 0 in 0.55(s), cost = 0.235159\n"
     ]
    }
   ],
   "source": [
    "M = mdl.Model()\n",
    "\n",
    "M.add(layers.DiagExpectationUnitLayer(1,3))\n",
    "M.add(layers.DiagExpectationUnitLayer(3,3))\n",
    "M.add(layers.DiagExpectationUnitLayer(3,1))\n",
    "\n",
    "minim = minimizer.SGD()\n",
    "minim.train(mse(), M, X, Y, maxiter=300, batch_size=100)"
   ]
  },
  {
   "cell_type": "code",
   "execution_count": null,
   "metadata": {},
   "outputs": [],
   "source": [
    "npoints = 500\n",
    "test_X = (np.linspace(0, 100, npoints)).reshape((1, npoints))\n",
    "\n",
    "plt.plot(X.flatten(), Y.flatten(),\"og-\", label='target')\n",
    "plt.plot(test_X.flatten(), np.real(M.predict(test_X)).flatten(),\"ob-\", label='fit')\n",
    "plt.legend()"
   ]
  },
  {
   "cell_type": "markdown",
   "metadata": {},
   "source": [
    "# Example 2: Sine-Cosine-Mixture with trend and gaussian noise"
   ]
  },
  {
   "cell_type": "code",
   "execution_count": null,
   "metadata": {},
   "outputs": [],
   "source": [
    "def func(x,n):\n",
    "    return 0.02*x+0.5*np.sin(1*x+0.1)+0.75*np.cos(0.25*x-0.3)+n*np.random.normal(0,0.2,x.shape[2])\n",
    "\n",
    "X = np.linspace(0, 100, 500)\n",
    "X = X.reshape((1,X.shape[0]))\n",
    "\n",
    "Y = func(X[:,None],1).reshape((1,X.shape[1]))"
   ]
  },
  {
   "cell_type": "code",
   "execution_count": null,
   "metadata": {},
   "outputs": [],
   "source": [
    "Y = func(X[:,None],0).reshape((1,X.shape[1]))\n",
    "\n",
    "plt.plot(X.flatten(), Y.flatten(),\"-\")\n",
    "plt.xlabel(\"t\")\n",
    "plt.ylabel(\"y\")\n",
    "plt.savefig(\"sincosmix.eps\", format=\"eps\")\n",
    "plt.show()\n"
   ]
  },
  {
   "cell_type": "code",
   "execution_count": null,
   "metadata": {},
   "outputs": [],
   "source": [
    "Y = func(X[:,None],1).reshape((1,X.shape[1]))\n",
    "\n",
    "plt.plot(X.flatten(), Y.flatten(),\"-\")\n",
    "plt.xlabel(\"t\")\n",
    "plt.ylabel(\"y\")\n",
    "plt.savefig(\"sincosmix_noise.eps\", format=\"eps\")\n",
    "\n",
    "plt.show()\n",
    "\n"
   ]
  },
  {
   "cell_type": "code",
   "execution_count": null,
   "metadata": {},
   "outputs": [],
   "source": [
    "M = mdl.Model()\n",
    "\n",
    "M.add(layers.DiagExpectationUnitLayer(1,3))\n",
    "M.add(layers.DiagExpectationUnitLayer(3,3))\n",
    "M.add(layers.DiagExpectationUnitLayer(3,2))\n",
    "M.add(layers.DiagExpectationUnitLayer(2,1))"
   ]
  },
  {
   "cell_type": "code",
   "execution_count": null,
   "metadata": {},
   "outputs": [],
   "source": [
    "minim = minimizer.CMA(parallel=True)\n",
    "minim.train(mse(), M, X, Y, tolfun=1e-4)"
   ]
  },
  {
   "cell_type": "code",
   "execution_count": null,
   "metadata": {},
   "outputs": [],
   "source": [
    "npoints = 500\n",
    "test_X = (np.linspace(0, 100, npoints)).reshape((1, npoints))\n",
    "\n",
    "plt.plot(X.flatten(), Y.flatten(),\"og\", label='train')\n",
    "plt.plot(test_X.flatten(), np.real(M.predict(test_X)).flatten(),\"b-\", label='fit', linewidth=5)\n",
    "plt.legend()\n",
    "plt.xlabel(\"t\")\n",
    "plt.ylabel(\"y\")\n",
    "plt.savefig(\"sincosmix_10-4.eps\", format=\"eps\")\n",
    "plt.show()"
   ]
  },
  {
   "cell_type": "markdown",
   "metadata": {},
   "source": [
    "# Example: Intrawave modulation"
   ]
  },
  {
   "cell_type": "code",
   "execution_count": 108,
   "metadata": {},
   "outputs": [
    {
     "data": {
      "text/plain": [
       "[<matplotlib.lines.Line2D at 0x7f171afb69d0>]"
      ]
     },
     "execution_count": 108,
     "metadata": {},
     "output_type": "execute_result"
    },
    {
     "data": {
      "image/png": "[encoded data removed]",
      "text/plain": [
       "<matplotlib.figure.Figure at 0x7f17861192d0>"
      ]
     },
     "metadata": {},
     "output_type": "display_data"
    }
   ],
   "source": [
    "def func(x,n):\n",
    "    return np.cos(0.01*x+0.5*np.cos(0.05*x))/(2+np.sin(0.04*x))\n",
    "\n",
    "X = np.linspace(0, 1000, 1000)\n",
    "X = X.reshape((1,X.shape[0]))\n",
    "\n",
    "Y = func(X[:,None],1).reshape((1,X.shape[1]))\n",
    "\n",
    "plt.plot(X.flatten(), Y.flatten(),\"b-\")"
   ]
  },
  {
   "cell_type": "code",
   "execution_count": 109,
   "metadata": {},
   "outputs": [],
   "source": [
    "M = mdl.Model()\n",
    "\n",
    "M.add(layers.DiagExpectationUnitLayer(1,5, phase=1j))\n",
    "M.add(layers.DiagExpectationUnitLayer(5,5, phase=1j))\n",
    "M.add(layers.DiagExpectationUnitLayer(5,3, phase=1j))\n",
    "M.add(layers.DiagExpectationUnitLayer(3,1, phase=1j))"
   ]
  },
  {
   "cell_type": "code",
   "execution_count": null,
   "metadata": {},
   "outputs": [
    {
     "name": "stdout",
     "output_type": "stream",
     "text": [
      "CMA on 1 cpu(s) enabled\n",
      "(8_w,16)-aCMA-ES (mu_w=4.8,w_1=32%) in dimension 76 (seed=957952, Sat Nov  4 23:32:05 2017)\n",
      "Iterat #Fevals   function value  axis ratio  sigma  min&max std  t[m:s]\n",
      "    1     16 9.373115740169784e-02 1.0e+00 9.55e-01  1e+00  1e+00 0:00.1\n",
      "    2     32 9.479861055124332e-02 1.0e+00 9.26e-01  9e-01  9e-01 0:00.8\n",
      "    3     48 9.367815092046572e-02 1.0e+00 9.01e-01  9e-01  9e-01 0:01.8\n",
      "    8    128 9.369062248322947e-02 1.1e+00 8.65e-01  9e-01  9e-01 0:05.3\n",
      "   14    224 9.375561359203556e-02 1.1e+00 8.66e-01  9e-01  9e-01 0:09.9\n",
      "   21    336 9.366935354780347e-02 1.2e+00 8.54e-01  8e-01  9e-01 0:15.0\n",
      "   29    464 9.367806370849792e-02 1.2e+00 8.80e-01  9e-01  9e-01 0:21.5\n",
      "   39    624 9.367797880697916e-02 1.3e+00 8.43e-01  8e-01  9e-01 0:29.1\n",
      "   52    832 9.367853323511124e-02 1.4e+00 7.83e-01  7e-01  8e-01 0:37.7\n",
      "   66   1056 9.367913122154836e-02 1.4e+00 8.25e-01  8e-01  9e-01 0:47.2\n",
      "   80   1280 9.367408413340141e-02 1.4e+00 9.01e-01  8e-01  9e-01 0:58.2\n",
      "   94   1504 9.359579514970544e-02 1.5e+00 8.72e-01  8e-01  9e-01 1:09.8\n",
      "  100   1600 9.370051425437254e-02 1.5e+00 8.72e-01  8e-01  9e-01 1:15.3\n",
      "  112   1792 9.367197419229421e-02 1.5e+00 9.36e-01  8e-01  1e+00 1:29.1\n",
      "  128   2048 9.364507402957151e-02 1.6e+00 9.16e-01  8e-01  1e+00 1:44.4\n",
      "  147   2352 9.365786846855727e-02 1.7e+00 9.02e-01  8e-01  9e-01 1:59.7\n",
      "  170   2720 9.366146924746499e-02 1.8e+00 9.45e-01  8e-01  1e+00 2:16.2\n",
      "  193   3088 9.366237248640258e-02 1.8e+00 9.37e-01  8e-01  1e+00 2:33.7\n",
      "  200   3200 9.368202304802156e-02 1.8e+00 9.44e-01  8e-01  1e+00 2:38.9\n",
      "  225   3600 9.367533688269659e-02 1.9e+00 8.07e-01  6e-01  9e-01 2:58.2\n",
      "  252   4032 9.371494884006670e-02 1.9e+00 8.29e-01  6e-01  9e-01 3:18.7\n",
      "  283   4528 9.366446823436089e-02 2.1e+00 8.82e-01  7e-01  1e+00 3:40.2\n",
      "  300   4800 9.366125630988074e-02 2.1e+00 8.90e-01  7e-01  1e+00 3:51.9\n",
      "  333   5328 9.370286512330296e-02 2.2e+00 9.27e-01  7e-01  1e+00 4:15.5\n",
      "  363   5808 9.365100211765980e-02 2.3e+00 8.68e-01  6e-01  9e-01 4:39.9\n",
      "  395   6320 9.364109335235944e-02 2.4e+00 7.73e-01  5e-01  8e-01 5:05.6\n",
      "  400   6400 9.344475500358737e-02 2.4e+00 7.95e-01  5e-01  9e-01 5:10.0\n",
      "  431   6896 9.327915949740236e-02 2.5e+00 8.79e-01  6e-01  1e+00 5:37.2\n",
      "  464   7424 9.366445136773043e-02 2.6e+00 7.97e-01  5e-01  9e-01 6:05.8\n",
      "  500   8000 9.353684204353653e-02 2.7e+00 8.04e-01  5e-01  9e-01 6:35.3\n"
     ]
    }
   ],
   "source": [
    "minim = minimizer.CMA(False)\n",
    "minim.train(mse(), M, X, Y, maxiter=1000)"
   ]
  },
  {
   "cell_type": "code",
   "execution_count": null,
   "metadata": {},
   "outputs": [],
   "source": [
    "npoints = 1000\n",
    "test_X = (np.linspace(0, 1000, npoints)).reshape((1, npoints))\n",
    "\n",
    "plt.plot(X.flatten(), Y.flatten(),\"og\", label='train')\n",
    "plt.plot(test_X.flatten(), np.real(M.predict(test_X)).flatten(),\"b-\", label='fit', linewidth=5)\n",
    "plt.legend()\n",
    "plt.xlabel(\"t\")\n",
    "plt.ylabel(\"y\")"
   ]
  },
  {
   "cell_type": "markdown",
   "metadata": {},
   "source": [
    "# Example 3: Saw-tooth"
   ]
  },
  {
   "cell_type": "code",
   "execution_count": 96,
   "metadata": {},
   "outputs": [],
   "source": [
    "def func(x,n):\n",
    "    return signal.sawtooth(x)\n",
    "\n",
    "X = np.linspace(0, 30, 500)\n",
    "X = X.reshape((1,X.shape[0]))\n",
    "\n",
    "Y = func(X[:,None],1).reshape((1,X.shape[1]))"
   ]
  },
  {
   "cell_type": "code",
   "execution_count": 97,
   "metadata": {},
   "outputs": [
    {
     "data": {
      "text/plain": [
       "[<matplotlib.lines.Line2D at 0x7f178d3a7ed0>]"
      ]
     },
     "execution_count": 97,
     "metadata": {},
     "output_type": "execute_result"
    },
    {
     "data": {
      "image/png": "[encoded data removed]",
      "text/plain": [
       "<matplotlib.figure.Figure at 0x7f178d1fae10>"
      ]
     },
     "metadata": {},
     "output_type": "display_data"
    }
   ],
   "source": [
    "plt.plot(X.flatten(), Y.flatten(),\"ob-\")"
   ]
  },
  {
   "cell_type": "code",
   "execution_count": 106,
   "metadata": {},
   "outputs": [
    {
     "name": "stdout",
     "output_type": "stream",
     "text": [
      "CMA on 1 cpu(s) enabled\n",
      "(7_w,15)-aCMA-ES (mu_w=4.5,w_1=34%) in dimension 42 (seed=969212, Sat Nov  4 23:21:25 2017)\n",
      "Iterat #Fevals   function value  axis ratio  sigma  min&max std  t[m:s]\n",
      "    1     15 3.416446399113628e-01 1.0e+00 9.38e-01  9e-01  9e-01 0:00.1\n",
      "    2     30 2.184729745749791e-01 1.0e+00 9.09e-01  9e-01  9e-01 0:01.3\n",
      "    3     45 1.664749287634297e-01 1.1e+00 9.15e-01  9e-01  9e-01 0:02.7\n",
      "    7    105 1.583845044891005e-01 1.1e+00 1.03e+00  1e+00  1e+00 0:06.4\n",
      "   13    195 1.594330241582100e-01 1.2e+00 1.13e+00  1e+00  1e+00 0:11.4\n",
      "   21    315 1.596915543762763e-01 1.3e+00 1.09e+00  1e+00  1e+00 0:16.4\n",
      "   32    480 1.599541378274204e-01 1.4e+00 1.01e+00  1e+00  1e+00 0:23.2\n",
      "   45    675 1.599795497631722e-01 1.5e+00 9.28e-01  9e-01  1e+00 0:30.5\n",
      "   58    870 1.602292132445989e-01 1.6e+00 8.18e-01  8e-01  9e-01 0:38.5\n",
      "   77   1155 1.584288265788467e-01 1.6e+00 8.40e-01  8e-01  9e-01 0:47.9\n",
      "  100   1500 1.585799335745325e-01 1.7e+00 1.10e+00  1e+00  1e+00 0:57.9\n",
      "  125   1875 1.592782837480713e-01 1.9e+00 1.12e+00  1e+00  1e+00 1:09.3\n",
      "  152   2280 1.594481761033037e-01 1.9e+00 1.21e+00  1e+00  1e+00 1:21.6\n",
      "  185   2775 1.410407811081050e-01 2.0e+00 9.43e-01  8e-01  1e+00 1:34.9\n",
      "  200   3000 1.569313546937663e-01 2.0e+00 8.67e-01  8e-01  9e-01 1:40.9\n",
      "  238   3570 1.578650399654626e-01 2.1e+00 6.28e-01  6e-01  7e-01 1:55.9\n",
      "  278   4170 1.575086502830688e-01 2.2e+00 5.76e-01  5e-01  6e-01 2:12.0\n",
      "  300   4500 1.547753912241694e-01 2.3e+00 4.56e-01  4e-01  5e-01 2:20.8\n",
      "  345   5175 1.440077111844991e-01 2.3e+00 4.29e-01  4e-01  5e-01 2:39.0\n",
      "  393   5895 1.591862085219038e-01 2.4e+00 3.49e-01  3e-01  4e-01 2:58.1\n",
      "  400   6000 1.520102095943743e-01 2.4e+00 3.71e-01  3e-01  4e-01 3:00.9\n",
      "  452   6780 1.452160793699811e-01 2.5e+00 4.52e-01  4e-01  5e-01 3:21.9\n",
      "  500   7500 1.461629401971405e-01 2.7e+00 3.64e-01  3e-01  4e-01 3:41.0\n",
      "  558   8370 1.541738833889813e-01 2.9e+00 2.61e-01  2e-01  3e-01 4:04.2\n",
      "  600   9000 1.259824841208878e-01 3.1e+00 2.36e-01  1e-01  3e-01 4:20.9\n",
      "  662   9930 9.801514488974229e-02 3.9e+00 2.83e-01  1e-01  3e-01 4:45.9\n",
      "  700  10500 6.222922331782249e-02 4.5e+00 2.49e-01  1e-01  3e-01 5:01.5\n",
      "  768  11520 6.299732727533804e-02 6.2e+00 2.66e-01  9e-02  3e-01 5:28.7\n",
      "  800  12000 6.152716665960989e-02 7.0e+00 2.55e-01  7e-02  3e-01 5:41.6\n",
      "  873  13095 7.497916413218809e-02 1.0e+01 4.02e-01  9e-02  5e-01 6:10.7\n",
      "  900  13500 7.626793050728782e-02 1.1e+01 3.09e-01  6e-02  4e-01 6:21.5\n",
      "  979  14685 5.343368579640466e-02 1.6e+01 2.92e-01  4e-02  4e-01 6:52.8\n",
      " 1000  15000 5.782362899160600e-02 1.8e+01 3.05e-01  4e-02  4e-01 7:01.6\n",
      "CMAEvolutionStrategyResult(xbest=array([-9.79927155, -8.8572008 ,  9.78484977,  9.11382857,  0.03362061,\n",
      "        4.67832756, -9.99371082,  6.11317481,  8.05452343,  7.78488308,\n",
      "        8.02274611,  1.17489293,  0.98096086,  8.45312638, -0.7615674 ,\n",
      "       -4.89245444,  9.60281654, -0.06223631, -3.92502072,  9.67772462,\n",
      "        8.41164644,  9.95396728,  4.48997307,  9.5848077 ,  9.46872204,\n",
      "        6.51977705,  9.27774466,  9.9991046 ,  9.93674213,  9.94105696,\n",
      "       -2.95547145, -4.25266969, -4.97685457, -7.37200155, -2.25402652,\n",
      "        3.36131626,  0.25389929,  8.3563896 , -9.85843525,  4.34260676,\n",
      "       -7.05042457,  2.75251396]), fbest=0.045987800564522285, evals_best=14713, evaluations=15000, iterations=1000, xfavorite=array([-11.6823793 ,  -9.18114967,  11.58788346,   9.14019909,\n",
      "         0.63890549,   4.47830137, -11.7713151 ,   7.19196893,\n",
      "         7.98524176,   6.89532087,  12.12737236,   0.55637888,\n",
      "         0.9936264 ,   9.36434422,   0.17127717,  -5.56691383,\n",
      "        11.74816059,  -0.19595326,  -3.96882513,  12.00398757,\n",
      "        -9.02825381, -11.74043188,   4.71582914, -10.43843837,\n",
      "         9.92628879,  15.09608325,   9.33459994, -10.31668629,\n",
      "       -12.89564718, -11.35369737,  -3.1236617 ,  -4.54493095,\n",
      "       -15.13840299,  -7.72328247,  -1.41402761,   4.31239702,\n",
      "       -21.63230063,   8.52251295, -11.41713081,  16.55554805,\n",
      "        -7.50603086,   3.06989311]), stds=array([0.31726581, 0.30130199, 0.22591735, 0.33977388, 0.3281408 ,\n",
      "       0.29801529, 0.31838146, 0.35566404, 0.28014384, 0.32024671,\n",
      "       0.27411182, 0.34300816, 0.03815741, 0.3127673 , 0.30365875,\n",
      "       0.30151769, 0.35235493, 0.32809916, 0.30001382, 0.28323516,\n",
      "       0.25604317, 0.31246371, 0.22893161, 0.342995  , 0.35801076,\n",
      "       0.35494611, 0.26515963, 0.28179282, 0.36016266, 0.29458042,\n",
      "       0.21802107, 0.31610811, 0.32904025, 0.29584341, 0.29226334,\n",
      "       0.29846492, 0.33182694, 0.34335235, 0.36985248, 0.30486009,\n",
      "       0.30685808, 0.22283537]))\n"
     ]
    },
    {
     "data": {
      "text/plain": [
       "array([-9.79927155, -8.8572008 ,  9.78484977,  9.11382857,  0.03362061,\n",
       "        4.67832756, -9.99371082,  6.11317481,  8.05452343,  7.78488308,\n",
       "        8.02274611,  1.17489293,  0.98096086,  8.45312638, -0.7615674 ,\n",
       "       -4.89245444,  9.60281654, -0.06223631, -3.92502072,  9.67772462,\n",
       "        8.41164644,  9.95396728,  4.48997307,  9.5848077 ,  9.46872204,\n",
       "        6.51977705,  9.27774466,  9.9991046 ,  9.93674213,  9.94105696,\n",
       "       -2.95547145, -4.25266969, -4.97685457, -7.37200155, -2.25402652,\n",
       "        3.36131626,  0.25389929,  8.3563896 , -9.85843525,  4.34260676,\n",
       "       -7.05042457,  2.75251396])"
      ]
     },
     "execution_count": 106,
     "metadata": {},
     "output_type": "execute_result"
    }
   ],
   "source": [
    "M = mdl.Model()\n",
    "\n",
    "M.add(layers.DiagExpectationUnitLayer(1,10, Wmax=0.5,Qmax=1,param_bound=10, phase=1j))\n",
    "M.add(layers.DiagExpectationUnitLayer(10,1, Wmax=0.5,Qmax=1,param_bound=10, phase=1j))\n",
    "\n",
    "minim = minimizer.CMA(parallel=False)\n",
    "minim.train(mse(), M, X, Y, maxiter=1000)"
   ]
  },
  {
   "cell_type": "code",
   "execution_count": 107,
   "metadata": {},
   "outputs": [
    {
     "data": {
      "text/plain": [
       "<matplotlib.legend.Legend at 0x7f178fb53e50>"
      ]
     },
     "execution_count": 107,
     "metadata": {},
     "output_type": "execute_result"
    },
    {
     "data": {
      "image/png": "[encoded data removed]",
      "text/plain": [
       "<matplotlib.figure.Figure at 0x7f178d184250>"
      ]
     },
     "metadata": {},
     "output_type": "display_data"
    }
   ],
   "source": [
    "npoints = 500\n",
    "test_X = (np.linspace(0, 30, npoints)).reshape((1, npoints))\n",
    "\n",
    "plt.plot(X.flatten(), Y.flatten(),\"og-\", label='target')\n",
    "plt.plot(test_X.flatten(), np.real(M.predict(test_X)).flatten(),\"ob-\", label='fit')\n",
    "#plt.savefig(\"sawtooth_reg.eps\", format=\"eps\")\n",
    "plt.legend()"
   ]
  },
  {
   "cell_type": "code",
   "execution_count": null,
   "metadata": {},
   "outputs": [],
   "source": []
  },
  {
   "cell_type": "markdown",
   "metadata": {
    "collapsed": true
   },
   "source": [
    "# Example 3: MNIST (work in progress...)"
   ]
  },
  {
   "cell_type": "code",
   "execution_count": null,
   "metadata": {},
   "outputs": [],
   "source": [
    "# Load MNIST dataset\n",
    "MNIST_train = pd.read_csv('~/data/mnist_train.csv', delimiter=\",\",header=None).values\n",
    "MNIST_test  = pd.read_csv('~/data/mnist_test.csv', delimiter=\",\",header=None).values\n",
    "\n",
    "# Prepare data (normalized onto [0,1])\n",
    "Y_train = MNIST_train[0:10000,0]\n",
    "X_train = MNIST_train[0:10000,1:]/255.0\n",
    "\n",
    "Y_test = MNIST_test[:,0]\n",
    "X_test = MNIST_test[:,1:]/255.0"
   ]
  },
  {
   "cell_type": "code",
   "execution_count": null,
   "metadata": {},
   "outputs": [],
   "source": [
    "M = mdl.Model()\n",
    "#M.add(layers.Linear(784,1,paramBound=100))\n",
    "M.add(layers.DiagExpectationUnitLayer(784,1,Qmax=5,paramBound=5))\n",
    "#M.add(layers.DiagExpectationUnitLayer(784,10,Qmax=3,paramBound=5))\n",
    "#M.add(layers.DiagExpectationUnitLayer(25,10,Qmax=3,paramBound=5))\n",
    "#M.add(layers.DiagExpectationUnitLayer(10,1))\n",
    "#M.add(layers.SoftMaxLayer(10))\n",
    "#M.add(layers.MaxPosLayer(10,1))\n",
    "\n",
    "#enc = LabelBinarizer()\n",
    "#enc.fit(np.diag([1,1,1,1,1,1,1,1,1,1]))\n",
    "#enc.classes_ = [0, 1, 2, 3, 4, 5, 6, 7, 8, 9]\n",
    "#T=enc.transform(Y_train)\n"
   ]
  },
  {
   "cell_type": "code",
   "execution_count": null,
   "metadata": {
    "scrolled": true
   },
   "outputs": [],
   "source": [
    "minim = minimizer.CMA(True)\n",
    "\n",
    "sol=minim.train(mse(), M, np.transpose(X_train), np.transpose(Y_train), maxiter=1000)"
   ]
  },
  {
   "cell_type": "code",
   "execution_count": null,
   "metadata": {},
   "outputs": [],
   "source": [
    "#P=np.argmax(np.real(M.predict(np.transpose(X_train))),axis=0)\n",
    "P=np.abs(np.round(np.real(M.predict(np.transpose(X_train)))))\n",
    "\n",
    "\n",
    "print(classification_report(Y_train,P.T))\n",
    "print(confusion_matrix(Y_train, P.T))"
   ]
  },
  {
   "cell_type": "code",
   "execution_count": null,
   "metadata": {},
   "outputs": [],
   "source": [
    "#P=np.argmax(np.real(M.predict(np.transpose(X_test))),axis=0)\n",
    "P=np.abs(np.round(np.real(M.predict(np.transpose(X_test)))))\n",
    "\n",
    "\n",
    "print(classification_report(Y_test,P.T))\n",
    "print(confusion_matrix(Y_test, P.T))"
   ]
  },
  {
   "cell_type": "code",
   "execution_count": null,
   "metadata": {},
   "outputs": [],
   "source": []
  }
 ],
 "metadata": {
  "kernelspec": {
   "display_name": "Python 2",
   "language": "python",
   "name": "python2"
  },
  "language_info": {
   "codemirror_mode": {
    "name": "ipython",
    "version": 2
   },
   "file_extension": ".py",
   "mimetype": "text/x-python",
   "name": "python",
   "nbconvert_exporter": "python",
   "pygments_lexer": "ipython2",
   "version": "2.7.12"
  }
 },
 "nbformat": 4,
 "nbformat_minor": 2
}

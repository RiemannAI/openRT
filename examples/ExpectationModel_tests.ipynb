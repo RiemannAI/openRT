{
 "cells": [
  {
   "cell_type": "code",
   "execution_count": 1,
   "metadata": {},
   "outputs": [
    {
     "ename": "SyntaxError",
     "evalue": "invalid syntax (minimizer.py, line 184)",
     "output_type": "error",
     "traceback": [
      "\u001b[0;36m  File \u001b[0;32m\"/home/krefl/RTBM/rtbm/minimizer.py\"\u001b[0;36m, line \u001b[0;32m184\u001b[0m\n\u001b[0;31m    if i % log_step == 0:\u001b[0m\n\u001b[0m                        ^\u001b[0m\n\u001b[0;31mSyntaxError\u001b[0m\u001b[0;31m:\u001b[0m invalid syntax\n"
     ]
    }
   ],
   "source": [
    "import numpy as np\n",
    "import matplotlib.pyplot as plt\n",
    "import pandas as pd\n",
    "%matplotlib inline\n",
    "\n",
    "import rtbm.layers as layers\n",
    "import rtbm.model as mdl\n",
    "\n",
    "import warnings\n",
    "warnings.filterwarnings('ignore')\n",
    "\n",
    "from rtbm.costfunctions import mse, crossentropy\n",
    "from rtbm.activations import tanh, sigmoid\n",
    "from rtbm.initializers import uniform, normal\n",
    "\n",
    "from rtbm import minimizer\n",
    "\n",
    "from sklearn.metrics import confusion_matrix, classification_report\n",
    "from sklearn.preprocessing import LabelBinarizer\n",
    "\n",
    "from scipy import signal\n",
    "\n",
    "RTBM_precision= 1e-5"
   ]
  },
  {
   "cell_type": "markdown",
   "metadata": {},
   "source": [
    "# Example 1: Sine-Mixture with gaussian noise"
   ]
  },
  {
   "cell_type": "code",
   "execution_count": null,
   "metadata": {},
   "outputs": [],
   "source": [
    "def func(x,n):\n",
    "    return 0.5*np.sin(1*x+0.1)+0.75*np.sin(0.25*x-0.3)+n*np.random.normal(0,0.2,x.shape[2])\n",
    "\n",
    "X = np.linspace(0, 100, 500)\n",
    "X = X.reshape((1,X.shape[0]))\n",
    "\n",
    "Y = func(X[:,None],1).reshape((1,X.shape[1]))"
   ]
  },
  {
   "cell_type": "code",
   "execution_count": null,
   "metadata": {},
   "outputs": [],
   "source": [
    "plt.plot(X.flatten(), Y.flatten(),\"ob-\")"
   ]
  },
  {
   "cell_type": "code",
   "execution_count": null,
   "metadata": {},
   "outputs": [],
   "source": [
    "M = mdl.Model()\n",
<<<<<<< HEAD
    "M.add(layers.DiagExpectationUnitLayer(1,3))\n",
    "M.add(layers.DiagExpectationUnitLayer(3,3))\n",
    "M.add(layers.DiagExpectationUnitLayer(3,1))"
=======
    "M.add(layers.DiagExpectationUnitLayer(1,3,phase=1))\n",
    "M.add(layers.DiagExpectationUnitLayer(3,3,phase=1))\n",
    "M.add(layers.DiagExpectationUnitLayer(3,1,phase=1))\n",
    "\n",
    "print(M.get_layer(2)._w)"
>>>>>>> softmax
   ]
  },
  {
   "cell_type": "code",
   "execution_count": null,
   "metadata": {
    "scrolled": true
   },
   "outputs": [],
   "source": [
<<<<<<< HEAD
    "minim = minimizer.CMA(parallel=False)\n",
    "minim.train(mse(), M, X, Y, maxiter=500)"
=======
    "minim = minimizer.CMA(False)\n",
    "minim.train(mse(), M, X, Y, maxiter=4000)"
>>>>>>> softmax
   ]
  },
  {
   "cell_type": "code",
   "execution_count": null,
   "metadata": {},
   "outputs": [],
   "source": [
    "npoints = 500\n",
    "test_X = (np.linspace(0, 100, npoints)).reshape((1, npoints))\n",
    "\n",
    "plt.plot(X.flatten(), Y.flatten(),\"og-\", label='target')\n",
    "plt.plot(test_X.flatten(), np.real(M.predict(test_X)).flatten(),\"b-\", label='fit')\n",
    "plt.legend()"
   ]
  },
  {
   "cell_type": "code",
   "execution_count": null,
   "metadata": {},
   "outputs": [],
   "source": [
    "M.get_layer(1)._Nout"
   ]
  },
  {
   "cell_type": "code",
   "execution_count": null,
   "metadata": {},
   "outputs": [],
   "source": [
    "M.get_layer(1).show_activation(1,10)"
   ]
  },
  {
   "cell_type": "code",
   "execution_count": 7,
   "metadata": {},
   "outputs": [],
   "source": [
    "M = mdl.Model()\n",
    "\n",
    "M.add(layers.DiagExpectationUnitLayer(1,2))\n",
    "M.add(layers.DiagExpectationUnitLayer(2,2))\n",
    "M.add(layers.DiagExpectationUnitLayer(2,1))\n",
    "\n",
    "minim = minimizer.SGD()\n",
    "minim.train(mse(), M, X, Y, lr=0.1, maxiter=1000, nesterov=True,momentum=0.1, batch_size=100)"
   ]
  },
  {
   "cell_type": "code",
   "execution_count": null,
   "metadata": {},
   "outputs": [],
   "source": [
    "M.get_layer(1).show_activation(1,1)"
   ]
  },
  {
   "cell_type": "code",
   "execution_count": 6,
   "metadata": {},
   "outputs": [
    {
     "data": {
      "text/plain": [
       "<matplotlib.legend.Legend at 0x7f066491c990>"
      ]
     },
     "execution_count": 6,
     "metadata": {},
     "output_type": "execute_result"
    },
    {
     "data": {
      "image/png": "iVBORw0KGgoAAAANSUhEUgAAAYAAAAD8CAYAAAB+UHOxAAAABHNCSVQICAgIfAhkiAAAAAlwSFlz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\nRU5ErkJggg==\n",
      "text/plain": [
       "<matplotlib.figure.Figure at 0x7f06649aab90>"
      ]
     },
     "metadata": {},
     "output_type": "display_data"
    }
   ],
   "source": [
    "npoints = 500\n",
    "test_X = (np.linspace(0, 100, npoints)).reshape((1, npoints))\n",
    "\n",
    "plt.plot(X.flatten(), Y.flatten(),\"og-\", label='target')\n",
    "plt.plot(test_X.flatten(), np.real(M.predict(test_X)).flatten(),\"ob-\", label='fit')\n",
    "plt.legend()"
   ]
  },
  {
   "cell_type": "markdown",
   "metadata": {},
   "source": [
    "# Example 2: Sine-Cosine-Mixture with trend and gaussian noise"
   ]
  },
  {
   "cell_type": "code",
   "execution_count": null,
   "metadata": {},
   "outputs": [],
   "source": [
    "def func(x,n):\n",
    "    return 0.02*x+0.5*np.sin(1*x+0.1)+0.75*np.cos(0.25*x-0.3)+n*np.random.normal(0,0.2,x.shape[2])\n",
    "\n",
    "X = np.linspace(0, 100, 500)\n",
    "X = X.reshape((1,X.shape[0]))\n",
    "\n",
    "Y = func(X[:,None],1).reshape((1,X.shape[1]))"
   ]
  },
  {
   "cell_type": "code",
   "execution_count": null,
   "metadata": {},
   "outputs": [],
   "source": [
    "Y = func(X[:,None],0).reshape((1,X.shape[1]))\n",
    "\n",
    "plt.plot(X.flatten(), Y.flatten(),\"-\")\n",
    "plt.xlabel(\"t\")\n",
    "plt.ylabel(\"y\")\n",
    "plt.savefig(\"sincosmix.eps\", format=\"eps\")\n",
    "plt.show()\n"
   ]
  },
  {
   "cell_type": "code",
   "execution_count": null,
   "metadata": {},
   "outputs": [],
   "source": [
    "Y = func(X[:,None],1).reshape((1,X.shape[1]))\n",
    "\n",
    "plt.plot(X.flatten(), Y.flatten(),\"-\")\n",
    "plt.xlabel(\"t\")\n",
    "plt.ylabel(\"y\")\n",
    "plt.savefig(\"sincosmix_noise.eps\", format=\"eps\")\n",
    "\n",
    "plt.show()\n",
    "\n"
   ]
  },
  {
   "cell_type": "code",
   "execution_count": null,
   "metadata": {},
   "outputs": [],
   "source": [
    "M = mdl.Model()\n",
    "\n",
    "M.add(layers.DiagExpectationUnitLayer(1,3))\n",
    "M.add(layers.DiagExpectationUnitLayer(3,3))\n",
    "M.add(layers.DiagExpectationUnitLayer(3,2))\n",
    "M.add(layers.DiagExpectationUnitLayer(2,1))"
   ]
  },
  {
   "cell_type": "code",
   "execution_count": null,
   "metadata": {},
   "outputs": [],
   "source": [
    "minim = minimizer.CMA(parallel=True)\n",
    "minim.train(mse(), M, X, Y, tolfun=1e-4)"
   ]
  },
  {
   "cell_type": "code",
   "execution_count": null,
   "metadata": {},
   "outputs": [],
   "source": [
    "npoints = 500\n",
    "test_X = (np.linspace(0, 100, npoints)).reshape((1, npoints))\n",
    "\n",
    "plt.plot(X.flatten(), Y.flatten(),\"og\", label='train')\n",
    "plt.plot(test_X.flatten(), np.real(M.predict(test_X)).flatten(),\"b-\", label='fit', linewidth=5)\n",
    "plt.legend()\n",
    "plt.xlabel(\"t\")\n",
    "plt.ylabel(\"y\")\n",
    "plt.savefig(\"sincosmix_10-4.eps\", format=\"eps\")\n",
    "plt.show()"
   ]
  },
  {
   "cell_type": "markdown",
   "metadata": {},
   "source": [
    "# Example: Intrawave modulation"
   ]
  },
  {
   "cell_type": "code",
   "execution_count": null,
   "metadata": {},
   "outputs": [],
   "source": [
    "def func(x,n):\n",
    "    return np.cos(0.01*x+0.5*np.cos(0.05*x))/(2+np.sin(0.04*x))\n",
    "\n",
    "X = np.linspace(0, 1000, 1000)\n",
    "X = X.reshape((1,X.shape[0]))\n",
    "\n",
    "Y = func(X[:,None],1).reshape((1,X.shape[1]))\n",
    "\n",
    "plt.plot(X.flatten(), Y.flatten(),\"b-\")"
   ]
  },
  {
   "cell_type": "code",
   "execution_count": null,
   "metadata": {},
   "outputs": [],
   "source": [
    "M = mdl.Model()\n",
    "\n",
    "M.add(layers.DiagExpectationUnitLayer(1,5, phase=1j))\n",
    "M.add(layers.DiagExpectationUnitLayer(5,5, phase=1j))\n",
    "M.add(layers.DiagExpectationUnitLayer(5,3, phase=1j))\n",
    "M.add(layers.DiagExpectationUnitLayer(3,1, phase=1j))"
   ]
  },
  {
   "cell_type": "code",
   "execution_count": null,
   "metadata": {},
   "outputs": [],
   "source": [
    "minim = minimizer.CMA(False)\n",
    "minim.train(mse(), M, X, Y, maxiter=1000)"
   ]
  },
  {
   "cell_type": "code",
   "execution_count": null,
   "metadata": {},
   "outputs": [],
   "source": [
    "npoints = 1000\n",
    "test_X = (np.linspace(0, 1000, npoints)).reshape((1, npoints))\n",
    "\n",
    "plt.plot(X.flatten(), Y.flatten(),\"og\", label='train')\n",
    "plt.plot(test_X.flatten(), np.real(M.predict(test_X)).flatten(),\"b-\", label='fit', linewidth=5)\n",
    "plt.legend()\n",
    "plt.xlabel(\"t\")\n",
    "plt.ylabel(\"y\")"
   ]
  },
  {
   "cell_type": "markdown",
   "metadata": {},
   "source": [
    "# Example 3: Saw-tooth"
   ]
  },
  {
   "cell_type": "code",
   "execution_count": null,
   "metadata": {},
   "outputs": [],
   "source": [
    "def func(x,n):\n",
    "    return signal.sawtooth(x)\n",
    "\n",
    "X = np.linspace(0, 30, 500)\n",
    "X = X.reshape((1,X.shape[0]))\n",
    "\n",
    "Y = func(X[:,None],1).reshape((1,X.shape[1]))"
   ]
  },
  {
   "cell_type": "code",
   "execution_count": null,
   "metadata": {},
   "outputs": [],
   "source": [
    "plt.plot(X.flatten(), Y.flatten(),\"ob-\")"
   ]
  },
  {
   "cell_type": "code",
   "execution_count": null,
   "metadata": {},
   "outputs": [],
   "source": [
    "M = mdl.Model()\n",
    "\n",
    "M.add(layers.DiagExpectationUnitLayer(1,10, Wmax=0.5,Qmax=1,param_bound=10, phase=1j))\n",
    "M.add(layers.DiagExpectationUnitLayer(10,1, Wmax=0.5,Qmax=1,param_bound=10, phase=1j))\n",
    "\n",
    "minim = minimizer.CMA(parallel=False)\n",
    "minim.train(mse(), M, X, Y, maxiter=1000)"
   ]
  },
  {
   "cell_type": "code",
   "execution_count": null,
   "metadata": {},
   "outputs": [],
   "source": [
    "npoints = 500\n",
    "test_X = (np.linspace(0, 30, npoints)).reshape((1, npoints))\n",
    "\n",
    "plt.plot(X.flatten(), Y.flatten(),\"og-\", label='target')\n",
    "plt.plot(test_X.flatten(), np.real(M.predict(test_X)).flatten(),\"ob-\", label='fit')\n",
    "#plt.savefig(\"sawtooth_reg.eps\", format=\"eps\")\n",
    "plt.legend()"
   ]
  },
  {
   "cell_type": "code",
   "execution_count": null,
   "metadata": {},
   "outputs": [],
   "source": []
  },
  {
   "cell_type": "markdown",
   "metadata": {
    "collapsed": true
   },
   "source": [
    "# Example 3: MNIST (via CMA)"
   ]
  },
  {
   "cell_type": "code",
   "execution_count": null,
   "metadata": {},
   "outputs": [],
   "source": [
    "# Load MNIST dataset\n",
    "MNIST_train = pd.read_csv('~/data/mnist_train.csv', delimiter=\",\",header=None).values\n",
    "MNIST_test  = pd.read_csv('~/data/mnist_test.csv', delimiter=\",\",header=None).values\n",
    "\n",
    "# Prepare data (normalized onto [0,1])\n",
    "Y_train = MNIST_train[0:10000,0]\n",
    "X_train = MNIST_train[0:10000,1:]/255.0\n",
    "\n",
    "Y_test = MNIST_test[:,0]\n",
    "X_test = MNIST_test[:,1:]/255.0\n",
    "\n",
    "enc = LabelBinarizer()\n",
    "enc.fit(np.diag([1,1,1,1,1,1,1,1,1,1]))\n",
    "enc.classes_ = [0, 1, 2, 3, 4, 5, 6, 7, 8, 9]\n",
    "T=enc.transform(Y_train).T\n"
   ]
  },
  {
   "cell_type": "code",
   "execution_count": 3,
   "metadata": {},
   "outputs": [],
   "source": [
    "M = mdl.Model()\n",
    "M.add(layers.DiagExpectationUnitLayer(784,10, param_bound=50))\n",
    "#M.add(layers.DiagExpectationUnitLayer(10,10))\n",
    "#M.add(layers.DiagExpectationUnitLayer(10,10))\n",
    "M.add(layers.SoftMaxLayer(10))"
   ]
  },
  {
   "cell_type": "code",
   "execution_count": null,
   "metadata": {
    "scrolled": true
   },
   "outputs": [],
   "source": [
    "minim = minimizer.CMA(False)\n",
    "\n",
    "sol=minim.train(mse(), M, np.transpose(X_train), T, maxiter=100)"
   ]
  },
  {
   "cell_type": "code",
   "execution_count": null,
   "metadata": {},
   "outputs": [],
   "source": [
    "P=np.argmax(M.predict(np.transpose(X_train)),axis=0)\n",
    "\n",
    "print(classification_report(Y_train,P.T))\n",
    "print(confusion_matrix(Y_train, P.T))"
   ]
  },
  {
   "cell_type": "code",
   "execution_count": null,
   "metadata": {
    "scrolled": true
   },
   "outputs": [],
   "source": [
    "P=np.argmax(M.predict(np.transpose(X_test)),axis=0)\n",
    "\n",
    "\n",
    "print(classification_report(Y_test,P.T))\n",
    "print(confusion_matrix(Y_test, P.T))"
   ]
  },
  {
   "cell_type": "code",
   "execution_count": null,
   "metadata": {},
   "outputs": [],
   "source": [
    "M.get_layer(1).show_activation(10,1)"
   ]
  },
  {
   "cell_type": "markdown",
   "metadata": {},
   "source": [
    "# Example 4: MNIST (via SGD)"
   ]
  },
  {
   "cell_type": "code",
   "execution_count": null,
   "metadata": {},
   "outputs": [],
   "source": [
    "M = mdl.Model()\n",
    "\n",
    "#M.add(layers.NonLinear(784,10,sigmoid()))\n",
    "M.add(layers.DiagExpectationUnitLayer(784,10))\n",
    "\n",
    "M.add(layers.Linear(10,10))\n",
    "M.add(layers.SoftMaxLayer(10))\n"
   ]
  },
  {
   "cell_type": "code",
   "execution_count": null,
   "metadata": {},
   "outputs": [],
   "source": [
    "minim = minimizer.SGD()\n",
    "\n",
    "sol=minim.train(mse(), M, np.transpose(X_train), T, lr=0.001, decay=0.01, maxiter=100, log_step=10, batch_size=1000)"
   ]
  },
  {
   "cell_type": "code",
   "execution_count": null,
   "metadata": {},
   "outputs": [],
   "source": [
    "P=np.argmax(M.predict(np.transpose(X_train)),axis=0)\n",
    "\n",
    "print(classification_report(Y_train,P.T))\n",
    "print(confusion_matrix(Y_train, P.T))"
   ]
  },
  {
   "cell_type": "code",
   "execution_count": null,
   "metadata": {},
   "outputs": [],
   "source": [
    "P=np.argmax(M.predict(np.transpose(X_test)),axis=0)\n",
    "\n",
    "\n",
    "print(classification_report(Y_test,P.T))\n",
    "print(confusion_matrix(Y_test, P.T))"
   ]
  },
  {
   "cell_type": "code",
   "execution_count": null,
   "metadata": {},
   "outputs": [],
   "source": [
    "M.get_layer(1).show_activation(10,10)"
   ]
  },
  {
   "cell_type": "code",
   "execution_count": null,
   "metadata": {},
   "outputs": [],
   "source": []
  },
  {
   "cell_type": "code",
   "execution_count": null,
   "metadata": {},
   "outputs": [],
   "source": []
  }
 ],
 "metadata": {
  "kernelspec": {
   "display_name": "Python 2",
   "language": "python",
   "name": "python2"
  }
 },
 "nbformat": 4,
 "nbformat_minor": 2
}

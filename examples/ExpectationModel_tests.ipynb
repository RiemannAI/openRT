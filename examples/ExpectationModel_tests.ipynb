{
 "cells": [
  {
   "cell_type": "code",
   "execution_count": 1,
   "metadata": {},
   "outputs": [
    {
     "name": "stdout",
     "output_type": "stream",
     "text": [
      "The history saving thread hit an unexpected error (DatabaseError('database disk image is malformed',)).History will not be written to the database.\n"
     ]
    }
   ],
   "source": [
    "import numpy as np\n",
    "import matplotlib.pyplot as plt\n",
    "import pandas as pd\n",
    "%matplotlib inline\n",
    "\n",
    "import rtbm.layers as layers\n",
    "import rtbm.model as mdl\n",
    "\n",
    "import warnings\n",
    "warnings.filterwarnings('ignore')\n",
    "\n",
    "from rtbm.costfunctions import mse, crossentropy\n",
    "from rtbm import minimizer\n",
    "\n",
    "from sklearn.metrics import confusion_matrix, classification_report\n",
    "from sklearn.preprocessing import LabelBinarizer\n",
    "\n",
    "from scipy import signal\n",
    "\n",
    "RTBM_precision= 1e-5"
   ]
  },
  {
   "cell_type": "markdown",
   "metadata": {},
   "source": [
    "# Example 1: Sine-Mixture with gaussian noise"
   ]
  },
  {
   "cell_type": "code",
   "execution_count": 2,
   "metadata": {},
   "outputs": [],
   "source": [
    "def func(x,n):\n",
    "    return 0.5*np.sin(1*x+0.1)+0.75*np.sin(0.25*x-0.3)+n*np.random.normal(0,0.2,x.shape[2])\n",
    "\n",
    "X = np.linspace(0, 100, 500)\n",
    "X = X.reshape((1,X.shape[0]))\n",
    "\n",
    "Y = func(X[:,None],1).reshape((1,X.shape[1]))"
   ]
  },
  {
   "cell_type": "code",
   "execution_count": 3,
   "metadata": {},
   "outputs": [
    {
     "data": {
      "text/plain": [
       "[<matplotlib.lines.Line2D at 0x7f255c15fa90>]"
      ]
     },
     "execution_count": 3,
     "metadata": {},
     "output_type": "execute_result"
    },
    {
     "data": {
      "image/png": "[encoded data removed]",
      "text/plain": [
       "<matplotlib.figure.Figure at 0x7f25a2736050>"
      ]
     },
     "metadata": {},
     "output_type": "display_data"
    }
   ],
   "source": [
    "plt.plot(X.flatten(), Y.flatten(),\"ob-\")"
   ]
  },
  {
   "cell_type": "code",
   "execution_count": 4,
   "metadata": {},
   "outputs": [],
   "source": [
    "M = mdl.Model()\n",
    "M.add(layers.DiagExpectationUnitLayer(1,3,phase=1))\n",
    "M.add(layers.DiagExpectationUnitLayer(3,3,phase=1))\n",
    "M.add(layers.DiagExpectationUnitLayer(3,1,phase=1))"
   ]
  },
  {
   "cell_type": "code",
   "execution_count": null,
   "metadata": {
    "scrolled": true
   },
   "outputs": [
    {
     "name": "stdout",
     "output_type": "stream",
     "text": [
      "CMA on 1 cpu(s) enabled\n",
      "(7_w,14)-aCMA-ES (mu_w=4.3,w_1=36%) in dimension 29 (seed=953849, Sat Nov  4 12:51:47 2017)\n",
      "Iterat #Fevals   function value  axis ratio  sigma  min&max std  t[m:s]\n",
      "    1     14 2.438403710510813e-01 1.0e+00 9.39e-01  9e-01  9e-01 0:00.3\n",
      "    2     28 2.229814103460517e-01 1.1e+00 9.13e-01  9e-01  9e-01 0:00.6\n",
      "    3     42 2.316499914008984e-01 1.1e+00 9.15e-01  9e-01  9e-01 0:00.9\n",
      "   14    196 2.306137195790551e-01 1.3e+00 8.62e-01  8e-01  9e-01 0:03.9\n",
      "   31    434 2.293270082949347e-01 1.4e+00 7.36e-01  7e-01  8e-01 0:08.1\n",
      "   52    728 2.190182555146713e-01 1.6e+00 5.45e-01  5e-01  6e-01 0:13.2\n",
      "   77   1078 2.144205122575442e-01 1.7e+00 4.60e-01  4e-01  5e-01 0:19.3\n",
      "  100   1400 2.097918802737734e-01 2.0e+00 4.67e-01  4e-01  5e-01 0:24.9\n",
      "  133   1862 2.102295645841527e-01 2.4e+00 3.72e-01  3e-01  4e-01 0:32.9\n",
      "  171   2394 2.092004238937246e-01 2.9e+00 3.05e-01  2e-01  3e-01 0:42.2\n",
      "  200   2800 2.058866206951860e-01 3.2e+00 2.84e-01  2e-01  3e-01 0:49.2\n",
      "  246   3444 1.958870196742521e-01 3.5e+00 1.49e-01  1e-01  2e-01 1:00.3\n",
      "  296   4144 1.944179116394800e-01 4.9e+00 9.73e-02  7e-02  1e-01 1:12.5\n",
      "  300   4200 1.950439739459811e-01 5.0e+00 9.46e-02  7e-02  1e-01 1:13.5\n",
      "  358   5012 1.933229258340692e-01 6.5e+00 5.70e-02  4e-02  6e-02 1:27.7\n",
      "  400   5600 1.922913589941764e-01 7.6e+00 4.43e-02  2e-02  5e-02 1:37.9\n",
      "  466   6524 1.908497224338938e-01 9.6e+00 1.51e-02  6e-03  2e-02 1:54.0\n",
      "  500   7000 1.899148161761074e-01 1.5e+01 1.99e-02  7e-03  3e-02 2:02.3\n",
      "  574   8036 1.835471004260435e-01 4.7e+01 3.78e-02  9e-03  9e-02 2:20.3\n",
      "  600   8400 1.762166499664265e-01 5.2e+01 5.42e-02  1e-02  1e-01 2:26.6\n",
      "  683   9562 1.705194078999142e-01 7.1e+01 3.68e-02  7e-03  9e-02 2:46.6\n",
      "  700   9800 1.674876543387670e-01 8.4e+01 4.75e-02  9e-03  1e-01 2:50.7\n",
      "  791  11074 1.565942068528035e-01 9.4e+01 4.49e-02  8e-03  1e-01 3:12.8\n",
      "  800  11200 1.557813078343395e-01 9.3e+01 3.83e-02  6e-03  1e-01 3:15.0\n",
      "  899  12586 9.883522096890705e-02 8.5e+01 1.46e-01  2e-02  4e-01 3:39.1\n",
      "  900  12600 9.483911115130332e-02 8.5e+01 1.47e-01  2e-02  4e-01 3:39.4\n",
      " 1000  14000 6.855436048424778e-02 8.9e+01 3.64e-02  4e-03  8e-02 4:04.0\n",
      "Iterat #Fevals   function value  axis ratio  sigma  min&max std  t[m:s]\n",
      " 1100  15400 5.659723654984617e-02 1.1e+02 5.04e-02  5e-03  9e-02 4:28.8\n",
      " 1200  16800 4.840341389482465e-02 1.3e+02 1.91e-02  2e-03  3e-02 4:53.5\n",
      " 1300  18200 4.376371666039885e-02 1.8e+02 2.62e-02  2e-03  5e-02 5:18.2\n",
      " 1400  19600 4.024615147217029e-02 2.1e+02 2.72e-02  1e-03  5e-02 5:42.9\n",
      " 1500  21000 3.365259362336437e-02 2.8e+02 2.86e-02  1e-03  6e-02 6:07.5\n",
      " 1600  22400 3.127962216672520e-02 3.0e+02 3.08e-02  1e-03  6e-02 6:32.2\n"
     ]
    }
   ],
   "source": [
    "minim = minimizer.CMA(parallel=False)\n",
    "minim.train(mse(), M, X, Y, tolfun=1e-4)"
   ]
  },
  {
   "cell_type": "code",
   "execution_count": null,
   "metadata": {},
   "outputs": [],
   "source": [
    "npoints = 500\n",
    "test_X = (np.linspace(0, 100, npoints)).reshape((1, npoints))\n",
    "\n",
    "plt.plot(X.flatten(), Y.flatten(),\"og-\", label='target')\n",
    "plt.plot(test_X.flatten(), np.real(M.predict(test_X)).flatten(),\"bo-\", label='fit')\n",
    "plt.legend()"
   ]
  },
  {
   "cell_type": "code",
   "execution_count": null,
   "metadata": {},
   "outputs": [],
   "source": [
    "M = mdl.Model()\n",
    "\n",
    "M.add(layers.DiagExpectationUnitLayer(1,3))\n",
    "M.add(layers.DiagExpectationUnitLayer(3,3))\n",
    "M.add(layers.DiagExpectationUnitLayer(3,1))\n",
    "\n",
    "minim = minimizer.SGD()\n",
    "minim.train(mse(), M, X, Y, lr=0.0001, momentum=0.5,nesterov=True,noise=0.001, maxiter=2000)"
   ]
  },
  {
   "cell_type": "code",
   "execution_count": null,
   "metadata": {},
   "outputs": [],
   "source": [
    "npoints = 500\n",
    "test_X = (np.linspace(0, 100, npoints)).reshape((1, npoints))\n",
    "\n",
    "plt.plot(X.flatten(), Y.flatten(),\"og-\", label='target')\n",
    "plt.plot(test_X.flatten(), np.real(M.predict(test_X)).flatten(),\"ob-\", label='fit')\n",
    "plt.legend()"
   ]
  },
  {
   "cell_type": "markdown",
   "metadata": {},
   "source": [
    "# Example 2: Sine-Cosine-Mixture with trend and gaussian noise"
   ]
  },
  {
   "cell_type": "code",
   "execution_count": null,
   "metadata": {},
   "outputs": [],
   "source": [
    "def func(x,n):\n",
    "    return 0.02*x+0.5*np.sin(1*x+0.1)+0.75*np.cos(0.25*x-0.3)+n*np.random.normal(0,0.2,x.shape[2])\n",
    "\n",
    "X = np.linspace(0, 100, 500)\n",
    "X = X.reshape((1,X.shape[0]))\n",
    "\n",
    "Y = func(X[:,None],1).reshape((1,X.shape[1]))"
   ]
  },
  {
   "cell_type": "code",
   "execution_count": null,
   "metadata": {},
   "outputs": [],
   "source": [
    "Y = func(X[:,None],0).reshape((1,X.shape[1]))\n",
    "\n",
    "plt.plot(X.flatten(), Y.flatten(),\"-\")\n",
    "plt.xlabel(\"t\")\n",
    "plt.ylabel(\"y\")\n",
    "plt.savefig(\"sincosmix.eps\", format=\"eps\")\n",
    "plt.show()\n"
   ]
  },
  {
   "cell_type": "code",
   "execution_count": null,
   "metadata": {},
   "outputs": [],
   "source": [
    "Y = func(X[:,None],1).reshape((1,X.shape[1]))\n",
    "\n",
    "plt.plot(X.flatten(), Y.flatten(),\"-\")\n",
    "plt.xlabel(\"t\")\n",
    "plt.ylabel(\"y\")\n",
    "plt.savefig(\"sincosmix_noise.eps\", format=\"eps\")\n",
    "\n",
    "plt.show()\n",
    "\n"
   ]
  },
  {
   "cell_type": "code",
   "execution_count": null,
   "metadata": {},
   "outputs": [],
   "source": [
    "M = mdl.Model()\n",
    "\n",
    "M.add(layers.DiagExpectationUnitLayer(1,3))\n",
    "M.add(layers.DiagExpectationUnitLayer(3,3))\n",
    "M.add(layers.DiagExpectationUnitLayer(3,2))\n",
    "M.add(layers.DiagExpectationUnitLayer(2,1))"
   ]
  },
  {
   "cell_type": "code",
   "execution_count": null,
   "metadata": {},
   "outputs": [],
   "source": [
    "minim = minimizer.CMA(parallel=True)\n",
    "minim.train(mse(), M, X, Y, tolfun=1e-4)"
   ]
  },
  {
   "cell_type": "code",
   "execution_count": null,
   "metadata": {},
   "outputs": [],
   "source": [
    "npoints = 500\n",
    "test_X = (np.linspace(0, 100, npoints)).reshape((1, npoints))\n",
    "\n",
    "plt.plot(X.flatten(), Y.flatten(),\"og\", label='train')\n",
    "plt.plot(test_X.flatten(), np.real(M.predict(test_X)).flatten(),\"b-\", label='fit', linewidth=5)\n",
    "plt.legend()\n",
    "plt.xlabel(\"t\")\n",
    "plt.ylabel(\"y\")\n",
    "plt.savefig(\"sincosmix_10-4.eps\", format=\"eps\")\n",
    "plt.show()"
   ]
  },
  {
   "cell_type": "markdown",
   "metadata": {},
   "source": [
    "# Example: Intrawave modulation"
   ]
  },
  {
   "cell_type": "code",
   "execution_count": null,
   "metadata": {},
   "outputs": [],
   "source": [
    "def func(x,n):\n",
    "    return np.cos(0.01*x+0.5*np.cos(0.05*x))/(2+np.sin(0.04*x))\n",
    "\n",
    "X = np.linspace(0, 1000, 1000)\n",
    "X = X.reshape((1,X.shape[0]))\n",
    "\n",
    "Y = func(X[:,None],1).reshape((1,X.shape[1]))\n",
    "\n",
    "plt.plot(X.flatten(), Y.flatten(),\"b-\")"
   ]
  },
  {
   "cell_type": "code",
   "execution_count": null,
   "metadata": {},
   "outputs": [],
   "source": [
    "M = mdl.Model()\n",
    "\n",
    "M.add(layers.DiagExpectationUnitLayer(1,5))\n",
    "M.add(layers.DiagExpectationUnitLayer(5,5))\n",
    "M.add(layers.DiagExpectationUnitLayer(5,3))\n",
    "M.add(layers.DiagExpectationUnitLayer(3,1))"
   ]
  },
  {
   "cell_type": "code",
   "execution_count": null,
   "metadata": {},
   "outputs": [],
   "source": [
    "minim = minimizer.CMA(parallel=True)\n",
    "minim.train(mse(), M, X, Y, tolfun=1e-4)"
   ]
  },
  {
   "cell_type": "code",
   "execution_count": null,
   "metadata": {},
   "outputs": [],
   "source": [
    "npoints = 1000\n",
    "test_X = (np.linspace(0, 1000, npoints)).reshape((1, npoints))\n",
    "\n",
    "plt.plot(X.flatten(), Y.flatten(),\"og\", label='train')\n",
    "plt.plot(test_X.flatten(), np.real(M.predict(test_X)).flatten(),\"b-\", label='fit', linewidth=5)\n",
    "plt.legend()\n",
    "plt.xlabel(\"t\")\n",
    "plt.ylabel(\"y\")"
   ]
  },
  {
   "cell_type": "markdown",
   "metadata": {},
   "source": [
    "# Example 3: Saw-tooth"
   ]
  },
  {
   "cell_type": "code",
   "execution_count": null,
   "metadata": {},
   "outputs": [],
   "source": [
    "def func(x,n):\n",
    "    return signal.sawtooth(x)\n",
    "\n",
    "X = np.linspace(0, 30, 500)\n",
    "X = X.reshape((1,X.shape[0]))\n",
    "\n",
    "Y = func(X[:,None],1).reshape((1,X.shape[1]))"
   ]
  },
  {
   "cell_type": "code",
   "execution_count": null,
   "metadata": {},
   "outputs": [],
   "source": [
    "plt.plot(X.flatten(), Y.flatten(),\"ob-\")"
   ]
  },
  {
   "cell_type": "code",
   "execution_count": null,
   "metadata": {},
   "outputs": [],
   "source": [
    "M = mdl.Model()\n",
    "\n",
    "M.add(layers.DiagExpectationUnitLayer(1,10, Wmax=10,paramBound=20))\n",
    "M.add(layers.DiagExpectationUnitLayer(10,1, Wmax=10,paramBound=20))\n",
    "\n",
    "minim = minimizer.CMA(parallel=False)\n",
    "minim.train(mse(), M, X, Y, maxiter=200)"
   ]
  },
  {
   "cell_type": "code",
   "execution_count": null,
   "metadata": {},
   "outputs": [],
   "source": [
    "npoints = 500\n",
    "test_X = (np.linspace(0, 30, npoints)).reshape((1, npoints))\n",
    "\n",
    "plt.plot(X.flatten(), Y.flatten(),\"og-\", label='target')\n",
    "plt.plot(test_X.flatten(), np.real(M.predict(test_X)).flatten(),\"ob-\", label='fit')\n",
    "#plt.savefig(\"sawtooth_reg.eps\", format=\"eps\")\n",
    "plt.legend()"
   ]
  },
  {
   "cell_type": "markdown",
   "metadata": {
    "collapsed": true
   },
   "source": [
    "# Example 3: MNIST (work in progress...)"
   ]
  },
  {
   "cell_type": "code",
   "execution_count": null,
   "metadata": {},
   "outputs": [],
   "source": [
    "# Load MNIST dataset\n",
    "MNIST_train = pd.read_csv('~/data/mnist_train.csv', delimiter=\",\",header=None).values\n",
    "MNIST_test  = pd.read_csv('~/data/mnist_test.csv', delimiter=\",\",header=None).values\n",
    "\n",
    "# Prepare data (normalized onto [0,1])\n",
    "Y_train = MNIST_train[0:10000,0]\n",
    "X_train = MNIST_train[0:10000,1:]/255.0\n",
    "\n",
    "Y_test = MNIST_test[:,0]\n",
    "X_test = MNIST_test[:,1:]/255.0"
   ]
  },
  {
   "cell_type": "code",
   "execution_count": null,
   "metadata": {},
   "outputs": [],
   "source": [
    "M = mdl.Model()\n",
    "#M.add(layers.Linear(784,1,paramBound=100))\n",
    "M.add(layers.DiagExpectationUnitLayer(784,1,Qmax=5,paramBound=5))\n",
    "#M.add(layers.DiagExpectationUnitLayer(784,10,Qmax=3,paramBound=5))\n",
    "#M.add(layers.DiagExpectationUnitLayer(25,10,Qmax=3,paramBound=5))\n",
    "#M.add(layers.DiagExpectationUnitLayer(10,1))\n",
    "#M.add(layers.SoftMaxLayer(10))\n",
    "#M.add(layers.MaxPosLayer(10,1))\n",
    "\n",
    "#enc = LabelBinarizer()\n",
    "#enc.fit(np.diag([1,1,1,1,1,1,1,1,1,1]))\n",
    "#enc.classes_ = [0, 1, 2, 3, 4, 5, 6, 7, 8, 9]\n",
    "#T=enc.transform(Y_train)\n"
   ]
  },
  {
   "cell_type": "code",
   "execution_count": null,
   "metadata": {
    "scrolled": true
   },
   "outputs": [],
   "source": [
    "minim = minimizer.CMA(True)\n",
    "\n",
    "sol=minim.train(mse(), M, np.transpose(X_train), np.transpose(Y_train), maxiter=1000)"
   ]
  },
  {
   "cell_type": "code",
   "execution_count": null,
   "metadata": {},
   "outputs": [],
   "source": [
    "#P=np.argmax(np.real(M.predict(np.transpose(X_train))),axis=0)\n",
    "P=np.abs(np.round(np.real(M.predict(np.transpose(X_train)))))\n",
    "\n",
    "\n",
    "print(classification_report(Y_train,P.T))\n",
    "print(confusion_matrix(Y_train, P.T))"
   ]
  },
  {
   "cell_type": "code",
   "execution_count": null,
   "metadata": {},
   "outputs": [],
   "source": [
    "#P=np.argmax(np.real(M.predict(np.transpose(X_test))),axis=0)\n",
    "P=np.abs(np.round(np.real(M.predict(np.transpose(X_test)))))\n",
    "\n",
    "\n",
    "print(classification_report(Y_test,P.T))\n",
    "print(confusion_matrix(Y_test, P.T))"
   ]
  },
  {
   "cell_type": "code",
   "execution_count": null,
   "metadata": {},
   "outputs": [],
   "source": []
  }
 ],
 "metadata": {
  "kernelspec": {
   "display_name": "Python 2",
   "language": "python",
   "name": "python2"
  },
  "language_info": {
   "codemirror_mode": {
    "name": "ipython",
    "version": 2
   },
   "file_extension": ".py",
   "mimetype": "text/x-python",
   "name": "python",
   "nbconvert_exporter": "python",
   "pygments_lexer": "ipython2",
   "version": "2.7.12"
  }
 },
 "nbformat": 4,
 "nbformat_minor": 2
}
